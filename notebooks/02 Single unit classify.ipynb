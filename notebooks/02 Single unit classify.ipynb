{
 "cells": [
  {
   "cell_type": "code",
   "execution_count": 1,
   "metadata": {},
   "outputs": [],
   "source": [
    "import pandas as pd\n",
    "import numpy as np\n",
    "import joblib\n",
    "from pathlib import Path\n",
    "from altair import Chart\n",
    "import altair as alt"
   ]
  },
  {
   "cell_type": "code",
   "execution_count": 2,
   "metadata": {},
   "outputs": [],
   "source": [
    "data_dir = Path(\".\").absolute().parent / \"data\"\n",
    "model_dir = data_dir / \"models\"\n",
    "\n",
    "df = pd.read_csv(data_dir / \"single_unit_dataset_tidied.csv\")\n",
    "X = df[[\"firing_rate\", \"cv-isi\"]].values\n",
    "le = joblib.load(model_dir / \"label_encoder.gz\")\n",
    "svm = joblib.load(model_dir / \"cluster_svm.gz\")\n",
    "scaler = joblib.load(model_dir / \"clustering_scaler.gz\")"
   ]
  },
  {
   "cell_type": "code",
   "execution_count": 3,
   "metadata": {},
   "outputs": [],
   "source": [
    "X = df[[\"firing_rate\", \"cv-isi\"]].values\n",
    "X = scaler.transform(X)\n",
    "labels = svm.predict(X)\n",
    "y_hat = le.inverse_transform(labels)\n",
    "df2 = (\n",
    "    pd.DataFrame(scaler.inverse_transform(X), columns=[\"Mean Firing Rate\", \"CV(ISI)\"])\n",
    "    .assign(cluster=y_hat)\n",
    ")"
   ]
  },
  {
   "cell_type": "code",
   "execution_count": 5,
   "metadata": {
    "scrolled": false
   },
   "outputs": [
    {
     "data": {
      "text/html": [
       "\n",
       "<div id=\"altair-viz-24ea2619a12748a3be5e30e2ba9ea2c1\"></div>\n",
       "<script type=\"text/javascript\">\n",
       "  (function(spec, embedOpt){\n",
       "    let outputDiv = document.currentScript.previousElementSibling;\n",
       "    if (outputDiv.id !== \"altair-viz-24ea2619a12748a3be5e30e2ba9ea2c1\") {\n",
       "      outputDiv = document.getElementById(\"altair-viz-24ea2619a12748a3be5e30e2ba9ea2c1\");\n",
       "    }\n",
       "    const paths = {\n",
       "      \"vega\": \"https://cdn.jsdelivr.net/npm//vega@5?noext\",\n",
       "      \"vega-lib\": \"https://cdn.jsdelivr.net/npm//vega-lib?noext\",\n",
       "      \"vega-lite\": \"https://cdn.jsdelivr.net/npm//vega-lite@4.8.1?noext\",\n",
       "      \"vega-embed\": \"https://cdn.jsdelivr.net/npm//vega-embed@6?noext\",\n",
       "    };\n",
       "\n",
       "    function loadScript(lib) {\n",
       "      return new Promise(function(resolve, reject) {\n",
       "        var s = document.createElement('script');\n",
       "        s.src = paths[lib];\n",
       "        s.async = true;\n",
       "        s.onload = () => resolve(paths[lib]);\n",
       "        s.onerror = () => reject(`Error loading script: ${paths[lib]}`);\n",
       "        document.getElementsByTagName(\"head\")[0].appendChild(s);\n",
       "      });\n",
       "    }\n",
       "\n",
       "    function showError(err) {\n",
       "      outputDiv.innerHTML = `<div class=\"error\" style=\"color:red;\">${err}</div>`;\n",
       "      throw err;\n",
       "    }\n",
       "\n",
       "    function displayChart(vegaEmbed) {\n",
       "      vegaEmbed(outputDiv, spec, embedOpt)\n",
       "        .catch(err => showError(`Javascript Error: ${err.message}<br>This usually means there's a typo in your chart specification. See the javascript console for the full traceback.`));\n",
       "    }\n",
       "\n",
       "    if(typeof define === \"function\" && define.amd) {\n",
       "      requirejs.config({paths});\n",
       "      require([\"vega-embed\"], displayChart, err => showError(`Error loading script: ${err.message}`));\n",
       "    } else if (typeof vegaEmbed === \"function\") {\n",
       "      displayChart(vegaEmbed);\n",
       "    } else {\n",
       "      loadScript(\"vega\")\n",
       "        .then(() => loadScript(\"vega-lite\"))\n",
       "        .then(() => loadScript(\"vega-embed\"))\n",
       "        .catch(showError)\n",
       "        .then(() => displayChart(vegaEmbed));\n",
       "    }\n",
       "  })({\"config\": {\"view\": {\"continuousWidth\": 400, \"continuousHeight\": 300}}, \"data\": {\"name\": \"data-0b8cc27c2c34132c4d695e89faa2795a\"}, \"mark\": \"point\", \"encoding\": {\"color\": {\"type\": \"nominal\", \"field\": \"cluster\"}, \"x\": {\"type\": \"quantitative\", \"field\": \"CV(ISI)\"}, \"y\": {\"type\": \"quantitative\", \"field\": \"Mean Firing Rate\"}}, \"$schema\": \"https://vega.github.io/schema/vega-lite/v4.8.1.json\", \"datasets\": {\"data-0b8cc27c2c34132c4d695e89faa2795a\": [{\"Mean Firing Rate\": 2.320274235, \"CV(ISI)\": 0.19120454799999997, \"cluster\": \"slow_regular\"}, {\"Mean Firing Rate\": 1.313012896, \"CV(ISI)\": 0.47325596200000003, \"cluster\": \"slow_regular\"}, {\"Mean Firing Rate\": 18.88213133, \"CV(ISI)\": 0.294250757, \"cluster\": \"fast_firing\"}, {\"Mean Firing Rate\": 2.718850212, \"CV(ISI)\": 0.290063828, \"cluster\": \"slow_regular\"}, {\"Mean Firing Rate\": 2.255826307, \"CV(ISI)\": 0.43668231399999996, \"cluster\": \"slow_regular\"}, {\"Mean Firing Rate\": 2.923350112, \"CV(ISI)\": 0.582801163, \"cluster\": \"slow_regular\"}, {\"Mean Firing Rate\": 2.952254407, \"CV(ISI)\": 0.37458583700000003, \"cluster\": \"slow_regular\"}, {\"Mean Firing Rate\": 3.3457831060000003, \"CV(ISI)\": 0.45134928799999996, \"cluster\": \"slow_regular\"}, {\"Mean Firing Rate\": 0.6086140900000001, \"CV(ISI)\": 2.300428867, \"cluster\": \"slow_irregular\"}, {\"Mean Firing Rate\": 1.583300978, \"CV(ISI)\": 0.42618721700000006, \"cluster\": \"slow_regular\"}, {\"Mean Firing Rate\": 2.276531566, \"CV(ISI)\": 0.653385997, \"cluster\": \"slow_regular\"}, {\"Mean Firing Rate\": 6.277106581, \"CV(ISI)\": 1.030956507, \"cluster\": \"fast_firing\"}, {\"Mean Firing Rate\": 1.00086516, \"CV(ISI)\": 1.359132051, \"cluster\": \"slow_irregular\"}, {\"Mean Firing Rate\": 4.173766669, \"CV(ISI)\": 0.225833938, \"cluster\": \"slow_regular\"}, {\"Mean Firing Rate\": 2.3487611569999998, \"CV(ISI)\": 0.647119999, \"cluster\": \"slow_regular\"}, {\"Mean Firing Rate\": 1.106031777, \"CV(ISI)\": 0.47354638600000004, \"cluster\": \"slow_regular\"}, {\"Mean Firing Rate\": 1.8666666669999998, \"CV(ISI)\": 1.1854298109999999, \"cluster\": \"slow_irregular\"}, {\"Mean Firing Rate\": 8.366666667, \"CV(ISI)\": 0.954802334, \"cluster\": \"fast_firing\"}, {\"Mean Firing Rate\": 5.15, \"CV(ISI)\": 0.433887243, \"cluster\": \"fast_firing\"}, {\"Mean Firing Rate\": 3.3051501510000003, \"CV(ISI)\": 0.520554066, \"cluster\": \"slow_regular\"}, {\"Mean Firing Rate\": 0.2250000000000001, \"CV(ISI)\": 0.98272723, \"cluster\": \"slow_irregular\"}, {\"Mean Firing Rate\": 18.96666667, \"CV(ISI)\": 0.5221683979999999, \"cluster\": \"fast_firing\"}, {\"Mean Firing Rate\": 1.4250000000000003, \"CV(ISI)\": 1.202326417, \"cluster\": \"slow_irregular\"}, {\"Mean Firing Rate\": 2.725, \"CV(ISI)\": 0.982085764, \"cluster\": \"slow_irregular\"}, {\"Mean Firing Rate\": 6.039675882999999, \"CV(ISI)\": 0.24016140399999997, \"cluster\": \"fast_firing\"}, {\"Mean Firing Rate\": 0.7768226490000001, \"CV(ISI)\": 1.070734978, \"cluster\": \"slow_irregular\"}, {\"Mean Firing Rate\": 2.6094751240000003, \"CV(ISI)\": 1.000668526, \"cluster\": \"slow_irregular\"}, {\"Mean Firing Rate\": 15.52963393, \"CV(ISI)\": 0.41667938200000004, \"cluster\": \"fast_firing\"}, {\"Mean Firing Rate\": 1.1583333330000003, \"CV(ISI)\": 0.555895805, \"cluster\": \"slow_regular\"}, {\"Mean Firing Rate\": 2.325, \"CV(ISI)\": 0.498083055, \"cluster\": \"slow_regular\"}, {\"Mean Firing Rate\": 4.325, \"CV(ISI)\": 1.5932906869999999, \"cluster\": \"fast_firing\"}, {\"Mean Firing Rate\": 2.045831572, \"CV(ISI)\": 1.5328350069999999, \"cluster\": \"slow_irregular\"}, {\"Mean Firing Rate\": 3.641666667, \"CV(ISI)\": 0.373438627, \"cluster\": \"slow_regular\"}, {\"Mean Firing Rate\": 2.55, \"CV(ISI)\": 0.523707986, \"cluster\": \"slow_regular\"}, {\"Mean Firing Rate\": 6.808333332999999, \"CV(ISI)\": 0.521098077, \"cluster\": \"fast_firing\"}, {\"Mean Firing Rate\": 0.6553316549999999, \"CV(ISI)\": 0.988909245, \"cluster\": \"slow_irregular\"}, {\"Mean Firing Rate\": 2.208333333, \"CV(ISI)\": 0.369240224, \"cluster\": \"slow_regular\"}, {\"Mean Firing Rate\": 0.5494075600000001, \"CV(ISI)\": 1.953949451, \"cluster\": \"slow_irregular\"}, {\"Mean Firing Rate\": 5.15, \"CV(ISI)\": 1.151615024, \"cluster\": \"fast_firing\"}, {\"Mean Firing Rate\": 2.175, \"CV(ISI)\": 0.351216078, \"cluster\": \"slow_regular\"}, {\"Mean Firing Rate\": 15.425, \"CV(ISI)\": 0.15098892200000003, \"cluster\": \"fast_firing\"}, {\"Mean Firing Rate\": 3.183333333, \"CV(ISI)\": 0.431232601, \"cluster\": \"slow_regular\"}, {\"Mean Firing Rate\": 0.49521950699999984, \"CV(ISI)\": 1.498642564, \"cluster\": \"slow_irregular\"}, {\"Mean Firing Rate\": 1.1583333330000003, \"CV(ISI)\": 1.2396111490000001, \"cluster\": \"slow_irregular\"}, {\"Mean Firing Rate\": 0.2486966559999999, \"CV(ISI)\": 1.107804537, \"cluster\": \"slow_irregular\"}, {\"Mean Firing Rate\": 0.07862147899999972, \"CV(ISI)\": 1.69527638, \"cluster\": \"slow_irregular\"}, {\"Mean Firing Rate\": 0.41087281099999995, \"CV(ISI)\": 1.088063955, \"cluster\": \"slow_irregular\"}, {\"Mean Firing Rate\": 1.5000777360000002, \"CV(ISI)\": 1.324007034, \"cluster\": \"slow_irregular\"}, {\"Mean Firing Rate\": 1.9765812919999999, \"CV(ISI)\": 0.44688344, \"cluster\": \"slow_regular\"}, {\"Mean Firing Rate\": 8.216666667, \"CV(ISI)\": 0.49809372399999996, \"cluster\": \"fast_firing\"}, {\"Mean Firing Rate\": 0.5535619939999994, \"CV(ISI)\": 1.0517083409999999, \"cluster\": \"slow_irregular\"}, {\"Mean Firing Rate\": 2.687151159, \"CV(ISI)\": 0.497741401, \"cluster\": \"slow_regular\"}, {\"Mean Firing Rate\": 2.958326563, \"CV(ISI)\": 0.395934761, \"cluster\": \"slow_regular\"}, {\"Mean Firing Rate\": 0.47280456000000015, \"CV(ISI)\": 1.24046278, \"cluster\": \"slow_irregular\"}, {\"Mean Firing Rate\": 2.6042026519999997, \"CV(ISI)\": 0.652553499, \"cluster\": \"slow_regular\"}, {\"Mean Firing Rate\": 4.05, \"CV(ISI)\": 0.685176551, \"cluster\": \"slow_regular\"}, {\"Mean Firing Rate\": 0.20000000000000018, \"CV(ISI)\": 2.083147526, \"cluster\": \"slow_irregular\"}, {\"Mean Firing Rate\": 0.31607772700000014, \"CV(ISI)\": 1.52324903, \"cluster\": \"slow_irregular\"}, {\"Mean Firing Rate\": 3.475, \"CV(ISI)\": 1.039025903, \"cluster\": \"slow_irregular\"}, {\"Mean Firing Rate\": 1.2749666999999998, \"CV(ISI)\": 0.921590149, \"cluster\": \"slow_irregular\"}, {\"Mean Firing Rate\": 0.614264258, \"CV(ISI)\": 1.47398138, \"cluster\": \"slow_irregular\"}, {\"Mean Firing Rate\": 2.758333333, \"CV(ISI)\": 1.042461276, \"cluster\": \"slow_irregular\"}, {\"Mean Firing Rate\": 7.216666667, \"CV(ISI)\": 0.345338494, \"cluster\": \"fast_firing\"}, {\"Mean Firing Rate\": 3.016666667, \"CV(ISI)\": 0.5943294170000001, \"cluster\": \"slow_regular\"}, {\"Mean Firing Rate\": 3.891666667, \"CV(ISI)\": 0.583803058, \"cluster\": \"slow_regular\"}, {\"Mean Firing Rate\": 3.441666667, \"CV(ISI)\": 0.514172494, \"cluster\": \"slow_regular\"}, {\"Mean Firing Rate\": 0.48439051599999994, \"CV(ISI)\": 1.550197363, \"cluster\": \"slow_irregular\"}, {\"Mean Firing Rate\": 1.2152071970000002, \"CV(ISI)\": 1.282175064, \"cluster\": \"slow_irregular\"}, {\"Mean Firing Rate\": 1.0333333330000003, \"CV(ISI)\": 0.7053217890000001, \"cluster\": \"slow_regular\"}, {\"Mean Firing Rate\": 1.35, \"CV(ISI)\": 1.0205852990000002, \"cluster\": \"slow_irregular\"}, {\"Mean Firing Rate\": 0.4249999999999994, \"CV(ISI)\": 1.05527401, \"cluster\": \"slow_irregular\"}, {\"Mean Firing Rate\": 0.16901362099999995, \"CV(ISI)\": 2.454166651, \"cluster\": \"slow_irregular\"}, {\"Mean Firing Rate\": 11.54981145, \"CV(ISI)\": 1.686325192, \"cluster\": \"fast_firing\"}, {\"Mean Firing Rate\": 5.092593306, \"CV(ISI)\": 0.378459692, \"cluster\": \"slow_regular\"}, {\"Mean Firing Rate\": 7.583333333000001, \"CV(ISI)\": 0.25784862, \"cluster\": \"fast_firing\"}, {\"Mean Firing Rate\": 15.38333333, \"CV(ISI)\": 0.228562787, \"cluster\": \"fast_firing\"}, {\"Mean Firing Rate\": 4.625, \"CV(ISI)\": 0.290936798, \"cluster\": \"slow_regular\"}, {\"Mean Firing Rate\": 0.4099578770000001, \"CV(ISI)\": 1.337379694, \"cluster\": \"slow_irregular\"}, {\"Mean Firing Rate\": 2.6766603509999998, \"CV(ISI)\": 0.5390694739999999, \"cluster\": \"slow_regular\"}, {\"Mean Firing Rate\": 1.1596073319999998, \"CV(ISI)\": 0.69536829, \"cluster\": \"slow_regular\"}, {\"Mean Firing Rate\": 2.422133478, \"CV(ISI)\": 0.902165413, \"cluster\": \"slow_irregular\"}, {\"Mean Firing Rate\": 3.68087521, \"CV(ISI)\": 0.236621305, \"cluster\": \"slow_regular\"}, {\"Mean Firing Rate\": 1.358636137, \"CV(ISI)\": 0.5113227370000001, \"cluster\": \"slow_regular\"}, {\"Mean Firing Rate\": 6.9085512510000004, \"CV(ISI)\": 0.544588447, \"cluster\": \"fast_firing\"}, {\"Mean Firing Rate\": 5.5468942320000005, \"CV(ISI)\": 0.9319246409999999, \"cluster\": \"fast_firing\"}, {\"Mean Firing Rate\": 0.06748854900000012, \"CV(ISI)\": 2.5648794169999998, \"cluster\": \"slow_irregular\"}, {\"Mean Firing Rate\": 1.4098512369999998, \"CV(ISI)\": 0.387768567, \"cluster\": \"slow_regular\"}, {\"Mean Firing Rate\": 0.5893151269999999, \"CV(ISI)\": 1.28834331, \"cluster\": \"slow_irregular\"}, {\"Mean Firing Rate\": 1.411709788, \"CV(ISI)\": 2.111185789, \"cluster\": \"slow_irregular\"}, {\"Mean Firing Rate\": 1.056290342, \"CV(ISI)\": 4.195274353, \"cluster\": \"slow_irregular\"}, {\"Mean Firing Rate\": 2.1143960809999998, \"CV(ISI)\": 0.7153660059999999, \"cluster\": \"slow_irregular\"}, {\"Mean Firing Rate\": 2.880394705, \"CV(ISI)\": 0.46183329799999995, \"cluster\": \"slow_regular\"}, {\"Mean Firing Rate\": 1.768040489, \"CV(ISI)\": 0.5540259479999999, \"cluster\": \"slow_regular\"}, {\"Mean Firing Rate\": 1.3282407910000007, \"CV(ISI)\": 0.610161602, \"cluster\": \"slow_regular\"}, {\"Mean Firing Rate\": 1.6505283780000002, \"CV(ISI)\": 0.534407675, \"cluster\": \"slow_regular\"}, {\"Mean Firing Rate\": 1.0494577920000001, \"CV(ISI)\": 0.41462698600000003, \"cluster\": \"slow_regular\"}, {\"Mean Firing Rate\": 2.79859495, \"CV(ISI)\": 0.411108166, \"cluster\": \"slow_regular\"}, {\"Mean Firing Rate\": 2.7939125239999996, \"CV(ISI)\": 1.254542351, \"cluster\": \"slow_irregular\"}, {\"Mean Firing Rate\": 1.9732174880000002, \"CV(ISI)\": 0.44324979200000003, \"cluster\": \"slow_regular\"}, {\"Mean Firing Rate\": 0.623489985, \"CV(ISI)\": 0.507706881, \"cluster\": \"slow_regular\"}, {\"Mean Firing Rate\": 4.872376691, \"CV(ISI)\": 0.467424899, \"cluster\": \"fast_firing\"}, {\"Mean Firing Rate\": 1.70131047, \"CV(ISI)\": 0.846081018, \"cluster\": \"slow_irregular\"}, {\"Mean Firing Rate\": 0.400581163, \"CV(ISI)\": 1.4344332219999998, \"cluster\": \"slow_irregular\"}, {\"Mean Firing Rate\": 1.8492671180000002, \"CV(ISI)\": 1.742188811, \"cluster\": \"slow_irregular\"}, {\"Mean Firing Rate\": 0.6405250520000001, \"CV(ISI)\": 0.6592790479999999, \"cluster\": \"slow_regular\"}, {\"Mean Firing Rate\": 0.764434359, \"CV(ISI)\": 1.2415344720000001, \"cluster\": \"slow_irregular\"}, {\"Mean Firing Rate\": 7.372947485, \"CV(ISI)\": 0.38813895, \"cluster\": \"fast_firing\"}, {\"Mean Firing Rate\": 2.40259713, \"CV(ISI)\": 0.266364008, \"cluster\": \"slow_regular\"}, {\"Mean Firing Rate\": 1.5027500860000003, \"CV(ISI)\": 0.49394559899999996, \"cluster\": \"slow_regular\"}, {\"Mean Firing Rate\": 1.4578679710000002, \"CV(ISI)\": 0.34853822, \"cluster\": \"slow_regular\"}, {\"Mean Firing Rate\": 3.3980348030000003, \"CV(ISI)\": 0.19812169699999999, \"cluster\": \"slow_regular\"}, {\"Mean Firing Rate\": 2.492945686, \"CV(ISI)\": 0.952107906, \"cluster\": \"slow_irregular\"}, {\"Mean Firing Rate\": 2.7053107880000002, \"CV(ISI)\": 0.292873502, \"cluster\": \"slow_regular\"}, {\"Mean Firing Rate\": 1.831435586, \"CV(ISI)\": 0.45008221299999995, \"cluster\": \"slow_regular\"}, {\"Mean Firing Rate\": 2.477742501, \"CV(ISI)\": 0.3696087, \"cluster\": \"slow_regular\"}, {\"Mean Firing Rate\": 2.495299896, \"CV(ISI)\": 0.19340969600000002, \"cluster\": \"slow_regular\"}, {\"Mean Firing Rate\": 3.932799237, \"CV(ISI)\": 0.369667232, \"cluster\": \"slow_regular\"}, {\"Mean Firing Rate\": 0.966720365, \"CV(ISI)\": 0.539383411, \"cluster\": \"slow_regular\"}, {\"Mean Firing Rate\": 1.3585202129999998, \"CV(ISI)\": 0.494497478, \"cluster\": \"slow_regular\"}, {\"Mean Firing Rate\": 5.021680883999999, \"CV(ISI)\": 0.6144809720000001, \"cluster\": \"fast_firing\"}, {\"Mean Firing Rate\": 1.930977814, \"CV(ISI)\": 0.75436908, \"cluster\": \"slow_irregular\"}, {\"Mean Firing Rate\": 1.6921873490000001, \"CV(ISI)\": 0.447340667, \"cluster\": \"slow_regular\"}, {\"Mean Firing Rate\": 2.647764022, \"CV(ISI)\": 0.48731792, \"cluster\": \"slow_regular\"}, {\"Mean Firing Rate\": 2.368444855, \"CV(ISI)\": 0.341377944, \"cluster\": \"slow_regular\"}, {\"Mean Firing Rate\": 0.4800357970000002, \"CV(ISI)\": 2.0796253680000003, \"cluster\": \"slow_irregular\"}, {\"Mean Firing Rate\": 2.120259459, \"CV(ISI)\": 0.6251698139999999, \"cluster\": \"slow_regular\"}, {\"Mean Firing Rate\": 10.47169691, \"CV(ISI)\": 0.376861334, \"cluster\": \"fast_firing\"}, {\"Mean Firing Rate\": 1.951855519, \"CV(ISI)\": 0.5585962529999999, \"cluster\": \"slow_regular\"}, {\"Mean Firing Rate\": 1.218327425, \"CV(ISI)\": 0.605793417, \"cluster\": \"slow_regular\"}, {\"Mean Firing Rate\": 4.52938818, \"CV(ISI)\": 0.369608194, \"cluster\": \"slow_regular\"}, {\"Mean Firing Rate\": 1.388810682, \"CV(ISI)\": 0.591630459, \"cluster\": \"slow_regular\"}, {\"Mean Firing Rate\": 7.440570752, \"CV(ISI)\": 0.429039568, \"cluster\": \"fast_firing\"}]}}, {\"mode\": \"vega-lite\"});\n",
       "</script>"
      ],
      "text/plain": [
       "alt.Chart(...)"
      ]
     },
     "execution_count": 5,
     "metadata": {},
     "output_type": "execute_result"
    }
   ],
   "source": [
    "Chart(df2).mark_point().encode(x=\"CV(ISI)\", y=\"Mean Firing Rate\", color=\"cluster\")"
   ]
  },
  {
   "cell_type": "code",
   "execution_count": 6,
   "metadata": {},
   "outputs": [
    {
     "data": {
      "text/plain": [
       "cluster\n",
       "fast_firing       9.065424\n",
       "slow_irregular    1.159405\n",
       "slow_regular      2.385719\n",
       "Name: Mean Firing Rate, dtype: float64"
      ]
     },
     "execution_count": 6,
     "metadata": {},
     "output_type": "execute_result"
    }
   ],
   "source": [
    "df2.groupby(\"cluster\")[\"Mean Firing Rate\"].apply(np.mean)"
   ]
  },
  {
   "cell_type": "code",
   "execution_count": 7,
   "metadata": {},
   "outputs": [],
   "source": [
    "df2.to_csv(data_dir /\"single_unit_labelled.csv\", index=False)"
   ]
  },
  {
   "cell_type": "code",
   "execution_count": 8,
   "metadata": {},
   "outputs": [
    {
     "data": {
      "text/plain": [
       "(132, 2)"
      ]
     },
     "execution_count": 8,
     "metadata": {},
     "output_type": "execute_result"
    }
   ],
   "source": [
    "X.shape"
   ]
  },
  {
   "cell_type": "code",
   "execution_count": 9,
   "metadata": {},
   "outputs": [
    {
     "data": {
      "text/plain": [
       "12"
      ]
     },
     "execution_count": 9,
     "metadata": {},
     "output_type": "execute_result"
    }
   ],
   "source": [
    "df[\"experiment\"].nunique()"
   ]
  },
  {
   "cell_type": "code",
   "execution_count": null,
   "metadata": {},
   "outputs": [],
   "source": []
  }
 ],
 "metadata": {
  "kernelspec": {
   "display_name": "Python 3",
   "language": "python",
   "name": "python3"
  },
  "language_info": {
   "codemirror_mode": {
    "name": "ipython",
    "version": 3
   },
   "file_extension": ".py",
   "mimetype": "text/x-python",
   "name": "python",
   "nbconvert_exporter": "python",
   "pygments_lexer": "ipython3",
   "version": "3.8.2"
  }
 },
 "nbformat": 4,
 "nbformat_minor": 4
}
