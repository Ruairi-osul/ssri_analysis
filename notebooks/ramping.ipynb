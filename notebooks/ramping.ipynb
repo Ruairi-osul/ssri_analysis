{
 "cells": [
  {
   "cell_type": "code",
   "execution_count": 29,
   "metadata": {},
   "outputs": [],
   "source": [
    "import pandas as pd\n",
    "import numpy as np\n",
    "import matplotlib.pyplot as plt\n",
    "import seaborn as sns\n",
    "from pathlib import Path\n",
    "sns.set_palette(\"Set2\")"
   ]
  },
  {
   "cell_type": "code",
   "execution_count": 30,
   "metadata": {},
   "outputs": [],
   "source": [
    "from dotenv import load_dotenv\n",
    "from ephys_queries import db_setup_core, select_spike_times, select_discrete_data\n",
    "from scipy.ndimage import gaussian_filter1d\n",
    "from scipy.stats import zscore"
   ]
  },
  {
   "cell_type": "code",
   "execution_count": 31,
   "metadata": {},
   "outputs": [],
   "source": [
    "from spiketimes.df.binning import binned_spiketrain_bins_provided\n",
    "from spiketimes.df.statistics import diffmeans_test_by\n",
    "from spiketimes.df.baseline import zscore_standardise_by\n",
    "from spiketimes.utils import p_adjust"
   ]
  },
  {
   "cell_type": "code",
   "execution_count": 32,
   "metadata": {},
   "outputs": [],
   "source": [
    "data_dir = Path(\".\").absolute().parent / \"data\"\n",
    "fig_dir = Path(\".\").absolute().parent / \"figs\""
   ]
  },
  {
   "cell_type": "code",
   "execution_count": 33,
   "metadata": {},
   "outputs": [],
   "source": [
    "group_names = [\"acute_citalopram\", \n",
    "            \"acute_saline\", \n",
    "            \"shock\", \n",
    "            \"sham\", \n",
    "            \"acute_cit\", \n",
    "            \"acute_sal\"]\n",
    "dfb = (\n",
    "    pd.read_csv(data_dir / \"baseline.csv\")\n",
    "    .loc[lambda x: x[\"group_name\"].isin(group_names)]\n",
    ")\n",
    "\n",
    "dfe = pd.read_csv(data_dir / \"psth_responses.csv\")"
   ]
  },
  {
   "cell_type": "code",
   "execution_count": 34,
   "metadata": {},
   "outputs": [],
   "source": [
    "block_name = \"base_shock\"\n",
    "t_before = 10 * 60\n",
    "t_after = 10 * 60\n",
    "fs = 30000\n",
    "load_dotenv()\n",
    "engine, metadata = db_setup_core()\n",
    "\n",
    "df_spikes = (\n",
    "    select_spike_times(\n",
    "            engine, \n",
    "            metadata,\n",
    "            t_before=t_before,\n",
    "            t_after=t_after,\n",
    "            group_names=group_names,\n",
    "            block_name=block_name,\n",
    "            align_to_block=True\n",
    "            )\n",
    "    .assign(spiketimes=lambda x: x[\"spike_time_samples\"].divide(fs))\n",
    ")"
   ]
  },
  {
   "cell_type": "code",
   "execution_count": 35,
   "metadata": {},
   "outputs": [
    {
     "data": {
      "text/html": [
       "<div>\n",
       "<style scoped>\n",
       "    .dataframe tbody tr th:only-of-type {\n",
       "        vertical-align: middle;\n",
       "    }\n",
       "\n",
       "    .dataframe tbody tr th {\n",
       "        vertical-align: top;\n",
       "    }\n",
       "\n",
       "    .dataframe thead th {\n",
       "        text-align: right;\n",
       "    }\n",
       "</style>\n",
       "<table border=\"1\" class=\"dataframe\">\n",
       "  <thead>\n",
       "    <tr style=\"text-align: right;\">\n",
       "      <th></th>\n",
       "      <th>neuron_id</th>\n",
       "      <th>spike_time_samples</th>\n",
       "      <th>group_name</th>\n",
       "      <th>spiketimes</th>\n",
       "    </tr>\n",
       "  </thead>\n",
       "  <tbody>\n",
       "    <tr>\n",
       "      <th>0</th>\n",
       "      <td>1031</td>\n",
       "      <td>-17999918</td>\n",
       "      <td>acute_cit</td>\n",
       "      <td>-599.997267</td>\n",
       "    </tr>\n",
       "    <tr>\n",
       "      <th>1</th>\n",
       "      <td>1031</td>\n",
       "      <td>-17996357</td>\n",
       "      <td>acute_cit</td>\n",
       "      <td>-599.878567</td>\n",
       "    </tr>\n",
       "    <tr>\n",
       "      <th>2</th>\n",
       "      <td>1031</td>\n",
       "      <td>-17993978</td>\n",
       "      <td>acute_cit</td>\n",
       "      <td>-599.799267</td>\n",
       "    </tr>\n",
       "  </tbody>\n",
       "</table>\n",
       "</div>"
      ],
      "text/plain": [
       "   neuron_id  spike_time_samples group_name  spiketimes\n",
       "0       1031           -17999918  acute_cit -599.997267\n",
       "1       1031           -17996357  acute_cit -599.878567\n",
       "2       1031           -17993978  acute_cit -599.799267"
      ]
     },
     "execution_count": 35,
     "metadata": {},
     "output_type": "execute_result"
    }
   ],
   "source": [
    "df_spikes.head(3)"
   ]
  },
  {
   "cell_type": "code",
   "execution_count": 36,
   "metadata": {},
   "outputs": [],
   "source": [
    "def response_dm(row, p_col=\"p_dm\", diff_mean_col=\"diff_of_means\"):\n",
    "    if row[p_col] >= 0.05:\n",
    "        return \"Non Responder\"\n",
    "    elif row[diff_mean_col] < 0:\n",
    "        return \"Inhibited\"\n",
    "    else:\n",
    "        return \"Stimulated\"\n",
    "    \n",
    "def percent_baseline(df):\n",
    "    mean_baseline = df.loc[lambda x: x.time < 0].spike_counts.mean()\n",
    "    return df.assign(pct_baseline=lambda x: x.spike_counts.divide(mean_baseline))"
   ]
  },
  {
   "cell_type": "code",
   "execution_count": 37,
   "metadata": {},
   "outputs": [],
   "source": [
    "binsize = 30\n",
    "bins = np.arange(-600, 1320, binsize)\n",
    "\n",
    "df_ts = (\n",
    "    binned_spiketrain_bins_provided(\n",
    "        df_spikes, \n",
    "        bins, \n",
    "        spiketimes_col=\"spiketimes\",                     \n",
    "        spiketrain_col=\"neuron_id\"\n",
    "    )\n",
    "    .rename(columns={\"counts\": \"spike_counts\", \"bin\": \"time\"})\n",
    "    .merge(dfb[[\"neuron_id\", \"cluster\", \"group_name\"]])\n",
    "    .assign(condition=lambda x: \n",
    "            x[\"time\"].apply(lambda y: \"Baseline\" if y < 0 else \"Shock\" if y < 600 else \"Post\"),\n",
    "           firing_rate=lambda x: x[\"spike_counts\"].divide(binsize),\n",
    "        )\n",
    ")"
   ]
  },
  {
   "cell_type": "code",
   "execution_count": null,
   "metadata": {},
   "outputs": [],
   "source": []
  },
  {
   "cell_type": "code",
   "execution_count": 38,
   "metadata": {},
   "outputs": [
    {
     "data": {
      "text/html": [
       "<div>\n",
       "<style scoped>\n",
       "    .dataframe tbody tr th:only-of-type {\n",
       "        vertical-align: middle;\n",
       "    }\n",
       "\n",
       "    .dataframe tbody tr th {\n",
       "        vertical-align: top;\n",
       "    }\n",
       "\n",
       "    .dataframe thead th {\n",
       "        text-align: right;\n",
       "    }\n",
       "</style>\n",
       "<table border=\"1\" class=\"dataframe\">\n",
       "  <thead>\n",
       "    <tr style=\"text-align: right;\">\n",
       "      <th></th>\n",
       "      <th>neuron_id</th>\n",
       "      <th>time</th>\n",
       "      <th>spike_counts</th>\n",
       "      <th>cluster</th>\n",
       "      <th>group_name</th>\n",
       "      <th>condition</th>\n",
       "      <th>firing_rate</th>\n",
       "    </tr>\n",
       "  </thead>\n",
       "  <tbody>\n",
       "    <tr>\n",
       "      <th>0</th>\n",
       "      <td>1031</td>\n",
       "      <td>-600</td>\n",
       "      <td>347</td>\n",
       "      <td>slow_regular</td>\n",
       "      <td>acute_cit</td>\n",
       "      <td>Baseline</td>\n",
       "      <td>11.566667</td>\n",
       "    </tr>\n",
       "    <tr>\n",
       "      <th>1</th>\n",
       "      <td>1031</td>\n",
       "      <td>-570</td>\n",
       "      <td>370</td>\n",
       "      <td>slow_regular</td>\n",
       "      <td>acute_cit</td>\n",
       "      <td>Baseline</td>\n",
       "      <td>12.333333</td>\n",
       "    </tr>\n",
       "    <tr>\n",
       "      <th>2</th>\n",
       "      <td>1031</td>\n",
       "      <td>-540</td>\n",
       "      <td>368</td>\n",
       "      <td>slow_regular</td>\n",
       "      <td>acute_cit</td>\n",
       "      <td>Baseline</td>\n",
       "      <td>12.266667</td>\n",
       "    </tr>\n",
       "    <tr>\n",
       "      <th>3</th>\n",
       "      <td>1031</td>\n",
       "      <td>-510</td>\n",
       "      <td>374</td>\n",
       "      <td>slow_regular</td>\n",
       "      <td>acute_cit</td>\n",
       "      <td>Baseline</td>\n",
       "      <td>12.466667</td>\n",
       "    </tr>\n",
       "    <tr>\n",
       "      <th>4</th>\n",
       "      <td>1031</td>\n",
       "      <td>-480</td>\n",
       "      <td>369</td>\n",
       "      <td>slow_regular</td>\n",
       "      <td>acute_cit</td>\n",
       "      <td>Baseline</td>\n",
       "      <td>12.300000</td>\n",
       "    </tr>\n",
       "    <tr>\n",
       "      <th>...</th>\n",
       "      <td>...</td>\n",
       "      <td>...</td>\n",
       "      <td>...</td>\n",
       "      <td>...</td>\n",
       "      <td>...</td>\n",
       "      <td>...</td>\n",
       "      <td>...</td>\n",
       "    </tr>\n",
       "    <tr>\n",
       "      <th>16438</th>\n",
       "      <td>2003</td>\n",
       "      <td>1140</td>\n",
       "      <td>169</td>\n",
       "      <td>slow_regular</td>\n",
       "      <td>acute_sal</td>\n",
       "      <td>Post</td>\n",
       "      <td>5.633333</td>\n",
       "    </tr>\n",
       "    <tr>\n",
       "      <th>16439</th>\n",
       "      <td>2003</td>\n",
       "      <td>1170</td>\n",
       "      <td>187</td>\n",
       "      <td>slow_regular</td>\n",
       "      <td>acute_sal</td>\n",
       "      <td>Post</td>\n",
       "      <td>6.233333</td>\n",
       "    </tr>\n",
       "    <tr>\n",
       "      <th>16440</th>\n",
       "      <td>2003</td>\n",
       "      <td>1200</td>\n",
       "      <td>176</td>\n",
       "      <td>slow_regular</td>\n",
       "      <td>acute_sal</td>\n",
       "      <td>Post</td>\n",
       "      <td>5.866667</td>\n",
       "    </tr>\n",
       "    <tr>\n",
       "      <th>16441</th>\n",
       "      <td>2003</td>\n",
       "      <td>1230</td>\n",
       "      <td>179</td>\n",
       "      <td>slow_regular</td>\n",
       "      <td>acute_sal</td>\n",
       "      <td>Post</td>\n",
       "      <td>5.966667</td>\n",
       "    </tr>\n",
       "    <tr>\n",
       "      <th>16442</th>\n",
       "      <td>2003</td>\n",
       "      <td>1260</td>\n",
       "      <td>177</td>\n",
       "      <td>slow_regular</td>\n",
       "      <td>acute_sal</td>\n",
       "      <td>Post</td>\n",
       "      <td>5.900000</td>\n",
       "    </tr>\n",
       "  </tbody>\n",
       "</table>\n",
       "<p>16443 rows × 7 columns</p>\n",
       "</div>"
      ],
      "text/plain": [
       "       neuron_id  time  spike_counts       cluster group_name condition  \\\n",
       "0           1031  -600           347  slow_regular  acute_cit  Baseline   \n",
       "1           1031  -570           370  slow_regular  acute_cit  Baseline   \n",
       "2           1031  -540           368  slow_regular  acute_cit  Baseline   \n",
       "3           1031  -510           374  slow_regular  acute_cit  Baseline   \n",
       "4           1031  -480           369  slow_regular  acute_cit  Baseline   \n",
       "...          ...   ...           ...           ...        ...       ...   \n",
       "16438       2003  1140           169  slow_regular  acute_sal      Post   \n",
       "16439       2003  1170           187  slow_regular  acute_sal      Post   \n",
       "16440       2003  1200           176  slow_regular  acute_sal      Post   \n",
       "16441       2003  1230           179  slow_regular  acute_sal      Post   \n",
       "16442       2003  1260           177  slow_regular  acute_sal      Post   \n",
       "\n",
       "       firing_rate  \n",
       "0        11.566667  \n",
       "1        12.333333  \n",
       "2        12.266667  \n",
       "3        12.466667  \n",
       "4        12.300000  \n",
       "...            ...  \n",
       "16438     5.633333  \n",
       "16439     6.233333  \n",
       "16440     5.866667  \n",
       "16441     5.966667  \n",
       "16442     5.900000  \n",
       "\n",
       "[16443 rows x 7 columns]"
      ]
     },
     "execution_count": 38,
     "metadata": {},
     "output_type": "execute_result"
    }
   ],
   "source": [
    "df_ts"
   ]
  },
  {
   "cell_type": "code",
   "execution_count": null,
   "metadata": {},
   "outputs": [],
   "source": []
  },
  {
   "cell_type": "code",
   "execution_count": 11,
   "metadata": {},
   "outputs": [],
   "source": [
    "df_res = (\n",
    "    df_ts\n",
    "    .loc[lambda x: x.condition.isin([\"Baseline\", \"Shock\"])]\n",
    "    .assign(cond=lambda x: x.condition.map(\n",
    "        {\"Baseline\":0, \"Shock\":1, }\n",
    "    ))\n",
    "    .pipe(lambda x: diffmeans_test_by(df=x, \n",
    "                                       n_boot=5000,\n",
    "                                       spiketrain_col=\"neuron_id\",\n",
    "                                       spikecount_col=\"firing_rate\",\n",
    "                                       condition_col=\"cond\")\n",
    "         )\n",
    "    .assign(p=lambda x: p_adjust(x.p))\n",
    "    .rename(columns={\"diff_of_means\": \"DOM_shock\", \"p\": \"p_shock\"})\n",
    "    .assign(response_shock = lambda x: x.apply(response_dm, \n",
    "                                               p_col=\"p_shock\", \n",
    "                                               diff_mean_col=\"DOM_shock\",\n",
    "                                               axis=1)\n",
    "           )\n",
    ")"
   ]
  },
  {
   "cell_type": "code",
   "execution_count": 12,
   "metadata": {},
   "outputs": [],
   "source": [
    "df_res = (\n",
    "    df_ts\n",
    "    .loc[lambda x: x.condition.isin([\"Shock\", \"Post\"])]\n",
    "    .assign(cond=lambda x: x.condition.map(\n",
    "        {\"Shock\":0, \"Post\":1, }\n",
    "    ))\n",
    "    .pipe(lambda x: diffmeans_test_by(df=x, \n",
    "                                       n_boot=5000,\n",
    "                                       spiketrain_col=\"neuron_id\",\n",
    "                                       spikecount_col=\"firing_rate\",\n",
    "                                       condition_col=\"cond\")\n",
    "         )\n",
    "    .assign(p=lambda x: p_adjust(x.p, \"Bonferroni\"))\n",
    "    .rename(columns={\"diff_of_means\": \"DOM_post\", \"p\": \"p_post\"})\n",
    "    .assign(response_post = lambda x: x.apply(response_dm, \n",
    "                                               p_col=\"p_post\", \n",
    "                                               diff_mean_col=\"DOM_post\",\n",
    "                                               axis=1)\n",
    "           )\n",
    "    .merge(df_res)\n",
    ")"
   ]
  },
  {
   "cell_type": "code",
   "execution_count": 13,
   "metadata": {},
   "outputs": [],
   "source": [
    "(\n",
    "    df_res\n",
    "    .merge(dfe[[\"neuron_id\", \"response_baseshock\", \"cluster\"]])\n",
    "    .to_csv(data_dir / \"baseshock_ramping.csv\", index=False)\n",
    ")"
   ]
  },
  {
   "cell_type": "markdown",
   "metadata": {},
   "source": [
    "# Heats\n",
    "\n",
    "## SR"
   ]
  },
  {
   "cell_type": "code",
   "execution_count": 14,
   "metadata": {},
   "outputs": [],
   "source": [
    "\n",
    "df_heat = (\n",
    "    df_ts\n",
    "    .pipe(lambda x: zscore_standardise_by(df=x, \n",
    "                      baseline_start_stop=np.array([-600, 0]),\n",
    "                      time_col=\"time\",\n",
    "                      data_col=\"firing_rate\", \n",
    "                      spiketrain_col=\"neuron_id\"))\n",
    "    .assign(z_smooth= lambda x: x.groupby(\"neuron_id\")[\"zscore\"]\n",
    "                    .transform(lambda x: gaussian_filter1d(x, sigma=1.1)))\n",
    "    .pivot(columns=\"time\", index=\"neuron_id\", values=\"z_smooth\")\n",
    "    .reset_index()\n",
    "    .merge(dfb[[\"neuron_id\", \"cluster\"]])\n",
    "    .merge(df_res[[\"neuron_id\", \"response_shock\"]])\n",
    ")\n",
    "\n",
    "c1 = (\n",
    "    df_heat\n",
    "    .loc[lambda x: x.cluster == \"slow_regular\"]\n",
    "    .loc[lambda x: x[\"response_shock\"] == \"Stimulated\"]\n",
    "    .drop([\"neuron_id\", \"response_shock\", \"cluster\"], axis=1)\n",
    "    .sort_values(by=60, ascending=False)\n",
    "    .dropna()\n",
    ")\n",
    "\n",
    "c2 = (\n",
    "    df_heat\n",
    "    .loc[lambda x: x.cluster == \"slow_regular\"]\n",
    "    .loc[lambda x: x[\"response_shock\"] == \"Inhibited\"]\n",
    "    .drop([\"neuron_id\", \"response_shock\", \"cluster\"], axis=1)\n",
    "    .sort_values(by=60, ascending=False)\n",
    "    .dropna()\n",
    ")"
   ]
  },
  {
   "cell_type": "code",
   "execution_count": 15,
   "metadata": {},
   "outputs": [
    {
     "data": {
      "image/png": "[encoded data removed]",
      "text/plain": [
       "<Figure size 504x360 with 1 Axes>"
      ]
     },
     "metadata": {
      "needs_background": "light"
     },
     "output_type": "display_data"
    }
   ],
   "source": [
    "f, ax = plt.subplots(figsize=(7, 5))\n",
    "ax.imshow(c1, cmap=\"coolwarm\", vmin=-4.5, vmax=4.5, aspect=\"auto\")\n",
    "\n",
    "\n",
    "ax.set_ylabel(\"Stimulated\", fontsize=20)\n",
    "ax.set_yticklabels([])\n",
    "ax.set_yticks([])\n",
    "\n",
    "ax.set(frame_on=False)\n",
    "ax.set_xlim(0, 60)\n",
    "ax.set_xticks([0, 20, 40, 60])\n",
    "ax.set_xticklabels([-10, 0, 10, 20])\n",
    "\n",
    "plt.savefig(fig_dir / \"SR_ramp_heat_activated.svg\", transparent=True, dpi=300)"
   ]
  },
  {
   "cell_type": "code",
   "execution_count": 16,
   "metadata": {},
   "outputs": [
    {
     "data": {
      "image/png": "[encoded data removed]",
      "text/plain": [
       "<Figure size 504x144 with 1 Axes>"
      ]
     },
     "metadata": {
      "needs_background": "light"
     },
     "output_type": "display_data"
    }
   ],
   "source": [
    "f, ax = plt.subplots(figsize=(7, 2))\n",
    "ax.imshow(c2, cmap=\"coolwarm\",vmin=-3, vmax=3, aspect=\"auto\")\n",
    "\n",
    "\n",
    "ax.set_ylabel(\"Inhibited\", fontsize=20)\n",
    "ax.set_yticklabels([])\n",
    "ax.set_yticks([])\n",
    "\n",
    "ax.set(frame_on=False)\n",
    "ax.set_xlim(0, 60)\n",
    "ax.set_xticks([0, 20, 40, 60])\n",
    "ax.set_xticklabels([-10, 0, 10, 20])\n",
    "\n",
    "plt.savefig(fig_dir / \"SR_ramp_heat_inhibited.svg\", transparent=True, dpi=300)"
   ]
  },
  {
   "cell_type": "markdown",
   "metadata": {},
   "source": [
    "## FF"
   ]
  },
  {
   "cell_type": "code",
   "execution_count": 17,
   "metadata": {},
   "outputs": [],
   "source": [
    "df_heat = (\n",
    "    df_ts\n",
    "    .pipe(lambda x: zscore_standardise_by(df=x, \n",
    "                      baseline_start_stop=np.array([-600, 0]),\n",
    "                      time_col=\"time\",\n",
    "                      data_col=\"firing_rate\", \n",
    "                      spiketrain_col=\"neuron_id\"))\n",
    "    .assign(z_smooth= lambda x: x.groupby(\"neuron_id\")[\"zscore\"]\n",
    "                    .transform(lambda x: gaussian_filter1d(x, sigma=0.7)))\n",
    "    .pivot(columns=\"time\", index=\"neuron_id\", values=\"z_smooth\")\n",
    "    .reset_index()\n",
    "    .merge(dfb[[\"neuron_id\", \"cluster\"]])\n",
    "    .merge(df_res[[\"neuron_id\", \"response_shock\"]])\n",
    ")\n",
    "\n",
    "c1 = (\n",
    "    df_heat\n",
    "    .loc[lambda x: x.cluster == \"fast_firing\"]\n",
    "    .loc[lambda x: x[\"response_shock\"] == \"Stimulated\"]\n",
    "    .drop([\"neuron_id\", \"response_shock\", \"cluster\"], axis=1)\n",
    "    .sort_values(by=60, ascending=False)\n",
    "    .dropna()\n",
    ")\n",
    "\n",
    "c2 = (\n",
    "    df_heat\n",
    "    .loc[lambda x: x.cluster == \"fast_firing\"]\n",
    "    .loc[lambda x: x[\"response_shock\"] == \"Inhibited\"]\n",
    "    .drop([\"neuron_id\", \"response_shock\", \"cluster\"], axis=1)\n",
    "    .sort_values(by=60, ascending=False)\n",
    "    .dropna()\n",
    ")"
   ]
  },
  {
   "cell_type": "code",
   "execution_count": 18,
   "metadata": {},
   "outputs": [
    {
     "data": {
      "image/png": "[encoded data removed]",
      "text/plain": [
       "<Figure size 504x360 with 1 Axes>"
      ]
     },
     "metadata": {
      "needs_background": "light"
     },
     "output_type": "display_data"
    }
   ],
   "source": [
    "f, ax = plt.subplots(figsize=(7, 5))\n",
    "ax.imshow(c1, cmap=\"coolwarm\", vmin=-4.5, vmax=4.5, aspect=\"auto\")\n",
    "\n",
    "\n",
    "ax.set_ylabel(\"Stimulated\", fontsize=20)\n",
    "ax.set_yticklabels([])\n",
    "ax.set_yticks([])\n",
    "\n",
    "ax.set(frame_on=False)\n",
    "ax.set_xlim(0, 60)\n",
    "ax.set_xticks([0, 20, 40, 60])\n",
    "ax.set_xticklabels([-10, 0, 10, 20])\n",
    "\n",
    "plt.savefig(fig_dir / \"FF_ramp_heat_activated.svg\", transparent=True, dpi=300)"
   ]
  },
  {
   "cell_type": "code",
   "execution_count": 19,
   "metadata": {},
   "outputs": [
    {
     "data": {
      "image/png": "[encoded data removed]",
      "text/plain": [
       "<Figure size 504x144 with 1 Axes>"
      ]
     },
     "metadata": {
      "needs_background": "light"
     },
     "output_type": "display_data"
    }
   ],
   "source": [
    "f, ax = plt.subplots(figsize=(7, 2))\n",
    "ax.imshow(c2, cmap=\"coolwarm\",vmin=-3, vmax=3, aspect=\"auto\")\n",
    "\n",
    "\n",
    "ax.set_ylabel(\"Inhibited\", fontsize=20)\n",
    "ax.set_yticklabels([])\n",
    "ax.set_yticks([])\n",
    "\n",
    "ax.set(frame_on=False)\n",
    "ax.set_xlim(0, 60)\n",
    "ax.set_xticks([0, 20, 40, 60])\n",
    "ax.set_xticklabels([-10, 0, 10, 20])\n",
    "plt.savefig(fig_dir / \"FF_ramp_heat_inhibited.svg\", transparent=True, dpi=300)"
   ]
  },
  {
   "cell_type": "markdown",
   "metadata": {},
   "source": [
    "## SIR"
   ]
  },
  {
   "cell_type": "code",
   "execution_count": 20,
   "metadata": {},
   "outputs": [],
   "source": [
    "df_heat = (\n",
    "    df_ts\n",
    "    .pipe(lambda x: zscore_standardise_by(df=x, \n",
    "                      baseline_start_stop=np.array([-600, 0]),\n",
    "                      time_col=\"time\",\n",
    "                      data_col=\"firing_rate\", \n",
    "                      spiketrain_col=\"neuron_id\"))\n",
    "    .assign(z_smooth= lambda x: x.groupby(\"neuron_id\")[\"zscore\"]\n",
    "                    .transform(lambda x: gaussian_filter1d(x, sigma=0.9)))\n",
    "    .pivot(columns=\"time\", index=\"neuron_id\", values=\"z_smooth\")\n",
    "    .reset_index()\n",
    "    .merge(dfb[[\"neuron_id\", \"cluster\"]])\n",
    "    .merge(df_res[[\"neuron_id\", \"response_shock\"]])\n",
    ")\n",
    "\n",
    "c1 = (\n",
    "    df_heat\n",
    "    .loc[lambda x: x.cluster == \"slow_irregular\"]\n",
    "    .loc[lambda x: x[\"response_shock\"] == \"Stimulated\"]\n",
    "    .drop([\"neuron_id\", \"response_shock\", \"cluster\"], axis=1)\n",
    "    .sort_values(by=60, ascending=False)\n",
    "    .dropna()\n",
    ")\n",
    "\n",
    "c2 = (\n",
    "    df_heat\n",
    "    .loc[lambda x: x.cluster == \"slow_irregular\"]\n",
    "    .loc[lambda x: x[\"response_shock\"] == \"Inhibited\"]\n",
    "    .drop([\"neuron_id\", \"response_shock\", \"cluster\"], axis=1)\n",
    "    .sort_values(by=60, ascending=False)\n",
    "    .dropna()\n",
    ")"
   ]
  },
  {
   "cell_type": "code",
   "execution_count": 21,
   "metadata": {},
   "outputs": [
    {
     "data": {
      "image/png": "[encoded data removed]",
      "text/plain": [
       "<Figure size 504x360 with 1 Axes>"
      ]
     },
     "metadata": {
      "needs_background": "light"
     },
     "output_type": "display_data"
    }
   ],
   "source": [
    "f, ax = plt.subplots(figsize=(7, 5))\n",
    "ax.imshow(c1, cmap=\"coolwarm\", vmin=-4.5, vmax=4.5, aspect=\"auto\")\n",
    "\n",
    "\n",
    "ax.set_ylabel(\"Stimulated\", fontsize=20)\n",
    "ax.set_yticklabels([])\n",
    "ax.set_yticks([])\n",
    "\n",
    "ax.set(frame_on=False)\n",
    "ax.set_xlim(0, 60)\n",
    "ax.set_xticks([0, 20, 40, 60])\n",
    "ax.set_xticklabels([-10, 0, 10, 20])\n",
    "\n",
    "plt.savefig(fig_dir / \"SIR_ramp_heat_activiated.svg\", transparent=True, dpi=300)"
   ]
  },
  {
   "cell_type": "code",
   "execution_count": 22,
   "metadata": {},
   "outputs": [
    {
     "data": {
      "image/png": "[encoded data removed]",
      "text/plain": [
       "<Figure size 504x144 with 1 Axes>"
      ]
     },
     "metadata": {
      "needs_background": "light"
     },
     "output_type": "display_data"
    }
   ],
   "source": [
    "f, ax = plt.subplots(figsize=(7, 2))\n",
    "ax.imshow(c2, cmap=\"coolwarm\",vmin=-3, vmax=3, aspect=\"auto\")\n",
    "\n",
    "\n",
    "ax.set_ylabel(\"Inhibited\", fontsize=20)\n",
    "ax.set_yticklabels([])\n",
    "ax.set_yticks([])\n",
    "\n",
    "ax.set(frame_on=False)\n",
    "ax.set_xlim(0, 60)\n",
    "ax.set_xticks([0, 20, 40, 60])\n",
    "ax.set_xticklabels([-10, 0, 10, 20])\n",
    "plt.savefig(fig_dir / \"SIR_ramp_heat_inhibited.svg\", transparent=True, dpi=300)"
   ]
  },
  {
   "cell_type": "markdown",
   "metadata": {},
   "source": [
    "## NSA"
   ]
  },
  {
   "cell_type": "code",
   "execution_count": 23,
   "metadata": {},
   "outputs": [],
   "source": [
    "df_heat = (\n",
    "    df_ts\n",
    "    .pipe(lambda x: zscore_standardise_by(df=x, \n",
    "                      baseline_start_stop=np.array([-600, 0]),\n",
    "                      time_col=\"time\",\n",
    "                      data_col=\"firing_rate\", \n",
    "                      spiketrain_col=\"neuron_id\"))\n",
    "    .assign(z_smooth= lambda x: x.groupby(\"neuron_id\")[\"zscore\"]\n",
    "                    .transform(lambda x: gaussian_filter1d(x, sigma=0.9)))\n",
    "    .pivot(columns=\"time\", index=\"neuron_id\", values=\"z_smooth\")\n",
    "    .reset_index()\n",
    "    .merge(dfb[[\"neuron_id\", \"cluster\"]])\n",
    "    .merge(df_res[[\"neuron_id\", \"response_shock\"]])\n",
    ")\n",
    "\n",
    "c1 = (\n",
    "    df_heat\n",
    "    .loc[lambda x: x.cluster == \"no_baseline\"]\n",
    "    .loc[lambda x: x[\"response_shock\"] == \"Stimulated\"]\n",
    "    .drop([\"neuron_id\", \"response_shock\", \"cluster\"], axis=1)\n",
    "    .sort_values(by=60, ascending=False)\n",
    "    .dropna()\n",
    ")\n",
    "\n",
    "c2 = (\n",
    "    df_heat\n",
    "    .loc[lambda x: x.cluster == \"no_baseline\"]\n",
    "    .loc[lambda x: x[\"response_shock\"] == \"Inhibited\"]\n",
    "    .drop([\"neuron_id\", \"response_shock\", \"cluster\"], axis=1)\n",
    "    .sort_values(by=60, ascending=False)\n",
    "    .dropna()\n",
    ")"
   ]
  },
  {
   "cell_type": "code",
   "execution_count": 25,
   "metadata": {},
   "outputs": [
    {
     "data": {
      "image/png": "[encoded data removed]",
      "text/plain": [
       "<Figure size 504x360 with 1 Axes>"
      ]
     },
     "metadata": {
      "needs_background": "light"
     },
     "output_type": "display_data"
    }
   ],
   "source": [
    "f, ax = plt.subplots(figsize=(7, 5))\n",
    "ax.imshow(c1, cmap=\"coolwarm\", vmin=-4.5, vmax=4.5, aspect=\"auto\")\n",
    "\n",
    "\n",
    "ax.set_ylabel(\"Stimulated\", fontsize=20)\n",
    "ax.set_yticklabels([])\n",
    "ax.set_yticks([])\n",
    "\n",
    "ax.set(frame_on=False)\n",
    "ax.set_xlim(0, 60)\n",
    "ax.set_xticks([0, 20, 40, 60])\n",
    "ax.set_xticklabels([-10, 0, 10, 20])\n",
    "\n",
    "plt.savefig(fig_dir / \"NSA_ramp_heat_activiated.svg\", transparent=True, dpi=300)"
   ]
  },
  {
   "cell_type": "code",
   "execution_count": 26,
   "metadata": {},
   "outputs": [
    {
     "data": {
      "text/plain": [
       "[Text(0, 0, '-10'), Text(0, 0, '0'), Text(0, 0, '10'), Text(0, 0, '20')]"
      ]
     },
     "execution_count": 26,
     "metadata": {},
     "output_type": "execute_result"
    },
    {
     "data": {
      "image/png": "[encoded data removed]",
      "text/plain": [
       "<Figure size 504x360 with 1 Axes>"
      ]
     },
     "metadata": {
      "needs_background": "light"
     },
     "output_type": "display_data"
    }
   ],
   "source": [
    "f, ax = plt.subplots(figsize=(7, 5))\n",
    "ax.imshow(c2, cmap=\"coolwarm\", vmin=-4.5, vmax=4.5, aspect=\"auto\")\n",
    "\n",
    "\n",
    "ax.set_ylabel(\"Stimulated\", fontsize=20)\n",
    "ax.set_yticklabels([])\n",
    "ax.set_yticks([])\n",
    "\n",
    "ax.set(frame_on=False)\n",
    "ax.set_xlim(0, 60)\n",
    "ax.set_xticks([0, 20, 40, 60])\n",
    "ax.set_xticklabels([-10, 0, 10, 20])\n",
    "\n",
    "# plt.savefig(fig_dir / \"NSA_ramp_heat_activiated.svg\", transparent=True, dpi=300)"
   ]
  },
  {
   "cell_type": "code",
   "execution_count": null,
   "metadata": {},
   "outputs": [],
   "source": []
  }
 ],
 "metadata": {
  "kernelspec": {
   "display_name": "Python 3",
   "language": "python",
   "name": "python3"
  },
  "language_info": {
   "codemirror_mode": {
    "name": "ipython",
    "version": 3
   },
   "file_extension": ".py",
   "mimetype": "text/x-python",
   "name": "python",
   "nbconvert_exporter": "python",
   "pygments_lexer": "ipython3",
   "version": "3.8.2"
  }
 },
 "nbformat": 4,
 "nbformat_minor": 4
}
