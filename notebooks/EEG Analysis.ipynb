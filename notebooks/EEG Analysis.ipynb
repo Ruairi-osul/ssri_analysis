{
 "cells": [
  {
   "cell_type": "code",
   "execution_count": 1,
   "metadata": {},
   "outputs": [],
   "source": [
    "from ephys_queries import select_analog_signal_data, select_spike_times, select_stft\n",
    "from ephys_queries import db_setup_core\n",
    "from dotenv import load_dotenv\n",
    "from pathlib import Path"
   ]
  },
  {
   "cell_type": "code",
   "execution_count": 49,
   "metadata": {},
   "outputs": [],
   "source": [
    "from spiketimes.df.statistics import ifr_by\n",
    "from spiketimes.df.binning import which_bin\n",
    "from spiketimes.utils import p_adjust"
   ]
  },
  {
   "cell_type": "code",
   "execution_count": 415,
   "metadata": {},
   "outputs": [],
   "source": [
    "import numpy as np\n",
    "import pandas as pd\n",
    "import seaborn as sns\n",
    "from scipy.ndimage import gaussian_filter1d, gaussian_filter\n",
    "import matplotlib.pyplot as plt\n",
    "from scipy.stats import pearsonr\n",
    "from itertools import combinations\n",
    "from scipy.stats import zscore"
   ]
  },
  {
   "cell_type": "code",
   "execution_count": 422,
   "metadata": {},
   "outputs": [],
   "source": [
    "def correlate(x1, x2):\n",
    "    if len(x1) < 3:\n",
    "        return pd.Series({\"r\": np.nan, \"p\": np.nan})\n",
    "    r, p = pearsonr(x1, x2)\n",
    "    return pd.Series({\"r\": r, \"p\": p})\n",
    "\n",
    "\n",
    "def db_normalise(x, ref):\n",
    "    return 10 * np.log10(x / ref)\n",
    "\n",
    "def delta_to_theta(x):\n",
    "    delta = x.loc[lambda y: y.band == \"delta\"].power\n",
    "    theta = x.loc[lambda y: y.band == \"theta\"].power\n",
    "    return delta / theta\n",
    "\n",
    "def frequency_heatmap(df, \n",
    "                      frequency_col=\"frequency\", \n",
    "                      data_col=\"fft_value\", \n",
    "                      time_col=\"timepoint_s\",\n",
    "                      vmin=None, vmax=None,\n",
    "                      sigma=1,\n",
    "                      figsize=(10, 5),\n",
    "                      zscore_norm=False,\n",
    "                      db_norm=True,\n",
    "                      ax=None, \n",
    "                      imshow_kwargs=None\n",
    "                     ):\n",
    "    if imshow_kwargs is None:\n",
    "        imshow_kwargs={}\n",
    "    imshow_kwargs[\"cmap\"] = \"coolwarm\" if \"cmap\" not in imshow_kwargs else imshow_kwargs[\"cmap\"]\n",
    "    imshow_kwargs[\"aspect\"] = \"auto\" if \"aspect\" not in imshow_kwargs else imshow_kwargs[\"aspect\"]\n",
    "    if ax is None:\n",
    "        f, ax = plt.subplots(figsize=figsize)\n",
    "    dfp = (\n",
    "        df\n",
    "        .pivot(\n",
    "            index=time_col,\n",
    "            columns=frequency_col,\n",
    "            values=data_col,\n",
    "        )\n",
    "    )\n",
    "    dfp = pd.DataFrame(gaussian_filter(dfp.values, sigma))\n",
    "    if db_norm:\n",
    "        dfp = dfp.apply(lambda x: db_normalise(x, x.mean()))\n",
    "    if zscore_norm:\n",
    "        dfp = dfp.apply(zscore)\n",
    "    dfp = dfp.transpose()\n",
    "\n",
    "    im = ax.imshow(dfp.iloc[::-1], vmin=vmin, vmax=vmax, **imshow_kwargs)\n",
    "\n",
    "    # xticks\n",
    "    n = dfp.shape[1]\n",
    "    first_point = df[time_col].min() \n",
    "    time_interval = df.iloc[:5, :][time_col].diff().values[1]\n",
    "        \n",
    "    xticks = np.arange(0, n, (60 / time_interval) * 10)    \n",
    "    ax.set_xticks(xticks)\n",
    "    ax.set_xticklabels( first_point + xticks // (60 / time_interval))\n",
    "    \n",
    "\n",
    "    # yticks\n",
    "    max_f = df[frequency_col].max()\n",
    "    min_f = df[frequency_col].min()\n",
    "    f = df[frequency_col].unique()[:5]\n",
    "    f.sort()\n",
    "    f_interval = np.diff(f)[1]\n",
    "\n",
    "    ytick_labels = np.round(np.linspace(min_f, max_f, 5))\n",
    "    yticks = np.arange(0, dfp.shape[0])\n",
    "    yticks = yticks[np.isin(yticks, min_f +(ytick_labels / f_interval))]\n",
    "    ax.set_yticks(yticks)\n",
    "    ax.set_yticklabels(ytick_labels[::-1])\n",
    "\n",
    "    plt.colorbar(im)\n",
    "    return ax"
   ]
  },
  {
   "cell_type": "code",
   "execution_count": 344,
   "metadata": {},
   "outputs": [],
   "source": [
    "data_dir = Path(\".\").absolute().parent / \"data\"\n",
    "fig_dir = Path(\".\").absolute().parent / \"figs\""
   ]
  },
  {
   "cell_type": "markdown",
   "metadata": {},
   "source": [
    "# Load Data"
   ]
  },
  {
   "cell_type": "code",
   "execution_count": 4,
   "metadata": {},
   "outputs": [],
   "source": [
    "group_names = [\"acute_citalopram\", \n",
    "            \"acute_saline\", \n",
    "            \"acute_cit\", \n",
    "            \"acute_sal\",\n",
    "              \"shock\",\n",
    "              \"sham\"]\n",
    "\n",
    "block_name = \"pre\"\n",
    "load_dotenv()\n",
    "engine, metadata = db_setup_core()"
   ]
  },
  {
   "cell_type": "code",
   "execution_count": 516,
   "metadata": {},
   "outputs": [],
   "source": [
    "signal_names = [\"eeg_occ\"]\n",
    "\n",
    "df_fft = select_stft(engine, metadata, \n",
    "                               signal_names=signal_names,\n",
    "                              block_name=block_name, \n",
    "                              group_names=group_names\n",
    "                                   )\n",
    "df_spikes = (\n",
    "    select_spike_times(engine, metadata, \n",
    "                              block_name=block_name, \n",
    "                              group_names=group_names,\n",
    "                      session_names = df_fft.session_name.unique().tolist())\n",
    "    .assign(spiketimes=lambda x: x[\"spike_time_samples\"].divide(30000))\n",
    ")"
   ]
  },
  {
   "cell_type": "code",
   "execution_count": 389,
   "metadata": {},
   "outputs": [],
   "source": [
    "example_session = df_fft.session_name.unique()[1]"
   ]
  },
  {
   "cell_type": "code",
   "execution_count": 391,
   "metadata": {},
   "outputs": [],
   "source": [
    "df_analog = select_analog_signal_data(engine, metadata,\n",
    "            signal_names=[signal_name],\n",
    "             block_name=block_name,\n",
    "             session_names=[example_session]\n",
    "            )"
   ]
  },
  {
   "cell_type": "code",
   "execution_count": 354,
   "metadata": {},
   "outputs": [],
   "source": [
    "dfb = pd.read_csv(data_dir / \"baseline.csv\")"
   ]
  },
  {
   "cell_type": "markdown",
   "metadata": {},
   "source": [
    "# Example Signal"
   ]
  },
  {
   "cell_type": "markdown",
   "metadata": {},
   "source": [
    "## Plot One Session"
   ]
  },
  {
   "cell_type": "code",
   "execution_count": 427,
   "metadata": {},
   "outputs": [
    {
     "data": {
      "image/png": "[encoded data removed]",
      "text/plain": [
       "<Figure size 453.6x144 with 2 Axes>"
      ]
     },
     "metadata": {
      "needs_background": "light"
     },
     "output_type": "display_data"
    }
   ],
   "source": [
    "ax = (\n",
    "    df_fft\n",
    "    .loc[lambda x: x.frequency < 8]\n",
    "    .loc[lambda x: x.session_name == x.session_name.unique()[1]]\n",
    "    .pipe(lambda x: frequency_heatmap(x, sigma=2,\n",
    "                                      vmin=-3, vmax=4,\n",
    "                                      zscore_norm=False, db_norm=True,\n",
    "                                      imshow_kwargs={\"cmap\": \"coolwarm\"},\n",
    "                                     figsize=(6.3, 2))\n",
    "         )\n",
    ")\n",
    "ax.set_title(\"Occipital EEG in 1 Recording Session\")\n",
    "ax.set_xlabel(\"Time [mins]\", fontsize=13)\n",
    "ax.set_ylabel(\"Frequency [Hz]\", fontsize=13)\n",
    "\n",
    "plt.savefig(fig_dir / \"Example EEG.svg\")"
   ]
  },
  {
   "cell_type": "markdown",
   "metadata": {},
   "source": [
    "## Correlation Between Spikes & \\{$\\delta$, $\\theta$, $\\frac{\\delta}{\\theta}$\\}"
   ]
  },
  {
   "cell_type": "code",
   "execution_count": 272,
   "metadata": {},
   "outputs": [],
   "source": [
    "bins = df_fft.timepoint_s.unique()\n",
    "\n",
    "df1 = (\n",
    "    df_fft\n",
    "    .loc[lambda x: (x.frequency < 8) & (x.frequency > 0)]\n",
    "    .assign(\n",
    "        band = lambda x: x.frequency.apply(lambda y: \"delta\" if y < 4 else \"theta\")\n",
    "    )\n",
    ")\n",
    "df_rythm_ts = (\n",
    "    df1\n",
    "    .groupby([\"session_name\", \"signal_name\", \"timepoint_s\", \"group_name\", \"band\"])\n",
    "    .apply(lambda x: np.mean(x.fft_value))\n",
    "    .reset_index()\n",
    "    .rename(columns={0: \"power\"})\n",
    "    .pivot_table(index=[\"session_name\", \"timepoint_s\"], columns=\"band\", values=\"power\")\n",
    "    .reset_index()\n",
    "    .assign(\n",
    "        delta_smooth= lambda x: gaussian_filter1d(x.delta, 10),\n",
    "        theta_smooth= lambda x: gaussian_filter1d(x.theta, 10),\n",
    "        delta_to_theta = lambda x: x.delta / x.theta,\n",
    "        delta_to_theta_smooth = lambda x: x.delta_smooth / x.theta_smooth\n",
    "           )\n",
    ")\n",
    "\n",
    "df_rythm_ts_spikes = (\n",
    "    which_bin(df_spikes, bins, spiketimes_col=\"spiketimes\")\n",
    "        .groupby([\"session_name\", \"bin_values\", \"neuron_id\"])\n",
    "    .apply(lambda x: len(x))\n",
    "    .reset_index()\n",
    "    .rename(columns={0:\"spike_counts\", \"bin_values\": \"timepoint_s\"})\n",
    "    .merge(df_rythm_ts)\n",
    ")"
   ]
  },
  {
   "cell_type": "code",
   "execution_count": 387,
   "metadata": {},
   "outputs": [],
   "source": [
    "tmp_res = (\n",
    "    df_rythm_ts_spikes\n",
    "    .groupby(\"neuron_id\")\n",
    "    .apply(lambda x: correlate(x.spike_counts, x.delta_to_theta_smooth))\n",
    "    .assign(\n",
    "        p = lambda x: p_adjust(x.p),\n",
    "    )\n",
    "    .rename(columns={'r':\"DeltaThataRatio_Spike_Corr\",\n",
    "                    \"p\": \"p_DeltaThataRatio_Spike_Corr\"})\n",
    "    .reset_index()\n",
    ")\n",
    "tmp_res = (\n",
    "    df_rythm_ts_spikes\n",
    "    .groupby(\"neuron_id\")\n",
    "    .apply(lambda x: correlate(x.spike_counts, x.delta_smooth))\n",
    "    .assign(\n",
    "        p = lambda x: p_adjust(x.p),\n",
    "    )\n",
    "    .rename(columns={'r':\"Delta_Spike_Corr\",\n",
    "                    \"p\": \"p_Delta_Spike_Corr\"})\n",
    "    .reset_index()\n",
    "    .merge(tmp_res)\n",
    ")\n",
    "tmp_res = (\n",
    "    df_rythm_ts_spikes\n",
    "    .groupby(\"neuron_id\")\n",
    "    .apply(lambda x: correlate(x.spike_counts, x.theta_smooth))\n",
    "    .assign(\n",
    "        p = lambda x: p_adjust(x.p),\n",
    "    )\n",
    "    .rename(columns={'r':\"Theta_Spike_Corr\",\n",
    "                    \"p\": \"p_Theta_Spike_Corr\"})\n",
    "    .reset_index()\n",
    "    .merge(tmp_res)\n",
    ")\n",
    "(\n",
    "    tmp_res\n",
    "    .merge(dfb[[\"neuron_id\",\"cluster\", \"group_name\", \"session_name\"]])\n",
    "    .to_csv(data_dir / \"EEG_spikerate_corr.csv\", index=False)\n",
    ")"
   ]
  },
  {
   "cell_type": "markdown",
   "metadata": {},
   "source": [
    "## Correlation TS"
   ]
  },
  {
   "cell_type": "code",
   "execution_count": 275,
   "metadata": {},
   "outputs": [],
   "source": [
    "def pairwise_rolling_corr(df, rolling_periods=10, value_col=\"spike_counts\", \n",
    "                          time_col=\"timepoint_s\", \n",
    "                         by_col=\"neuron_id\"):\n",
    "    tmp = (\n",
    "        df\n",
    "        .pivot(columns=by_col, index=time_col, values=value_col)\n",
    "        .rolling(rolling_periods)\n",
    "        .corr()\n",
    "        .reset_index()\n",
    "    )\n",
    "    tmp.columns.name = \"\"\n",
    "    \n",
    "    neurons = df[by_col].unique().tolist()\n",
    "    combs = [*combinations(neurons, 2)]\n",
    "    \n",
    "    return (\n",
    "        tmp\n",
    "        .melt(\n",
    "            id_vars=[by_col, time_col], \n",
    "            var_name=\"neuron_2\", \n",
    "            value_name=\"rolling_corr\"\n",
    "        )\n",
    "        .rename(columns={\"neuron_id\": \"neuron_1\"})\n",
    "        .assign(neuron_comb = lambda x: x.apply(lambda row: (int(row.neuron_1), int(row.neuron_2)),\n",
    "                                                axis=1)\n",
    "               )\n",
    "        .loc[lambda x: x.neuron_comb.isin(combs)]\n",
    "    )"
   ]
  },
  {
   "cell_type": "code",
   "execution_count": 323,
   "metadata": {},
   "outputs": [],
   "source": [
    "frames = []\n",
    "for session in df_spikes.session_name.unique():\n",
    "    df_sub = (\n",
    "        df_rythm_ts_spikes\n",
    "        .loc[lambda x: x.session_name == session]\n",
    "    )\n",
    "    df_res = pairwise_rolling_corr(df_sub)\n",
    "    frames.append(df_res.assign(session_name=session).merge(df_rythm_ts))\n",
    "\n",
    "df_rolling_comp = pd.concat(frames)"
   ]
  },
  {
   "cell_type": "code",
   "execution_count": 324,
   "metadata": {},
   "outputs": [],
   "source": [
    "df_rolling_comp = df_rolling_comp.merge(df_rythm_ts)"
   ]
  },
  {
   "cell_type": "code",
   "execution_count": 386,
   "metadata": {},
   "outputs": [],
   "source": [
    "df_rolling_res = (\n",
    "    df_rolling_comp\n",
    "    .dropna()\n",
    "    .loc[lambda x: ~np.isinf(x.rolling_corr)]\n",
    "    .groupby([\"neuron_1\", \"neuron_2\"])\n",
    "    .apply(lambda x: correlate(x.delta_to_theta_smooth, x.rolling_corr))\n",
    "    .reset_index()\n",
    "    .assign(p_ad = lambda x: p_adjust(x.p))\n",
    "    .merge(dfb[[\"neuron_id\", \"cluster\", \"session_name\", \"group_name\"]], \n",
    "           left_on=\"neuron_1\", right_on=\"neuron_id\")\n",
    "    .drop(\"neuron_id\", axis=1)\n",
    "    .rename(columns={\"cluster\": \"spiketrain_1_cluster\"})\n",
    "    .merge(dfb[[\"neuron_id\", \"cluster\"]], left_on=\"neuron_2\", right_on=\"neuron_id\")\n",
    "    .rename(columns={\"cluster\": \"spiketrain_2_cluster\"})\n",
    "    .drop(\"neuron_id\", axis=1)\n",
    "        .assign(has_sr=lambda x: \n",
    "                x.apply(lambda y: (y.spiketrain_1_cluster == \"slow_regular\") or (y.spiketrain_2_cluster== \"slow_regular\"),\n",
    "                       axis=1),\n",
    "            has_sir=lambda x: \n",
    "                x.apply(lambda y: (y.spiketrain_1_cluster == \"slow_irregular\") or (y.spiketrain_2_cluster== \"slow_irregular\"),\n",
    "                       axis=1),\n",
    "            has_ff=lambda x: \n",
    "                x.apply(lambda y: (y.spiketrain_1_cluster == \"fast_firing\") or (y.spiketrain_2_cluster== \"fast_firing\"),\n",
    "                       axis=1)\n",
    "           )\n",
    "    .assign(comb= lambda x: x.apply(lambda y: \n",
    "                                    \"sr_sr\" if y.has_sr and (not y.has_sir) and (not y.has_ff)\n",
    "                                   else \"sr_sir\" if y.has_sr and y.has_sir and (not y.has_ff)\n",
    "                                   else \"sr_ff\" if y.has_sr and (not y.has_sir) and y.has_ff\n",
    "                                   else \"sir_sir\" if (not y.has_sr) and y.has_sir and (not y.has_ff)\n",
    "                                   else \"sir_ff\" if (not y.has_sr) and y.has_sir and y.has_ff\n",
    "                                   else \"ff_ff\", axis=1\n",
    "                                   )\n",
    "           )\n",
    "    .to_csv(data_dir / \"Corr_RollingCorr_DetaTheta.csv\", index=False)\n",
    "    )"
   ]
  },
  {
   "cell_type": "code",
   "execution_count": null,
   "metadata": {},
   "outputs": [],
   "source": []
  }
 ],
 "metadata": {
  "kernelspec": {
   "display_name": "Python 3",
   "language": "python",
   "name": "python3"
  },
  "language_info": {
   "codemirror_mode": {
    "name": "ipython",
    "version": 3
   },
   "file_extension": ".py",
   "mimetype": "text/x-python",
   "name": "python",
   "nbconvert_exporter": "python",
   "pygments_lexer": "ipython3",
   "version": "3.8.2"
  }
 },
 "nbformat": 4,
 "nbformat_minor": 4
}
