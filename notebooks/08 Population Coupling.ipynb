{
 "cells": [
  {
   "cell_type": "code",
   "execution_count": 1,
   "metadata": {},
   "outputs": [],
   "source": [
    "from ephys_queries import (\n",
    "    select_spike_times\n",
    ")\n",
    "from ephys_queries import db_setup_core\n",
    "from dotenv import load_dotenv"
   ]
  },
  {
   "cell_type": "code",
   "execution_count": 2,
   "metadata": {},
   "outputs": [],
   "source": [
    "import pandas as pd\n",
    "import numpy as np\n",
    "from pathlib import Path"
   ]
  },
  {
   "cell_type": "code",
   "execution_count": 3,
   "metadata": {},
   "outputs": [],
   "source": [
    "from spiketimes.df.population import population_coupling_df"
   ]
  },
  {
   "cell_type": "code",
   "execution_count": 4,
   "metadata": {},
   "outputs": [],
   "source": [
    "data_dir = Path(\".\").absolute().parent / \"data\"\n",
    "dfb = pd.read_csv(data_dir / \"baseline.csv\")"
   ]
  },
  {
   "cell_type": "code",
   "execution_count": 5,
   "metadata": {},
   "outputs": [],
   "source": [
    "load_dotenv()\n",
    "engine, metadata = db_setup_core()\n",
    "group_names = [\"acute_citalopram\", \"acute_saline\", \"shock\", \n",
    "               \"sham\", \"acute_cit\", \"acute_sal\"]\n",
    "block_name = \"pre\"\n",
    "fs = 30000\n",
    "\n",
    "df_spiketimes = (\n",
    "    select_spike_times(\n",
    "        engine, metadata, \n",
    "        block_name=block_name, \n",
    "        group_names=group_names,\n",
    "    )\n",
    "    .assign(\n",
    "        spiketimes= lambda x: x[\"spike_time_samples\"].divide(fs)\n",
    "    )\n",
    "    .drop(\"spike_time_samples\", axis=1)\n",
    "    .merge(dfb[[\"cluster\", \"neuron_id\", \"session_name\", \"group_name\"]])\n",
    "    .loc[lambda x: x[\"cluster\"] != \"no_baseline\"]\n",
    ")"
   ]
  },
  {
   "cell_type": "code",
   "execution_count": 6,
   "metadata": {},
   "outputs": [],
   "source": [
    "session_names = df_spiketimes[\"session_name\"].unique()"
   ]
  },
  {
   "cell_type": "code",
   "execution_count": 7,
   "metadata": {},
   "outputs": [],
   "source": [
    "big_frames = []\n",
    "BIN = 0.001\n",
    "NUM_LAGS=400\n",
    "\n",
    "frames = []\n",
    "for session in session_names:\n",
    "    frames.append(\n",
    "        df_spiketimes\n",
    "        .loc[lambda x: x[\"session_name\"]==session]\n",
    "        .pipe(\n",
    "            lambda x: population_coupling_df(\n",
    "                x,\n",
    "                binsize=BIN,\n",
    "                num_lags=NUM_LAGS,\n",
    "                spiketimes_col=\"spiketimes\", \n",
    "                spiketrain_col=\"neuron_id\",\n",
    "                return_all=False\n",
    "                )\n",
    "            )\n",
    "            .assign(session_name=session,\n",
    "                   num_lags=NUM_LAGS,\n",
    "                   )\n",
    "        )\n",
    "df = pd.concat(frames).assign(binsize=BIN)"
   ]
  },
  {
   "cell_type": "code",
   "execution_count": 15,
   "metadata": {},
   "outputs": [],
   "source": [
    "(\n",
    "    df\n",
    "    .merge(dfb)\n",
    "    .to_csv(data_dir / \"population_coupling.csv\", index=False)\n",
    ")"
   ]
  },
  {
   "cell_type": "code",
   "execution_count": null,
   "metadata": {},
   "outputs": [],
   "source": []
  }
 ],
 "metadata": {
  "kernelspec": {
   "display_name": "Python 3",
   "language": "python",
   "name": "python3"
  },
  "language_info": {
   "codemirror_mode": {
    "name": "ipython",
    "version": 3
   },
   "file_extension": ".py",
   "mimetype": "text/x-python",
   "name": "python",
   "nbconvert_exporter": "python",
   "pygments_lexer": "ipython3",
   "version": "3.8.2"
  }
 },
 "nbformat": 4,
 "nbformat_minor": 2
}
