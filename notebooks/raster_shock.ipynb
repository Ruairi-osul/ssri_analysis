{
 "cells": [
  {
   "cell_type": "code",
   "execution_count": 1,
   "metadata": {},
   "outputs": [],
   "source": [
    "import pandas as pd\n",
    "from pathlib import Path\n",
    "import numpy as np\n",
    "from ephys_queries import db_setup_core, select_spike_times, select_discrete_data\n",
    "from dotenv import load_dotenv\n",
    "import matplotlib.pyplot as plt\n",
    "plt.rcParams['svg.fonttype'] = 'none'"
   ]
  },
  {
   "cell_type": "code",
   "execution_count": 2,
   "metadata": {},
   "outputs": [],
   "source": [
    "data_dir = Path(\".\").absolute().parent / \"data\"\n",
    "fig_dir = Path(\".\").absolute().parent / \"figs\""
   ]
  },
  {
   "cell_type": "code",
   "execution_count": 4,
   "metadata": {},
   "outputs": [],
   "source": [
    "df = (\n",
    "    pd.read_csv(data_dir / \"baseline.csv\")\n",
    "    .loc[lambda x: \n",
    "         (x[\"group_name\"].isin((\n",
    "            \"acute_citalopram\", \n",
    "            \"acute_saline\", \n",
    "            \"shock\", \n",
    "            \"sham\", \n",
    "            \"acute_cit\", \n",
    "            \"acute_sal\"\n",
    "                ))\n",
    "        )]\n",
    ")"
   ]
  },
  {
   "cell_type": "code",
   "execution_count": 5,
   "metadata": {},
   "outputs": [],
   "source": [
    "df_response = pd.read_csv(data_dir / \"psth_responses.csv\")"
   ]
  },
  {
   "cell_type": "code",
   "execution_count": 6,
   "metadata": {},
   "outputs": [],
   "source": [
    "group_names = [\"acute_citalopram\", \"acute_saline\", \"shock\", \n",
    "               \"sham\", \"acute_cit\", \"acute_sal\"]\n",
    "block_name = \"base_shock\"\n",
    "fs = 30000\n",
    "\n",
    "load_dotenv()\n",
    "engine, metadata = db_setup_core()\n",
    "session= \"hamilton_36\""
   ]
  },
  {
   "cell_type": "code",
   "execution_count": 7,
   "metadata": {},
   "outputs": [
    {
     "data": {
      "text/html": [
       "<div>\n",
       "<style scoped>\n",
       "    .dataframe tbody tr th:only-of-type {\n",
       "        vertical-align: middle;\n",
       "    }\n",
       "\n",
       "    .dataframe tbody tr th {\n",
       "        vertical-align: top;\n",
       "    }\n",
       "\n",
       "    .dataframe thead th {\n",
       "        text-align: right;\n",
       "    }\n",
       "</style>\n",
       "<table border=\"1\" class=\"dataframe\">\n",
       "  <thead>\n",
       "    <tr style=\"text-align: right;\">\n",
       "      <th></th>\n",
       "      <th>session_name</th>\n",
       "      <th>cluster</th>\n",
       "      <th>0</th>\n",
       "    </tr>\n",
       "  </thead>\n",
       "  <tbody>\n",
       "    <tr>\n",
       "      <th>64</th>\n",
       "      <td>hamilton_36</td>\n",
       "      <td>fast_firing</td>\n",
       "      <td>4</td>\n",
       "    </tr>\n",
       "    <tr>\n",
       "      <th>65</th>\n",
       "      <td>hamilton_36</td>\n",
       "      <td>slow_irregular</td>\n",
       "      <td>13</td>\n",
       "    </tr>\n",
       "    <tr>\n",
       "      <th>66</th>\n",
       "      <td>hamilton_36</td>\n",
       "      <td>slow_regular</td>\n",
       "      <td>7</td>\n",
       "    </tr>\n",
       "  </tbody>\n",
       "</table>\n",
       "</div>"
      ],
      "text/plain": [
       "   session_name         cluster   0\n",
       "64  hamilton_36     fast_firing   4\n",
       "65  hamilton_36  slow_irregular  13\n",
       "66  hamilton_36    slow_regular   7"
      ]
     },
     "execution_count": 7,
     "metadata": {},
     "output_type": "execute_result"
    }
   ],
   "source": [
    "(\n",
    "    df[[\"neuron_id\", \"session_name\",\"cluster\"]]\n",
    "    .groupby(['session_name', \"cluster\"])\n",
    "    .apply(len)\n",
    "    .reset_index()\n",
    "    .loc[lambda x: x[\"session_name\"]==session]\n",
    ")"
   ]
  },
  {
   "cell_type": "code",
   "execution_count": 8,
   "metadata": {},
   "outputs": [],
   "source": [
    "df_spikes = (\n",
    "    select_spike_times(\n",
    "        engine, metadata, \n",
    "        block_name=block_name, \n",
    "        group_names=group_names,\n",
    "        session_names=[session]\n",
    "    )\n",
    "    .assign(\n",
    "        spiketimes= lambda x: x[\"spike_time_samples\"].divide(fs)\n",
    "    )\n",
    ")\n",
    "df_events = (\n",
    "    select_discrete_data(\n",
    "        engine, metadata, \n",
    "        block_name=block_name,\n",
    "        group_names=group_names,\n",
    "    )\n",
    "    .loc[lambda x: x[\"session_name\"]==session]\n",
    "    .assign(\n",
    "        event_s= lambda x: x[\"timepoint_sample\"].divide(fs)\n",
    "    )\n",
    ")"
   ]
  },
  {
   "cell_type": "code",
   "execution_count": 9,
   "metadata": {},
   "outputs": [
    {
     "data": {
      "text/plain": [
       "'hamilton_36'"
      ]
     },
     "execution_count": 9,
     "metadata": {},
     "output_type": "execute_result"
    }
   ],
   "source": [
    "\"hamilton_36\""
   ]
  },
  {
   "cell_type": "code",
   "execution_count": 10,
   "metadata": {},
   "outputs": [],
   "source": [
    "df_spikes = df_spikes.merge(df_response[[\"response_baseshock\", \"neuron_id\", \"cluster\"]])"
   ]
  },
  {
   "cell_type": "code",
   "execution_count": 11,
   "metadata": {},
   "outputs": [],
   "source": [
    "from spiketimes.df.conversion import df_to_list\n",
    "\n",
    "\n",
    "_, inhibs = df_to_list(df_spikes[df_spikes[\"response_baseshock\"] == \"Inhibited\"],\n",
    "               spiketimes_col=\"spiketimes\",\n",
    "               spiketrain_col=\"neuron_id\")\n",
    "\n",
    "_, stims = df_to_list(df_spikes[df_spikes[\"response_baseshock\"] == \"Stimulated\"],\n",
    "               spiketimes_col=\"spiketimes\",\n",
    "               spiketrain_col=\"neuron_id\")"
   ]
  },
  {
   "cell_type": "code",
   "execution_count": 12,
   "metadata": {},
   "outputs": [
    {
     "data": {
      "image/png": "[encoded data removed]",
      "text/plain": [
       "<Figure size 720x504 with 1 Axes>"
      ]
     },
     "metadata": {
      "needs_background": "light"
     },
     "output_type": "display_data"
    }
   ],
   "source": [
    "from spiketimes.plots import grouped_raster, add_event_vlines\n",
    "import matplotlib.pyplot as plt\n",
    "\n",
    "f, ax = plt.subplots(figsize=(10, 7))\n",
    "\n",
    "t_start = 1900.3\n",
    "t_stop = t_start + 15\n",
    "\n",
    "events = (\n",
    "    df_events[\n",
    "        (df_events[\"event_s\"] >= t_start) & (df_events[\"event_s\"] <= t_stop)]\n",
    "    [\"event_s\"].values\n",
    ")\n",
    "\n",
    "ax = grouped_raster([inhibs, stims[-5:]],\n",
    "                    [\"#31A6D9\", \"#F6931D\"],\n",
    "               t_start=t_start, t_stop=t_stop,\n",
    "                    space_between_groups=1,\n",
    "               plot_kwargs={\"s\":90},\n",
    "                   ax=ax)\n",
    "\n",
    "ax.set_yticks(ticks=[0, 1, 2, 3, 5,6 , 7, 8])\n",
    "ax.set_yticklabels([])\n",
    "\n",
    "ax.set_xticks(ticks=events[::2])\n",
    "ax.set_xticklabels([0, 4, 8, 12], fontsize=20)\n",
    "\n",
    "\n",
    "ax.set(frame_on=False)\n",
    "\n",
    "ax.set_ylabel(\"Unit\", fontsize=24)\n",
    "ax.set_xlabel(\"Time [sec]\", fontsize=24)\n",
    "\n",
    "add_event_vlines(ax, events)\n",
    "\n",
    "plt.tight_layout()\n",
    "# plt.savefig(fig_dir / \"psth_raster.svg\", transparent=True, dpi=300)"
   ]
  },
  {
   "cell_type": "markdown",
   "metadata": {},
   "source": [
    "# By Neuron Type\n",
    "\n",
    "## SR"
   ]
  },
  {
   "cell_type": "code",
   "execution_count": 14,
   "metadata": {},
   "outputs": [
    {
     "data": {
      "text/plain": [
       "session_name  response_baseshock\n",
       "hamilton_04   Stimulated             4\n",
       "hamilton_09   Non Responder          3\n",
       "              Inhibited              1\n",
       "hamilton_31   Non Responder         11\n",
       "              Stimulated             7\n",
       "hamilton_32   Non Responder          5\n",
       "              Stimulated             5\n",
       "              Inhibited              2\n",
       "hamilton_35   Stimulated            11\n",
       "              Inhibited              8\n",
       "              Non Responder          8\n",
       "hamilton_36   Non Responder          3\n",
       "              Inhibited              2\n",
       "              Stimulated             1\n",
       "hamilton_37   Non Responder         11\n",
       "              Inhibited              5\n",
       "              Stimulated             3\n",
       "hamilton_38   Stimulated             1\n",
       "Name: response_baseshock, dtype: int64"
      ]
     },
     "execution_count": 14,
     "metadata": {},
     "output_type": "execute_result"
    }
   ],
   "source": [
    "df_response.loc[lambda x: x.cluster == \"slow_regular\"].groupby(\"session_name\").response_baseshock.value_counts()"
   ]
  },
  {
   "cell_type": "code",
   "execution_count": 15,
   "metadata": {},
   "outputs": [
    {
     "data": {
      "text/html": [
       "<div>\n",
       "<style scoped>\n",
       "    .dataframe tbody tr th:only-of-type {\n",
       "        vertical-align: middle;\n",
       "    }\n",
       "\n",
       "    .dataframe tbody tr th {\n",
       "        vertical-align: top;\n",
       "    }\n",
       "\n",
       "    .dataframe thead th {\n",
       "        text-align: right;\n",
       "    }\n",
       "</style>\n",
       "<table border=\"1\" class=\"dataframe\">\n",
       "  <thead>\n",
       "    <tr style=\"text-align: right;\">\n",
       "      <th></th>\n",
       "      <th>neuron_id</th>\n",
       "      <th>mean_firing_rate_ifr</th>\n",
       "      <th>mean_firing_rate</th>\n",
       "      <th>cv2_isi</th>\n",
       "      <th>waveform_width</th>\n",
       "      <th>peak_asymmetry</th>\n",
       "      <th>cluster</th>\n",
       "      <th>channel</th>\n",
       "      <th>is_single_unit</th>\n",
       "      <th>session_name</th>\n",
       "      <th>group_name</th>\n",
       "      <th>experiment_name</th>\n",
       "    </tr>\n",
       "  </thead>\n",
       "  <tbody>\n",
       "    <tr>\n",
       "      <th>0</th>\n",
       "      <td>1</td>\n",
       "      <td>0.918980</td>\n",
       "      <td>0.601693</td>\n",
       "      <td>0.467315</td>\n",
       "      <td>16.0</td>\n",
       "      <td>0.065574</td>\n",
       "      <td>slow_regular</td>\n",
       "      <td>6</td>\n",
       "      <td>1</td>\n",
       "      <td>ESHOCK_03_LOC1</td>\n",
       "      <td>shock</td>\n",
       "      <td>ESHOCK</td>\n",
       "    </tr>\n",
       "    <tr>\n",
       "      <th>1</th>\n",
       "      <td>4</td>\n",
       "      <td>3.521961</td>\n",
       "      <td>2.105512</td>\n",
       "      <td>0.824797</td>\n",
       "      <td>9.0</td>\n",
       "      <td>0.037344</td>\n",
       "      <td>slow_irregular</td>\n",
       "      <td>17</td>\n",
       "      <td>1</td>\n",
       "      <td>ESHOCK_03_LOC1</td>\n",
       "      <td>shock</td>\n",
       "      <td>ESHOCK</td>\n",
       "    </tr>\n",
       "    <tr>\n",
       "      <th>2</th>\n",
       "      <td>5</td>\n",
       "      <td>7.001852</td>\n",
       "      <td>1.778190</td>\n",
       "      <td>0.394575</td>\n",
       "      <td>17.0</td>\n",
       "      <td>0.070539</td>\n",
       "      <td>slow_regular</td>\n",
       "      <td>20</td>\n",
       "      <td>1</td>\n",
       "      <td>ESHOCK_03_LOC1</td>\n",
       "      <td>shock</td>\n",
       "      <td>ESHOCK</td>\n",
       "    </tr>\n",
       "    <tr>\n",
       "      <th>3</th>\n",
       "      <td>6</td>\n",
       "      <td>1.620700</td>\n",
       "      <td>0.832163</td>\n",
       "      <td>0.428821</td>\n",
       "      <td>21.0</td>\n",
       "      <td>0.087137</td>\n",
       "      <td>slow_regular</td>\n",
       "      <td>26</td>\n",
       "      <td>1</td>\n",
       "      <td>ESHOCK_03_LOC1</td>\n",
       "      <td>shock</td>\n",
       "      <td>ESHOCK</td>\n",
       "    </tr>\n",
       "    <tr>\n",
       "      <th>4</th>\n",
       "      <td>8</td>\n",
       "      <td>5.206785</td>\n",
       "      <td>1.690391</td>\n",
       "      <td>0.305202</td>\n",
       "      <td>70.0</td>\n",
       "      <td>0.343137</td>\n",
       "      <td>slow_regular</td>\n",
       "      <td>28</td>\n",
       "      <td>1</td>\n",
       "      <td>ESHOCK_03_LOC1</td>\n",
       "      <td>shock</td>\n",
       "      <td>ESHOCK</td>\n",
       "    </tr>\n",
       "    <tr>\n",
       "      <th>...</th>\n",
       "      <td>...</td>\n",
       "      <td>...</td>\n",
       "      <td>...</td>\n",
       "      <td>...</td>\n",
       "      <td>...</td>\n",
       "      <td>...</td>\n",
       "      <td>...</td>\n",
       "      <td>...</td>\n",
       "      <td>...</td>\n",
       "      <td>...</td>\n",
       "      <td>...</td>\n",
       "      <td>...</td>\n",
       "    </tr>\n",
       "    <tr>\n",
       "      <th>580</th>\n",
       "      <td>165</td>\n",
       "      <td>NaN</td>\n",
       "      <td>NaN</td>\n",
       "      <td>NaN</td>\n",
       "      <td>NaN</td>\n",
       "      <td>NaN</td>\n",
       "      <td>no_baseline</td>\n",
       "      <td>7</td>\n",
       "      <td>1</td>\n",
       "      <td>ESHOCK_09_LOC1</td>\n",
       "      <td>sham</td>\n",
       "      <td>ESHOCK</td>\n",
       "    </tr>\n",
       "    <tr>\n",
       "      <th>581</th>\n",
       "      <td>183</td>\n",
       "      <td>NaN</td>\n",
       "      <td>NaN</td>\n",
       "      <td>NaN</td>\n",
       "      <td>NaN</td>\n",
       "      <td>NaN</td>\n",
       "      <td>no_baseline</td>\n",
       "      <td>7</td>\n",
       "      <td>1</td>\n",
       "      <td>ESHOCK_09_LOC1</td>\n",
       "      <td>sham</td>\n",
       "      <td>ESHOCK</td>\n",
       "    </tr>\n",
       "    <tr>\n",
       "      <th>582</th>\n",
       "      <td>1063</td>\n",
       "      <td>NaN</td>\n",
       "      <td>NaN</td>\n",
       "      <td>NaN</td>\n",
       "      <td>NaN</td>\n",
       "      <td>NaN</td>\n",
       "      <td>no_baseline</td>\n",
       "      <td>23</td>\n",
       "      <td>1</td>\n",
       "      <td>hamilton_09</td>\n",
       "      <td>acute_cit</td>\n",
       "      <td>HAMILTON</td>\n",
       "    </tr>\n",
       "    <tr>\n",
       "      <th>583</th>\n",
       "      <td>1753</td>\n",
       "      <td>NaN</td>\n",
       "      <td>NaN</td>\n",
       "      <td>NaN</td>\n",
       "      <td>NaN</td>\n",
       "      <td>NaN</td>\n",
       "      <td>no_baseline</td>\n",
       "      <td>10</td>\n",
       "      <td>1</td>\n",
       "      <td>hamilton_38</td>\n",
       "      <td>acute_cit</td>\n",
       "      <td>HAMILTON</td>\n",
       "    </tr>\n",
       "    <tr>\n",
       "      <th>584</th>\n",
       "      <td>2326</td>\n",
       "      <td>NaN</td>\n",
       "      <td>NaN</td>\n",
       "      <td>NaN</td>\n",
       "      <td>NaN</td>\n",
       "      <td>NaN</td>\n",
       "      <td>no_baseline</td>\n",
       "      <td>18</td>\n",
       "      <td>1</td>\n",
       "      <td>acute_15</td>\n",
       "      <td>acute_saline</td>\n",
       "      <td>CITWAY</td>\n",
       "    </tr>\n",
       "  </tbody>\n",
       "</table>\n",
       "<p>585 rows × 12 columns</p>\n",
       "</div>"
      ],
      "text/plain": [
       "     neuron_id  mean_firing_rate_ifr  mean_firing_rate   cv2_isi  \\\n",
       "0            1              0.918980          0.601693  0.467315   \n",
       "1            4              3.521961          2.105512  0.824797   \n",
       "2            5              7.001852          1.778190  0.394575   \n",
       "3            6              1.620700          0.832163  0.428821   \n",
       "4            8              5.206785          1.690391  0.305202   \n",
       "..         ...                   ...               ...       ...   \n",
       "580        165                   NaN               NaN       NaN   \n",
       "581        183                   NaN               NaN       NaN   \n",
       "582       1063                   NaN               NaN       NaN   \n",
       "583       1753                   NaN               NaN       NaN   \n",
       "584       2326                   NaN               NaN       NaN   \n",
       "\n",
       "     waveform_width  peak_asymmetry         cluster  channel  is_single_unit  \\\n",
       "0              16.0        0.065574    slow_regular        6               1   \n",
       "1               9.0        0.037344  slow_irregular       17               1   \n",
       "2              17.0        0.070539    slow_regular       20               1   \n",
       "3              21.0        0.087137    slow_regular       26               1   \n",
       "4              70.0        0.343137    slow_regular       28               1   \n",
       "..              ...             ...             ...      ...             ...   \n",
       "580             NaN             NaN     no_baseline        7               1   \n",
       "581             NaN             NaN     no_baseline        7               1   \n",
       "582             NaN             NaN     no_baseline       23               1   \n",
       "583             NaN             NaN     no_baseline       10               1   \n",
       "584             NaN             NaN     no_baseline       18               1   \n",
       "\n",
       "       session_name    group_name experiment_name  \n",
       "0    ESHOCK_03_LOC1         shock          ESHOCK  \n",
       "1    ESHOCK_03_LOC1         shock          ESHOCK  \n",
       "2    ESHOCK_03_LOC1         shock          ESHOCK  \n",
       "3    ESHOCK_03_LOC1         shock          ESHOCK  \n",
       "4    ESHOCK_03_LOC1         shock          ESHOCK  \n",
       "..              ...           ...             ...  \n",
       "580  ESHOCK_09_LOC1          sham          ESHOCK  \n",
       "581  ESHOCK_09_LOC1          sham          ESHOCK  \n",
       "582     hamilton_09     acute_cit        HAMILTON  \n",
       "583     hamilton_38     acute_cit        HAMILTON  \n",
       "584        acute_15  acute_saline          CITWAY  \n",
       "\n",
       "[585 rows x 12 columns]"
      ]
     },
     "execution_count": 15,
     "metadata": {},
     "output_type": "execute_result"
    }
   ],
   "source": [
    "df"
   ]
  },
  {
   "cell_type": "code",
   "execution_count": 84,
   "metadata": {},
   "outputs": [],
   "source": [
    "df_spikes = (\n",
    "    select_spike_times(\n",
    "        engine, metadata, \n",
    "        block_name=block_name, \n",
    "        group_names=group_names,\n",
    "    )\n",
    "    .assign(\n",
    "        spiketimes= lambda x: x[\"spike_time_samples\"].divide(fs)\n",
    "    )\n",
    ")\n",
    "df_events = (\n",
    "    select_discrete_data(\n",
    "        engine, metadata, \n",
    "        block_name=block_name,\n",
    "        group_names=group_names,\n",
    "    )\n",
    "    .loc[lambda x: x[\"session_name\"]==session]\n",
    "    .assign(\n",
    "        event_s= lambda x: x[\"timepoint_sample\"].divide(fs)\n",
    "    )\n",
    ")\n",
    "df_spikes = (\n",
    "    df_spikes\n",
    "    .merge(df_response[[\"response_baseshock\", \"neuron_id\", \"cluster\"]]\n",
    "          )\n",
    "    .merge(df[[\"neuron_id\", \"session_name\"]])\n",
    ")"
   ]
  },
  {
   "cell_type": "code",
   "execution_count": 92,
   "metadata": {},
   "outputs": [],
   "source": [
    "df_spikes_sub = df_spikes.loc[lambda x: (x.cluster == \"slow_regular\") &\n",
    "                             (x.session_name == \"hamilton_37\")]\n",
    "\n",
    "_, inhibs = df_to_list(df_spikes_sub[\n",
    "    df_spikes_sub[\"response_baseshock\"] == \"Inhibited\"],\n",
    "               spiketimes_col=\"spiketimes\",\n",
    "               spiketrain_col=\"neuron_id\")\n",
    "\n",
    "_, stims = df_to_list(df_spikes_sub[df_spikes_sub[\"response_baseshock\"] == \"Stimulated\"],\n",
    "               spiketimes_col=\"spiketimes\",\n",
    "               spiketrain_col=\"neuron_id\")\n"
   ]
  },
  {
   "cell_type": "code",
   "execution_count": 93,
   "metadata": {},
   "outputs": [
    {
     "data": {
      "image/png": "[encoded data removed]",
      "text/plain": [
       "<Figure size 1152x288 with 1 Axes>"
      ]
     },
     "metadata": {
      "needs_background": "light"
     },
     "output_type": "display_data"
    }
   ],
   "source": [
    "from spiketimes.plots import grouped_raster, add_event_vlines\n",
    "import matplotlib.pyplot as plt\n",
    "\n",
    "f, ax = plt.subplots(figsize=(16, 4))\n",
    "\n",
    "t_start = 1910.3\n",
    "t_stop = t_start + 15\n",
    "\n",
    "events = (\n",
    "    df_events[\n",
    "        (df_events[\"event_s\"] >= t_start) & (df_events[\"event_s\"] <= t_stop)]\n",
    "    [\"event_s\"].values\n",
    ")\n",
    "\n",
    "ax = grouped_raster([inhibs, stims[:]],\n",
    "                    [\"#332288\", \"#332288\"],\n",
    "               t_start=t_start, t_stop=t_stop,\n",
    "                    space_between_groups=3,\n",
    "               plot_kwargs={\"s\":90},\n",
    "                   ax=ax)\n",
    "\n",
    "# ax.set_yticks(ticks=[0, 1, 2, 3, 5,6 , 7, 8])\n",
    "ax.set_yticklabels([])\n",
    "\n",
    "ax.set_xticks(ticks=events[::2])\n",
    "ax.set_xticklabels([0, 4, 8, 12], fontsize=20)\n",
    "\n",
    "\n",
    "ax.set(frame_on=False)\n",
    "\n",
    "ax.set_ylabel(\"Unit\", fontsize=24)\n",
    "ax.set_xlabel(\"Time [sec]\", fontsize=24)\n",
    "\n",
    "add_event_vlines(ax, events)\n",
    "\n",
    "plt.tight_layout()\n",
    "\n",
    "\n",
    "# plt.savefig(fig_dir / \"SR_psth_raster.svg\", transparent=True, dpi=300)"
   ]
  },
  {
   "cell_type": "markdown",
   "metadata": {},
   "source": [
    "## SIR"
   ]
  },
  {
   "cell_type": "code",
   "execution_count": 140,
   "metadata": {},
   "outputs": [],
   "source": [
    "df_spikes_sub = df_spikes.loc[lambda x: (x.cluster == \"slow_irregular\") &\n",
    "                             (x.session_name == \"hamilton_36\")]\n",
    "\n",
    "_, inhibs = df_to_list(df_spikes_sub[\n",
    "    df_spikes_sub[\"response_baseshock\"] == \"Inhibited\"],\n",
    "               spiketimes_col=\"spiketimes\",\n",
    "               spiketrain_col=\"neuron_id\")\n",
    "\n",
    "_, stims = df_to_list(df_spikes_sub[df_spikes_sub[\"response_baseshock\"] == \"Stimulated\"],\n",
    "               spiketimes_col=\"spiketimes\",\n",
    "               spiketrain_col=\"neuron_id\")"
   ]
  },
  {
   "cell_type": "code",
   "execution_count": 141,
   "metadata": {},
   "outputs": [
    {
     "data": {
      "image/png": "[encoded data removed]",
      "text/plain": [
       "<Figure size 1152x288 with 1 Axes>"
      ]
     },
     "metadata": {
      "needs_background": "light"
     },
     "output_type": "display_data"
    }
   ],
   "source": [
    "from spiketimes.plots import grouped_raster, add_event_vlines\n",
    "import matplotlib.pyplot as plt\n",
    "\n",
    "f, ax = plt.subplots(figsize=(16, 4))\n",
    "\n",
    "t_start = 1910.3\n",
    "t_stop = t_start + 15\n",
    "\n",
    "events = (\n",
    "    df_events[\n",
    "        (df_events[\"event_s\"] >= t_start) & (df_events[\"event_s\"] <= t_stop)]\n",
    "    [\"event_s\"].values\n",
    ")\n",
    "\n",
    "ax = grouped_raster([inhibs, stims[:]],\n",
    "                    [\"#CC6677\", \"#CC6677\"],\n",
    "               t_start=t_start, t_stop=t_stop,\n",
    "                    space_between_groups=3,\n",
    "               plot_kwargs={\"s\":90},\n",
    "                   ax=ax)\n",
    "\n",
    "# ax.set_yticks(ticks=[0, 1, 2, 3, 5,6 , 7, 8])\n",
    "ax.set_yticklabels([])\n",
    "\n",
    "ax.set_xticks(ticks=events[::2])\n",
    "ax.set_xticklabels([0, 4, 8, 12], fontsize=20)\n",
    "\n",
    "\n",
    "ax.set(frame_on=False)\n",
    "\n",
    "ax.set_ylabel(\"Unit\", fontsize=24)\n",
    "ax.set_xlabel(\"Time [sec]\", fontsize=24)\n",
    "\n",
    "add_event_vlines(ax, events)\n",
    "\n",
    "plt.tight_layout()\n",
    "plt.savefig(fig_dir / \"SIR_psth_raster.svg\", transparent=True, dpi=300)"
   ]
  },
  {
   "cell_type": "markdown",
   "metadata": {},
   "source": [
    "## FF"
   ]
  },
  {
   "cell_type": "code",
   "execution_count": 142,
   "metadata": {},
   "outputs": [],
   "source": [
    "df_spikes_sub = df_spikes.loc[lambda x: (x.cluster == \"fast_firing\")]\n",
    "\n",
    "_, inhibs = df_to_list(df_spikes_sub[\n",
    "    df_spikes_sub[\"response_baseshock\"] == \"Inhibited\"],\n",
    "               spiketimes_col=\"spiketimes\",\n",
    "               spiketrain_col=\"neuron_id\")\n",
    "\n",
    "_, stims = df_to_list(df_spikes_sub[df_spikes_sub[\"response_baseshock\"] == \"Stimulated\"],\n",
    "               spiketimes_col=\"spiketimes\",\n",
    "               spiketrain_col=\"neuron_id\")"
   ]
  },
  {
   "cell_type": "code",
   "execution_count": 144,
   "metadata": {},
   "outputs": [
    {
     "data": {
      "image/png": "[encoded data removed]",
      "text/plain": [
       "<Figure size 1152x288 with 1 Axes>"
      ]
     },
     "metadata": {
      "needs_background": "light"
     },
     "output_type": "display_data"
    }
   ],
   "source": [
    "from spiketimes.plots import grouped_raster, add_event_vlines\n",
    "import matplotlib.pyplot as plt\n",
    "\n",
    "f, ax = plt.subplots(figsize=(16, 4))\n",
    "\n",
    "t_start = 1850.3\n",
    "t_stop = t_start + 15\n",
    "\n",
    "events = (\n",
    "    df_events[\n",
    "        (df_events[\"event_s\"] >= t_start) & (df_events[\"event_s\"] <= t_stop)]\n",
    "    [\"event_s\"].values\n",
    ")\n",
    "\n",
    "ax = grouped_raster([inhibs, stims[::2]],\n",
    "                    [\"#117733\", \"#117733\"],\n",
    "               t_start=t_start, t_stop=t_stop,\n",
    "                    space_between_groups=3,\n",
    "               plot_kwargs={\"s\":90},\n",
    "                   ax=ax)\n",
    "\n",
    "# ax.set_yticks(ticks=[0, 1, 2, 3, 5,6 , 7, 8])\n",
    "ax.set_yticklabels([])\n",
    "\n",
    "ax.set_xticks(ticks=events[::2])\n",
    "ax.set_xticklabels([0, 4, 8, 12], fontsize=20)\n",
    "\n",
    "\n",
    "ax.set(frame_on=False)\n",
    "\n",
    "ax.set_ylabel(\"Unit\", fontsize=24)\n",
    "ax.set_xlabel(\"Time [sec]\", fontsize=24)\n",
    "\n",
    "add_event_vlines(ax, events)\n",
    "\n",
    "plt.tight_layout()\n",
    "plt.savefig(fig_dir / \"FF_psth_raster.svg\", transparent=True, dpi=300)"
   ]
  },
  {
   "cell_type": "markdown",
   "metadata": {},
   "source": [
    "## NSA"
   ]
  },
  {
   "cell_type": "code",
   "execution_count": 27,
   "metadata": {},
   "outputs": [],
   "source": [
    "df_spikes = (\n",
    "    select_spike_times(\n",
    "        engine, metadata, \n",
    "        block_name=block_name, \n",
    "        group_names=group_names,\n",
    "    )\n",
    "    .assign(\n",
    "        spiketimes= lambda x: x[\"spike_time_samples\"].divide(fs)\n",
    "    )\n",
    ")\n",
    "\n",
    "df_spikes = (\n",
    "    df_spikes\n",
    "    .merge(df_response[[\"response_baseshock\", \"neuron_id\", \"cluster\"]]\n",
    "          )\n",
    "    .merge(df[[\"neuron_id\", \"session_name\"]])\n",
    ")\n",
    "\n",
    "\n",
    "df_spikes_sub = df_spikes.loc[lambda x: (x.cluster == \"no_baseline\")]\n",
    "\n",
    "_, inhibs = df_to_list(df_spikes_sub[\n",
    "    df_spikes_sub[\"response_baseshock\"] == \"Inhibited\"],\n",
    "               spiketimes_col=\"spiketimes\",\n",
    "               spiketrain_col=\"neuron_id\")\n",
    "\n",
    "_, stims = df_to_list(df_spikes_sub[df_spikes_sub[\"response_baseshock\"] == \"Stimulated\"],\n",
    "               spiketimes_col=\"spiketimes\",\n",
    "               spiketrain_col=\"neuron_id\")"
   ]
  },
  {
   "cell_type": "code",
   "execution_count": 40,
   "metadata": {},
   "outputs": [
    {
     "data": {
      "image/png": "[encoded data removed]",
      "text/plain": [
       "<Figure size 1152x288 with 1 Axes>"
      ]
     },
     "metadata": {
      "needs_background": "light"
     },
     "output_type": "display_data"
    }
   ],
   "source": [
    "from spiketimes.plots import grouped_raster, add_event_vlines\n",
    "import matplotlib.pyplot as plt\n",
    "\n",
    "f, ax = plt.subplots(figsize=(16, 4))\n",
    "\n",
    "t_start = 1890.3\n",
    "t_stop = t_start + 15\n",
    "\n",
    "events = (\n",
    "    df_events[\n",
    "        (df_events[\"event_s\"] >= t_start) & (df_events[\"event_s\"] <= t_stop)]\n",
    "    [\"event_s\"].values\n",
    ")\n",
    "\n",
    "ax = grouped_raster([inhibs[::2], stims[1:4:2]],\n",
    "                    [\"#7E8283\", \"#7E8283\"],\n",
    "               t_start=t_start, t_stop=t_stop,\n",
    "                    space_between_groups=3,\n",
    "               plot_kwargs={\"s\":90},\n",
    "                   ax=ax)\n",
    "\n",
    "# ax.set_yticks(ticks=[0, 1, 2, 3, 5,6 , 7, 8])\n",
    "ax.set_yticklabels([])\n",
    "\n",
    "ax.set_xticks(ticks=events[::2])\n",
    "ax.set_xticklabels([0, 4, 8, 12], fontsize=20)\n",
    "\n",
    "\n",
    "ax.set(frame_on=False)\n",
    "\n",
    "ax.set_ylabel(\"Unit\", fontsize=24)\n",
    "ax.set_xlabel(\"Time [sec]\", fontsize=24)\n",
    "\n",
    "add_event_vlines(ax, events)\n",
    "\n",
    "plt.tight_layout()\n",
    "plt.savefig(fig_dir / \"NSA_psth_raster.svg\", transparent=True, dpi=300)"
   ]
  },
  {
   "cell_type": "code",
   "execution_count": 26,
   "metadata": {},
   "outputs": [
    {
     "data": {
      "text/plain": [
       "array(['slow_regular', 'slow_irregular', 'fast_firing', 'no_baseline'],\n",
       "      dtype=object)"
      ]
     },
     "execution_count": 26,
     "metadata": {},
     "output_type": "execute_result"
    }
   ],
   "source": [
    "df_spikes.cluster.unique()"
   ]
  },
  {
   "cell_type": "code",
   "execution_count": null,
   "metadata": {},
   "outputs": [],
   "source": []
  }
 ],
 "metadata": {
  "kernelspec": {
   "display_name": "Python 3",
   "language": "python",
   "name": "python3"
  },
  "language_info": {
   "codemirror_mode": {
    "name": "ipython",
    "version": 3
   },
   "file_extension": ".py",
   "mimetype": "text/x-python",
   "name": "python",
   "nbconvert_exporter": "python",
   "pygments_lexer": "ipython3",
   "version": "3.8.2"
  }
 },
 "nbformat": 4,
 "nbformat_minor": 4
}
