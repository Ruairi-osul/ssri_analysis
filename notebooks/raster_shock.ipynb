{
 "cells": [
  {
   "cell_type": "code",
   "execution_count": 1,
   "metadata": {},
   "outputs": [],
   "source": [
    "import pandas as pd\n",
    "from pathlib import Path\n",
    "import numpy as np\n",
    "from ephys_queries import db_setup_core, select_spike_times, select_discrete_data\n",
    "from dotenv import load_dotenv"
   ]
  },
  {
   "cell_type": "code",
   "execution_count": 2,
   "metadata": {},
   "outputs": [],
   "source": [
    "data_dir = Path(\".\").absolute().parent / \"data\"\n",
    "fig_dir = Path(\".\").absolute().parent / \"figs\""
   ]
  },
  {
   "cell_type": "code",
   "execution_count": 3,
   "metadata": {},
   "outputs": [],
   "source": [
    "df = (\n",
    "    pd.read_csv(data_dir / \"baseline.csv\")\n",
    "    .loc[lambda x: \n",
    "         (x[\"group_name\"].isin((\n",
    "            \"acute_citalopram\", \n",
    "            \"acute_saline\", \n",
    "            \"shock\", \n",
    "            \"sham\", \n",
    "            \"acute_cit\", \n",
    "            \"acute_sal\"\n",
    "                ))\n",
    "        ) & (\n",
    "         x[\"cluster\"] != \"no_baseline\")]\n",
    ")"
   ]
  },
  {
   "cell_type": "code",
   "execution_count": 4,
   "metadata": {},
   "outputs": [],
   "source": [
    "df_response = (pd.read_csv(data_dir / \"baseshock_response.csv\"))"
   ]
  },
  {
   "cell_type": "code",
   "execution_count": 5,
   "metadata": {},
   "outputs": [],
   "source": [
    "group_names = [\"acute_citalopram\", \"acute_saline\", \"shock\", \n",
    "               \"sham\", \"acute_cit\", \"acute_sal\"]\n",
    "block_name = \"base_shock\"\n",
    "fs = 30000\n",
    "\n",
    "load_dotenv()\n",
    "engine, metadata = db_setup_core()\n",
    "session= \"hamilton_36\""
   ]
  },
  {
   "cell_type": "code",
   "execution_count": 6,
   "metadata": {},
   "outputs": [
    {
     "data": {
      "text/html": [
       "<div>\n",
       "<style scoped>\n",
       "    .dataframe tbody tr th:only-of-type {\n",
       "        vertical-align: middle;\n",
       "    }\n",
       "\n",
       "    .dataframe tbody tr th {\n",
       "        vertical-align: top;\n",
       "    }\n",
       "\n",
       "    .dataframe thead th {\n",
       "        text-align: right;\n",
       "    }\n",
       "</style>\n",
       "<table border=\"1\" class=\"dataframe\">\n",
       "  <thead>\n",
       "    <tr style=\"text-align: right;\">\n",
       "      <th></th>\n",
       "      <th>session_name</th>\n",
       "      <th>cluster</th>\n",
       "      <th>0</th>\n",
       "    </tr>\n",
       "  </thead>\n",
       "  <tbody>\n",
       "    <tr>\n",
       "      <th>53</th>\n",
       "      <td>hamilton_36</td>\n",
       "      <td>fast_firing</td>\n",
       "      <td>4</td>\n",
       "    </tr>\n",
       "    <tr>\n",
       "      <th>54</th>\n",
       "      <td>hamilton_36</td>\n",
       "      <td>slow_irregular</td>\n",
       "      <td>13</td>\n",
       "    </tr>\n",
       "    <tr>\n",
       "      <th>55</th>\n",
       "      <td>hamilton_36</td>\n",
       "      <td>slow_regular</td>\n",
       "      <td>7</td>\n",
       "    </tr>\n",
       "  </tbody>\n",
       "</table>\n",
       "</div>"
      ],
      "text/plain": [
       "   session_name         cluster   0\n",
       "53  hamilton_36     fast_firing   4\n",
       "54  hamilton_36  slow_irregular  13\n",
       "55  hamilton_36    slow_regular   7"
      ]
     },
     "execution_count": 6,
     "metadata": {},
     "output_type": "execute_result"
    }
   ],
   "source": [
    "(\n",
    "    df[[\"neuron_id\", \"session_name\",\"cluster\"]]\n",
    "    .groupby(['session_name', \"cluster\"])\n",
    "    .apply(len)\n",
    "    .reset_index()\n",
    "    .loc[lambda x: x[\"session_name\"]==session]\n",
    ")"
   ]
  },
  {
   "cell_type": "code",
   "execution_count": 7,
   "metadata": {},
   "outputs": [],
   "source": [
    "df_spikes = (\n",
    "    select_spike_times(\n",
    "        engine, metadata, \n",
    "        block_name=block_name, \n",
    "        group_names=group_names,\n",
    "        session_names=[session]\n",
    "    )\n",
    "    .assign(\n",
    "        spiketimes= lambda x: x[\"spike_time_samples\"].divide(fs)\n",
    "    )\n",
    ")\n",
    "df_events = (\n",
    "    select_discrete_data(\n",
    "        engine, metadata, \n",
    "        block_name=block_name,\n",
    "        group_names=group_names,\n",
    "    )\n",
    "    .loc[lambda x: x[\"session_name\"]==session]\n",
    "    .assign(\n",
    "        event_s= lambda x: x[\"timepoint_sample\"].divide(fs)\n",
    "    )\n",
    ")"
   ]
  },
  {
   "cell_type": "code",
   "execution_count": 8,
   "metadata": {},
   "outputs": [
    {
     "data": {
      "text/html": [
       "<div>\n",
       "<style scoped>\n",
       "    .dataframe tbody tr th:only-of-type {\n",
       "        vertical-align: middle;\n",
       "    }\n",
       "\n",
       "    .dataframe tbody tr th {\n",
       "        vertical-align: top;\n",
       "    }\n",
       "\n",
       "    .dataframe thead th {\n",
       "        text-align: right;\n",
       "    }\n",
       "</style>\n",
       "<table border=\"1\" class=\"dataframe\">\n",
       "  <thead>\n",
       "    <tr style=\"text-align: right;\">\n",
       "      <th></th>\n",
       "      <th>signal_name</th>\n",
       "      <th>session_name</th>\n",
       "      <th>timepoint_sample</th>\n",
       "      <th>group_name</th>\n",
       "      <th>event_s</th>\n",
       "    </tr>\n",
       "  </thead>\n",
       "  <tbody>\n",
       "    <tr>\n",
       "      <th>1574</th>\n",
       "      <td>eshock</td>\n",
       "      <td>hamilton_36</td>\n",
       "      <td>54371645</td>\n",
       "      <td>acute_cit</td>\n",
       "      <td>1812.388167</td>\n",
       "    </tr>\n",
       "    <tr>\n",
       "      <th>1575</th>\n",
       "      <td>eshock</td>\n",
       "      <td>hamilton_36</td>\n",
       "      <td>54431633</td>\n",
       "      <td>acute_cit</td>\n",
       "      <td>1814.387767</td>\n",
       "    </tr>\n",
       "    <tr>\n",
       "      <th>1576</th>\n",
       "      <td>eshock</td>\n",
       "      <td>hamilton_36</td>\n",
       "      <td>54491620</td>\n",
       "      <td>acute_cit</td>\n",
       "      <td>1816.387333</td>\n",
       "    </tr>\n",
       "    <tr>\n",
       "      <th>1577</th>\n",
       "      <td>eshock</td>\n",
       "      <td>hamilton_36</td>\n",
       "      <td>54551608</td>\n",
       "      <td>acute_cit</td>\n",
       "      <td>1818.386933</td>\n",
       "    </tr>\n",
       "    <tr>\n",
       "      <th>1578</th>\n",
       "      <td>eshock</td>\n",
       "      <td>hamilton_36</td>\n",
       "      <td>54611595</td>\n",
       "      <td>acute_cit</td>\n",
       "      <td>1820.386500</td>\n",
       "    </tr>\n",
       "  </tbody>\n",
       "</table>\n",
       "</div>"
      ],
      "text/plain": [
       "     signal_name session_name  timepoint_sample group_name      event_s\n",
       "1574      eshock  hamilton_36          54371645  acute_cit  1812.388167\n",
       "1575      eshock  hamilton_36          54431633  acute_cit  1814.387767\n",
       "1576      eshock  hamilton_36          54491620  acute_cit  1816.387333\n",
       "1577      eshock  hamilton_36          54551608  acute_cit  1818.386933\n",
       "1578      eshock  hamilton_36          54611595  acute_cit  1820.386500"
      ]
     },
     "execution_count": 8,
     "metadata": {},
     "output_type": "execute_result"
    }
   ],
   "source": [
    "df_events.head()"
   ]
  },
  {
   "cell_type": "code",
   "execution_count": null,
   "metadata": {},
   "outputs": [],
   "source": [
    "\"hamilton_36\""
   ]
  },
  {
   "cell_type": "code",
   "execution_count": 9,
   "metadata": {},
   "outputs": [],
   "source": [
    "df_spikes = df_spikes.merge(df_response[[\"label\", \"neuron_id\"]])"
   ]
  },
  {
   "cell_type": "code",
   "execution_count": 10,
   "metadata": {},
   "outputs": [],
   "source": [
    "from spiketimes.df.conversion import df_to_list\n",
    "\n",
    "\n",
    "_, inhibs = df_to_list(df_spikes[df_spikes[\"label\"] == \"inhibited\"],\n",
    "               spiketimes_col=\"spiketimes\",\n",
    "               spiketrain_col=\"neuron_id\")\n",
    "\n",
    "_, stims = df_to_list(df_spikes[df_spikes[\"label\"] == \"stimulated\"],\n",
    "               spiketimes_col=\"spiketimes\",\n",
    "               spiketrain_col=\"neuron_id\")"
   ]
  },
  {
   "cell_type": "code",
   "execution_count": 11,
   "metadata": {},
   "outputs": [
    {
     "data": {
      "image/png": "[encoded data removed]",
      "text/plain": [
       "<Figure size 720x504 with 1 Axes>"
      ]
     },
     "metadata": {
      "needs_background": "light"
     },
     "output_type": "display_data"
    }
   ],
   "source": [
    "from spiketimes.plots import grouped_raster, add_event_vlines\n",
    "import matplotlib.pyplot as plt\n",
    "\n",
    "f, ax = plt.subplots(figsize=(10, 7))\n",
    "\n",
    "t_start = 1900.3\n",
    "t_stop = t_start + 15\n",
    "\n",
    "events = (\n",
    "    df_events[\n",
    "        (df_events[\"event_s\"] >= t_start) & (df_events[\"event_s\"] <= t_stop)]\n",
    "    [\"event_s\"].values\n",
    ")\n",
    "\n",
    "ax = grouped_raster([inhibs[2::2], stims[::2]],\n",
    "                    [\"#31A6D9\", \"#F6931D\"],\n",
    "               t_start=t_start, t_stop=t_stop,\n",
    "                    space_between_groups=1,\n",
    "               plot_kwargs={\"s\":90},\n",
    "                   ax=ax)\n",
    "\n",
    "ax.set_yticks(ticks=[0, 1, 2, 3, 5,6 , 7, 8])\n",
    "ax.set_yticklabels([])\n",
    "\n",
    "ax.set_xticks(ticks=events[::2])\n",
    "ax.set_xticklabels([0, 4, 6, 8], fontsize=20)\n",
    "\n",
    "\n",
    "ax.set(frame_on=False)\n",
    "\n",
    "ax.set_ylabel(\"Unit\", fontsize=24)\n",
    "ax.set_xlabel(\"Time [sec]\", fontsize=24)\n",
    "\n",
    "add_event_vlines(ax, events)\n",
    "\n",
    "plt.tight_layout()\n",
    "plt.savefig(fig_dir / \"psth_raster.png\", transparent=True, dpi=300)"
   ]
  },
  {
   "cell_type": "code",
   "execution_count": 49,
   "metadata": {},
   "outputs": [
    {
     "data": {
      "text/plain": [
       "array([1900.3709    , 1904.37016667, 1908.3694    , 1912.36866667])"
      ]
     },
     "execution_count": 49,
     "metadata": {},
     "output_type": "execute_result"
    }
   ],
   "source": [
    "events[::2]"
   ]
  },
  {
   "cell_type": "code",
   "execution_count": null,
   "metadata": {},
   "outputs": [],
   "source": []
  }
 ],
 "metadata": {
  "kernelspec": {
   "display_name": "Python 3",
   "language": "python",
   "name": "python3"
  },
  "language_info": {
   "codemirror_mode": {
    "name": "ipython",
    "version": 3
   },
   "file_extension": ".py",
   "mimetype": "text/x-python",
   "name": "python",
   "nbconvert_exporter": "python",
   "pygments_lexer": "ipython3",
   "version": "3.8.2"
  }
 },
 "nbformat": 4,
 "nbformat_minor": 4
}
