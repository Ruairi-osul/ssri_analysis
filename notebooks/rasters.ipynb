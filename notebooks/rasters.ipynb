{
 "cells": [
  {
   "cell_type": "code",
   "execution_count": 1,
   "metadata": {},
   "outputs": [],
   "source": [
    "import pandas as pd\n",
    "from pathlib import Path\n",
    "import numpy as np\n",
    "from ephys_queries import db_setup_core, select_spike_times\n",
    "from dotenv import load_dotenv"
   ]
  },
  {
   "cell_type": "code",
   "execution_count": 83,
   "metadata": {},
   "outputs": [],
   "source": [
    "data_dir = Path(\".\").absolute().parent / \"data\"\n",
    "fig_dir = Path(\".\").absolute().parent / \"figs\""
   ]
  },
  {
   "cell_type": "code",
   "execution_count": 3,
   "metadata": {},
   "outputs": [],
   "source": [
    "df = (\n",
    "    pd.read_csv(data_dir / \"baseline.csv\")\n",
    "    .loc[lambda x: \n",
    "         (x[\"group_name\"].isin((\n",
    "            \"acute_citalopram\", \n",
    "            \"acute_saline\", \n",
    "            \"shock\", \n",
    "            \"sham\", \n",
    "            \"acute_cit\", \n",
    "            \"acute_sal\"\n",
    "                ))\n",
    "        ) & (\n",
    "         x[\"cluster\"] != \"no_baseline\")]\n",
    ")"
   ]
  },
  {
   "cell_type": "code",
   "execution_count": 4,
   "metadata": {},
   "outputs": [],
   "source": [
    "group_names = [\"acute_citalopram\", \"acute_saline\", \"shock\", \n",
    "               \"sham\", \"acute_cit\", \"acute_sal\"]\n",
    "block_name = \"pre\"\n",
    "fs = 30000\n",
    "\n",
    "load_dotenv()\n",
    "engine, metadata = db_setup_core()"
   ]
  },
  {
   "cell_type": "code",
   "execution_count": 46,
   "metadata": {},
   "outputs": [],
   "source": [
    "session_names = df[\"session_name\"].unique()\n",
    "session = np.random.choice(session_names, 1)[0]"
   ]
  },
  {
   "cell_type": "code",
   "execution_count": 47,
   "metadata": {},
   "outputs": [
    {
     "data": {
      "text/html": [
       "<div>\n",
       "<style scoped>\n",
       "    .dataframe tbody tr th:only-of-type {\n",
       "        vertical-align: middle;\n",
       "    }\n",
       "\n",
       "    .dataframe tbody tr th {\n",
       "        vertical-align: top;\n",
       "    }\n",
       "\n",
       "    .dataframe thead th {\n",
       "        text-align: right;\n",
       "    }\n",
       "</style>\n",
       "<table border=\"1\" class=\"dataframe\">\n",
       "  <thead>\n",
       "    <tr style=\"text-align: right;\">\n",
       "      <th></th>\n",
       "      <th>session_name</th>\n",
       "      <th>cluster</th>\n",
       "      <th>0</th>\n",
       "    </tr>\n",
       "  </thead>\n",
       "  <tbody>\n",
       "    <tr>\n",
       "      <th>8</th>\n",
       "      <td>ESHOCK_07_LOC1</td>\n",
       "      <td>fast_firing</td>\n",
       "      <td>7</td>\n",
       "    </tr>\n",
       "    <tr>\n",
       "      <th>9</th>\n",
       "      <td>ESHOCK_07_LOC1</td>\n",
       "      <td>slow_irregular</td>\n",
       "      <td>3</td>\n",
       "    </tr>\n",
       "    <tr>\n",
       "      <th>10</th>\n",
       "      <td>ESHOCK_07_LOC1</td>\n",
       "      <td>slow_regular</td>\n",
       "      <td>2</td>\n",
       "    </tr>\n",
       "  </tbody>\n",
       "</table>\n",
       "</div>"
      ],
      "text/plain": [
       "      session_name         cluster  0\n",
       "8   ESHOCK_07_LOC1     fast_firing  7\n",
       "9   ESHOCK_07_LOC1  slow_irregular  3\n",
       "10  ESHOCK_07_LOC1    slow_regular  2"
      ]
     },
     "execution_count": 47,
     "metadata": {},
     "output_type": "execute_result"
    }
   ],
   "source": [
    "(\n",
    "    df[[\"neuron_id\", \"session_name\",\"cluster\"]]\n",
    "    .groupby(['session_name', \"cluster\"])\n",
    "    .apply(len)\n",
    "    .reset_index()\n",
    "    .loc[lambda x: x[\"session_name\"]==session]\n",
    ")"
   ]
  },
  {
   "cell_type": "code",
   "execution_count": 48,
   "metadata": {},
   "outputs": [],
   "source": [
    "# session = \"hamilton_36\""
   ]
  },
  {
   "cell_type": "code",
   "execution_count": 49,
   "metadata": {},
   "outputs": [],
   "source": [
    "df_spikes = (\n",
    "    select_spike_times(\n",
    "        engine, metadata, \n",
    "        block_name=block_name, \n",
    "        group_names=group_names,\n",
    "        session_names=[session]\n",
    "    )\n",
    "    .assign(\n",
    "        spiketimes= lambda x: x[\"spike_time_samples\"].divide(fs)\n",
    "    )\n",
    ")"
   ]
  },
  {
   "cell_type": "code",
   "execution_count": 50,
   "metadata": {},
   "outputs": [],
   "source": [
    "df_spikes = df_spikes.merge(df[[\"cluster\", \"neuron_id\"]])"
   ]
  },
  {
   "cell_type": "code",
   "execution_count": 51,
   "metadata": {},
   "outputs": [],
   "source": [
    "from spiketimes.df.conversion import df_to_list\n",
    "\n",
    "\n",
    "_, slow_regs = df_to_list(df_spikes[df_spikes[\"cluster\"] == \"slow_regular\"],\n",
    "               spiketimes_col=\"spiketimes\",\n",
    "               spiketrain_col=\"neuron_id\")\n",
    "\n",
    "_, slow_irregs = df_to_list(df_spikes[df_spikes[\"cluster\"] == \"slow_irregular\"],\n",
    "               spiketimes_col=\"spiketimes\",\n",
    "               spiketrain_col=\"neuron_id\")\n",
    "\n",
    "_, ffs = df_to_list(df_spikes[df_spikes[\"cluster\"] == \"fast_firing\"],\n",
    "               spiketimes_col=\"spiketimes\",\n",
    "               spiketrain_col=\"neuron_id\")"
   ]
  },
  {
   "cell_type": "code",
   "execution_count": 52,
   "metadata": {},
   "outputs": [],
   "source": [
    "from spiketimes.plots import grouped_raster"
   ]
  },
  {
   "cell_type": "code",
   "execution_count": 92,
   "metadata": {},
   "outputs": [
    {
     "data": {
      "image/png": "[encoded data removed]",
      "text/plain": [
       "<Figure size 720x360 with 1 Axes>"
      ]
     },
     "metadata": {
      "needs_background": "light"
     },
     "output_type": "display_data"
    }
   ],
   "source": [
    "import matplotlib.pyplot as plt\n",
    "\n",
    "f, ax = plt.subplots(figsize=(10, 5))\n",
    "\n",
    "t_start = 500\n",
    "t_stop = t_start + 10\n",
    "\n",
    "ax = grouped_raster([slow_regs, ffs[:2], slow_irregs[:5]],\n",
    "                    [\"#FF0100\", \"#00B34E\", \"#806A9D\"],\n",
    "               t_start=t_start, t_stop=t_stop,\n",
    "                    space_between_groups=1,\n",
    "               plot_kwargs={\"s\":90},\n",
    "                   ax=ax)\n",
    "ax.set_yticks(ticks=[0, 1, 3, 4, 6, 7, 8,])\n",
    "ax.set_yticklabels([])\n",
    "\n",
    "ax.set_xticks(ticks=[500, 505, 510])\n",
    "ax.set_xticklabels([0, 5, 10], fontsize=20)\n",
    "\n",
    "ax.set(frame_on=False)\n",
    "\n",
    "ax.set_ylabel(\"Unit\", fontsize=24)\n",
    "ax.set_xlabel(\"Time [sec]\", fontsize=24)\n",
    "\n",
    "plt.tight_layout()\n",
    "\n",
    "plt.savefig(fig_dir / \"raster.png\", dpi=300, transparent=True)"
   ]
  },
  {
   "cell_type": "code",
   "execution_count": null,
   "metadata": {},
   "outputs": [],
   "source": []
  }
 ],
 "metadata": {
  "kernelspec": {
   "display_name": "Python 3",
   "language": "python",
   "name": "python3"
  },
  "language_info": {
   "codemirror_mode": {
    "name": "ipython",
    "version": 3
   },
   "file_extension": ".py",
   "mimetype": "text/x-python",
   "name": "python",
   "nbconvert_exporter": "python",
   "pygments_lexer": "ipython3",
   "version": "3.8.2"
  }
 },
 "nbformat": 4,
 "nbformat_minor": 4
}
