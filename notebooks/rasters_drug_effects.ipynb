{
 "cells": [
  {
   "cell_type": "code",
   "execution_count": 1,
   "metadata": {},
   "outputs": [],
   "source": [
    "import pandas as pd\n",
    "from pathlib import Path\n",
    "import numpy as np\n",
    "from ephys_queries import db_setup_core, select_spike_times\n",
    "from dotenv import load_dotenv\n",
    "import matplotlib.pyplot as plt\n",
    "plt.rcParams['svg.fonttype'] = 'none'"
   ]
  },
  {
   "cell_type": "code",
   "execution_count": 2,
   "metadata": {},
   "outputs": [],
   "source": [
    "data_dir = Path(\".\").absolute().parent / \"data\"\n",
    "fig_dir = Path(\".\").absolute().parent / \"figs\""
   ]
  },
  {
   "cell_type": "code",
   "execution_count": 147,
   "metadata": {},
   "outputs": [],
   "source": [
    "df = (\n",
    "    pd.read_csv(data_dir / \"baseline.csv\")\n",
    "    .loc[lambda x: \n",
    "         (x[\"group_name\"].isin((\n",
    "            \"acute_citalopram\", \n",
    "            \"acute_cit\", \n",
    "                ))\n",
    "        ) & (\n",
    "         x[\"cluster\"] != \"no_baseline\")]\n",
    ")"
   ]
  },
  {
   "cell_type": "code",
   "execution_count": 158,
   "metadata": {},
   "outputs": [],
   "source": [
    "group_names = [\"acute_citalopram\", \"acute_cit\"]\n",
    "block_name = \"chal\"\n",
    "t_before=300\n",
    "fs = 30000\n",
    "\n",
    "load_dotenv()\n",
    "engine, metadata = db_setup_core()\n",
    "\n",
    "session_names = df[\"session_name\"].unique()\n",
    "session = np.random.choice(session_names, 1)[0]"
   ]
  },
  {
   "cell_type": "code",
   "execution_count": 160,
   "metadata": {},
   "outputs": [
    {
     "data": {
      "text/plain": [
       "array(['hamilton_10', 'hamilton_04', 'hamilton_09', 'hamilton_31',\n",
       "       'hamilton_38', 'hamilton_36', 'acute_01'], dtype=object)"
      ]
     },
     "execution_count": 160,
     "metadata": {},
     "output_type": "execute_result"
    }
   ],
   "source": [
    "session_names"
   ]
  },
  {
   "cell_type": "code",
   "execution_count": 159,
   "metadata": {},
   "outputs": [
    {
     "data": {
      "text/html": [
       "<div>\n",
       "<style scoped>\n",
       "    .dataframe tbody tr th:only-of-type {\n",
       "        vertical-align: middle;\n",
       "    }\n",
       "\n",
       "    .dataframe tbody tr th {\n",
       "        vertical-align: top;\n",
       "    }\n",
       "\n",
       "    .dataframe thead th {\n",
       "        text-align: right;\n",
       "    }\n",
       "</style>\n",
       "<table border=\"1\" class=\"dataframe\">\n",
       "  <thead>\n",
       "    <tr style=\"text-align: right;\">\n",
       "      <th></th>\n",
       "      <th>session_name</th>\n",
       "      <th>cluster</th>\n",
       "      <th>0</th>\n",
       "    </tr>\n",
       "  </thead>\n",
       "  <tbody>\n",
       "    <tr>\n",
       "      <th>15</th>\n",
       "      <td>hamilton_38</td>\n",
       "      <td>fast_firing</td>\n",
       "      <td>2</td>\n",
       "    </tr>\n",
       "    <tr>\n",
       "      <th>16</th>\n",
       "      <td>hamilton_38</td>\n",
       "      <td>slow_irregular</td>\n",
       "      <td>21</td>\n",
       "    </tr>\n",
       "    <tr>\n",
       "      <th>17</th>\n",
       "      <td>hamilton_38</td>\n",
       "      <td>slow_regular</td>\n",
       "      <td>4</td>\n",
       "    </tr>\n",
       "  </tbody>\n",
       "</table>\n",
       "</div>"
      ],
      "text/plain": [
       "   session_name         cluster   0\n",
       "15  hamilton_38     fast_firing   2\n",
       "16  hamilton_38  slow_irregular  21\n",
       "17  hamilton_38    slow_regular   4"
      ]
     },
     "execution_count": 159,
     "metadata": {},
     "output_type": "execute_result"
    }
   ],
   "source": [
    "(\n",
    "    df[[\"neuron_id\", \"session_name\",\"cluster\"]]\n",
    "    .groupby(['session_name', \"cluster\"])\n",
    "    .apply(len)\n",
    "    .reset_index()\n",
    "    .loc[lambda x: x[\"session_name\"]==session]\n",
    ")"
   ]
  },
  {
   "cell_type": "code",
   "execution_count": 227,
   "metadata": {},
   "outputs": [],
   "source": [
    "session = \"hamilton_36\"\n",
    "# session= \"hamilton_09\""
   ]
  },
  {
   "cell_type": "code",
   "execution_count": 228,
   "metadata": {},
   "outputs": [],
   "source": [
    "df_spikes = (\n",
    "    select_spike_times(\n",
    "        engine, metadata, \n",
    "        block_name=block_name, \n",
    "        group_names=group_names,\n",
    "        session_names=[session],\n",
    "        t_before=t_before,\n",
    "        align_to_block=True\n",
    "    )\n",
    "    .assign(\n",
    "        spiketimes= lambda x: x[\"spike_time_samples\"].divide(fs)\n",
    "    )\n",
    ")"
   ]
  },
  {
   "cell_type": "code",
   "execution_count": 229,
   "metadata": {},
   "outputs": [],
   "source": [
    "df_spikes = df_spikes.merge(df[[\"cluster\", \"neuron_id\"]])"
   ]
  },
  {
   "cell_type": "code",
   "execution_count": 230,
   "metadata": {},
   "outputs": [],
   "source": [
    "from spiketimes.df.conversion import df_to_list\n",
    "\n",
    "\n",
    "_, slow_regs = df_to_list(df_spikes[df_spikes[\"cluster\"] == \"slow_regular\"],\n",
    "               spiketimes_col=\"spiketimes\",\n",
    "               spiketrain_col=\"neuron_id\")\n",
    "\n",
    "_, slow_irregs = df_to_list(df_spikes[df_spikes[\"cluster\"] == \"slow_irregular\"],\n",
    "               spiketimes_col=\"spiketimes\",\n",
    "               spiketrain_col=\"neuron_id\")\n",
    "\n",
    "_, ffs = df_to_list(df_spikes[df_spikes[\"cluster\"] == \"fast_firing\"],\n",
    "               spiketimes_col=\"spiketimes\",\n",
    "               spiketrain_col=\"neuron_id\")"
   ]
  },
  {
   "cell_type": "code",
   "execution_count": 231,
   "metadata": {},
   "outputs": [
    {
     "data": {
      "text/plain": [
       "4"
      ]
     },
     "execution_count": 231,
     "metadata": {},
     "output_type": "execute_result"
    }
   ],
   "source": [
    "len(ffs)"
   ]
  },
  {
   "cell_type": "code",
   "execution_count": 232,
   "metadata": {},
   "outputs": [
    {
     "data": {
      "image/png": "[encoded data removed]",
      "text/plain": [
       "<Figure size 720x216 with 1 Axes>"
      ]
     },
     "metadata": {
      "needs_background": "light"
     },
     "output_type": "display_data"
    }
   ],
   "source": [
    "import matplotlib.pyplot as plt\n",
    "from spiketimes.plots import grouped_raster\n",
    "\n",
    "f, ax = plt.subplots(figsize=(10, 3))\n",
    "\n",
    "t_start = -30\n",
    "t_stop = t_start + 10\n",
    "\n",
    "ax = grouped_raster([slow_regs[:3], ffs[:2], slow_irregs[:4]],\n",
    "                    [\"#332288\", \"#117733\", \"#CC6677\"],\n",
    "               t_start=t_start, t_stop=t_stop,\n",
    "                    space_between_groups=1,\n",
    "               plot_kwargs={\"s\":90},\n",
    "                   ax=ax, skip_empty=False)\n",
    "ax.set_yticks(ticks=[0, 1, 3, 4, 7, 8, 9])\n",
    "ax.set_yticklabels([0, 1, 3, 4, 7, 8, 9], fontsize=14)\n",
    "\n",
    "ax.set_xticks(ticks=[t_start, t_stop])\n",
    "ax.set_xticklabels([-60, -50], fontsize=20)\n",
    "\n",
    "ax.set(frame_on=False)\n",
    "\n",
    "ax.set_ylabel(\"Unit\", fontsize=24)\n",
    "ax.set_xlabel(\"\")\n",
    "\n",
    "plt.tight_layout()\n",
    "# plt.savefig(fig_dir / \"drug_raster_1.svg\", dpi=300, transparent=True)"
   ]
  },
  {
   "cell_type": "code",
   "execution_count": 233,
   "metadata": {},
   "outputs": [
    {
     "data": {
      "image/png": "[encoded data removed]",
      "text/plain": [
       "<Figure size 720x216 with 1 Axes>"
      ]
     },
     "metadata": {
      "needs_background": "light"
     },
     "output_type": "display_data"
    }
   ],
   "source": [
    "import matplotlib.pyplot as plt\n",
    "from spiketimes.plots import grouped_raster\n",
    "\n",
    "f, ax = plt.subplots(figsize=(10, 3))\n",
    "\n",
    "t_start = 900\n",
    "t_stop = t_start + 10\n",
    "\n",
    "ax = grouped_raster([slow_regs[:3], ffs[:2], slow_irregs[6:10]],\n",
    "                    [\"#332288\", \"#117733\", \"#CC6677\"],\n",
    "               t_start=t_start, t_stop=t_stop,\n",
    "                    space_between_groups=1,\n",
    "               plot_kwargs={\"s\":90},\n",
    "                   ax=ax, skip_empty=False)\n",
    "ax.set_yticks(ticks=[0, 1, 3, 4, 7, 8, 9])\n",
    "ax.set_yticklabels([], fontsize=14)\n",
    "\n",
    "ax.set_xticks(ticks=[900, 910])\n",
    "ax.set_xticklabels([\"+900\", \"+910\"], fontsize=20)\n",
    "\n",
    "ax.set(frame_on=False)\n",
    "\n",
    "ax.set_ylabel(\"\", fontsize=24)\n",
    "ax.set_xlabel(\"Time [sec]\", fontsize=24)\n",
    "\n",
    "plt.tight_layout()\n",
    "# plt.savefig(fig_dir / \"drug_raster_2.svg\", dpi=300, transparent=True)"
   ]
  },
  {
   "cell_type": "code",
   "execution_count": 255,
   "metadata": {},
   "outputs": [
    {
     "data": {
      "image/png": "[encoded data removed]",
      "text/plain": [
       "<Figure size 720x216 with 1 Axes>"
      ]
     },
     "metadata": {
      "needs_background": "light"
     },
     "output_type": "display_data"
    }
   ],
   "source": [
    "from spiketimes.plots import raster\n",
    "\n",
    "t_start = -30\n",
    "t_stop = t_start + 10\n",
    "\n",
    "f, ax = plt.subplots(figsize=(10, 3))\n",
    "\n",
    "ax = raster(slow_regs[:], \n",
    "            t_start=t_start, t_stop=t_stop, ax=ax, skip_empty=False,\n",
    "            color=\"#332288\")\n",
    "\n",
    "ax.set_xticks(ticks=[t_start, t_stop])\n",
    "ax.set_xticklabels([-30, -20], fontsize=20)\n",
    "\n",
    "ax.set_yticks([])\n",
    "\n",
    "ax.set(frame_on=False)\n",
    "\n",
    "ax.set_ylabel(\"Unit\", fontsize=24)\n",
    "ax.set_xlabel(\"\")\n",
    "\n",
    "plt.tight_layout()\n",
    "plt.savefig(fig_dir / \"sr_drug_raster_1.svg\", dpi=300, transparent=True)"
   ]
  },
  {
   "cell_type": "code",
   "execution_count": 249,
   "metadata": {},
   "outputs": [
    {
     "data": {
      "image/png": "[encoded data removed]",
      "text/plain": [
       "<Figure size 720x216 with 1 Axes>"
      ]
     },
     "metadata": {
      "needs_background": "light"
     },
     "output_type": "display_data"
    }
   ],
   "source": [
    "from spiketimes.plots import raster\n",
    "\n",
    "t_start = 960\n",
    "t_stop = t_start + 10\n",
    "\n",
    "f, ax = plt.subplots(figsize=(10, 3))\n",
    "\n",
    "ax = raster(slow_regs[:], \n",
    "            t_start=t_start, t_stop=t_stop, \n",
    "            ax=ax, skip_empty=False,\n",
    "            color=\"#332288\")\n",
    "\n",
    "ax.set_xlim([t_start, t_stop])\n",
    "ax.set_xticks(ticks=[t_start, t_stop])\n",
    "ax.set_xticklabels([t_start, t_stop], fontsize=20)\n",
    "\n",
    "ax.set_yticks([])\n",
    "\n",
    "ax.set(frame_on=False)\n",
    "\n",
    "ax.set_ylabel(\"Unit\", fontsize=24)\n",
    "ax.set_xlabel(\"\")\n",
    "\n",
    "plt.tight_layout()\n",
    "plt.savefig(fig_dir / \"sr_drug_raster_2.svg\", dpi=300, transparent=True)"
   ]
  },
  {
   "cell_type": "code",
   "execution_count": 201,
   "metadata": {},
   "outputs": [
    {
     "data": {
      "text/plain": [
       "[1135.9073666666666,\n",
       " 1200.4609333333333,\n",
       " 962.7195333333333,\n",
       " 1174.0632,\n",
       " 935.7653333333334]"
      ]
     },
     "execution_count": 201,
     "metadata": {},
     "output_type": "execute_result"
    }
   ],
   "source": [
    "list(map(max, slow_regs))"
   ]
  },
  {
   "cell_type": "code",
   "execution_count": 242,
   "metadata": {},
   "outputs": [
    {
     "data": {
      "text/plain": [
       "<matplotlib.axes._subplots.AxesSubplot at 0x1c4222652e0>"
      ]
     },
     "execution_count": 242,
     "metadata": {},
     "output_type": "execute_result"
    },
    {
     "data": {
      "image/png": "[encoded data removed]",
      "text/plain": [
       "<Figure size 432x288 with 1 Axes>"
      ]
     },
     "metadata": {
      "needs_background": "light"
     },
     "output_type": "display_data"
    }
   ],
   "source": [
    "raster(slow_regs)"
   ]
  },
  {
   "cell_type": "code",
   "execution_count": 39,
   "metadata": {},
   "outputs": [
    {
     "data": {
      "text/plain": [
       "-180"
      ]
     },
     "execution_count": 39,
     "metadata": {},
     "output_type": "execute_result"
    }
   ],
   "source": [
    "t_stop"
   ]
  },
  {
   "cell_type": "code",
   "execution_count": null,
   "metadata": {},
   "outputs": [],
   "source": []
  }
 ],
 "metadata": {
  "kernelspec": {
   "display_name": "Python 3",
   "language": "python",
   "name": "python3"
  },
  "language_info": {
   "codemirror_mode": {
    "name": "ipython",
    "version": 3
   },
   "file_extension": ".py",
   "mimetype": "text/x-python",
   "name": "python",
   "nbconvert_exporter": "python",
   "pygments_lexer": "ipython3",
   "version": "3.8.2"
  }
 },
 "nbformat": 4,
 "nbformat_minor": 4
}
