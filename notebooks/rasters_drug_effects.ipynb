{
 "cells": [
  {
   "cell_type": "code",
   "execution_count": 1,
   "metadata": {},
   "outputs": [],
   "source": [
    "import pandas as pd\n",
    "from pathlib import Path\n",
    "import numpy as np\n",
    "from ephys_queries import db_setup_core, select_spike_times\n",
    "from dotenv import load_dotenv"
   ]
  },
  {
   "cell_type": "code",
   "execution_count": 119,
   "metadata": {},
   "outputs": [],
   "source": [
    "data_dir = Path(\".\").absolute().parent / \"data\"\n",
    "fig_dir = Path(\".\").absolute().parent / \"figs\""
   ]
  },
  {
   "cell_type": "code",
   "execution_count": 120,
   "metadata": {},
   "outputs": [],
   "source": [
    "df = (\n",
    "    pd.read_csv(data_dir / \"baseline.csv\")\n",
    "    .loc[lambda x: \n",
    "         (x[\"group_name\"].isin((\n",
    "            \"acute_citalopram\", \n",
    "            \"acute_cit\", \n",
    "                ))\n",
    "        ) & (\n",
    "         x[\"cluster\"] != \"no_baseline\")]\n",
    ")"
   ]
  },
  {
   "cell_type": "code",
   "execution_count": 121,
   "metadata": {},
   "outputs": [],
   "source": [
    "group_names = [\"acute_citalopram\", \"acute_cit\"]\n",
    "block_name = \"chal\"\n",
    "t_before=300\n",
    "fs = 30000\n",
    "\n",
    "load_dotenv()\n",
    "engine, metadata = db_setup_core()\n",
    "\n",
    "session_names = df[\"session_name\"].unique()\n",
    "session = np.random.choice(session_names, 1)[0]"
   ]
  },
  {
   "cell_type": "code",
   "execution_count": 122,
   "metadata": {},
   "outputs": [
    {
     "data": {
      "text/html": [
       "<div>\n",
       "<style scoped>\n",
       "    .dataframe tbody tr th:only-of-type {\n",
       "        vertical-align: middle;\n",
       "    }\n",
       "\n",
       "    .dataframe tbody tr th {\n",
       "        vertical-align: top;\n",
       "    }\n",
       "\n",
       "    .dataframe thead th {\n",
       "        text-align: right;\n",
       "    }\n",
       "</style>\n",
       "<table border=\"1\" class=\"dataframe\">\n",
       "  <thead>\n",
       "    <tr style=\"text-align: right;\">\n",
       "      <th></th>\n",
       "      <th>session_name</th>\n",
       "      <th>cluster</th>\n",
       "      <th>0</th>\n",
       "    </tr>\n",
       "  </thead>\n",
       "  <tbody>\n",
       "    <tr>\n",
       "      <th>5</th>\n",
       "      <td>hamilton_09</td>\n",
       "      <td>fast_firing</td>\n",
       "      <td>4</td>\n",
       "    </tr>\n",
       "    <tr>\n",
       "      <th>6</th>\n",
       "      <td>hamilton_09</td>\n",
       "      <td>slow_irregular</td>\n",
       "      <td>4</td>\n",
       "    </tr>\n",
       "    <tr>\n",
       "      <th>7</th>\n",
       "      <td>hamilton_09</td>\n",
       "      <td>slow_regular</td>\n",
       "      <td>5</td>\n",
       "    </tr>\n",
       "  </tbody>\n",
       "</table>\n",
       "</div>"
      ],
      "text/plain": [
       "  session_name         cluster  0\n",
       "5  hamilton_09     fast_firing  4\n",
       "6  hamilton_09  slow_irregular  4\n",
       "7  hamilton_09    slow_regular  5"
      ]
     },
     "execution_count": 122,
     "metadata": {},
     "output_type": "execute_result"
    }
   ],
   "source": [
    "(\n",
    "    df[[\"neuron_id\", \"session_name\",\"cluster\"]]\n",
    "    .groupby(['session_name', \"cluster\"])\n",
    "    .apply(len)\n",
    "    .reset_index()\n",
    "    .loc[lambda x: x[\"session_name\"]==session]\n",
    ")"
   ]
  },
  {
   "cell_type": "code",
   "execution_count": 123,
   "metadata": {},
   "outputs": [],
   "source": [
    "df_spikes = (\n",
    "    select_spike_times(\n",
    "        engine, metadata, \n",
    "        block_name=block_name, \n",
    "        group_names=group_names,\n",
    "        session_names=[session],\n",
    "        t_before=t_before,\n",
    "        align_to_block=True\n",
    "    )\n",
    "    .assign(\n",
    "        spiketimes= lambda x: x[\"spike_time_samples\"].divide(fs)\n",
    "    )\n",
    ")"
   ]
  },
  {
   "cell_type": "code",
   "execution_count": 124,
   "metadata": {},
   "outputs": [],
   "source": [
    "df_spikes = df_spikes.merge(df[[\"cluster\", \"neuron_id\"]])"
   ]
  },
  {
   "cell_type": "code",
   "execution_count": 125,
   "metadata": {},
   "outputs": [],
   "source": [
    "from spiketimes.df.conversion import df_to_list\n",
    "\n",
    "\n",
    "_, slow_regs = df_to_list(df_spikes[df_spikes[\"cluster\"] == \"slow_regular\"],\n",
    "               spiketimes_col=\"spiketimes\",\n",
    "               spiketrain_col=\"neuron_id\")\n",
    "\n",
    "_, slow_irregs = df_to_list(df_spikes[df_spikes[\"cluster\"] == \"slow_irregular\"],\n",
    "               spiketimes_col=\"spiketimes\",\n",
    "               spiketrain_col=\"neuron_id\")\n",
    "\n",
    "_, ffs = df_to_list(df_spikes[df_spikes[\"cluster\"] == \"fast_firing\"],\n",
    "               spiketimes_col=\"spiketimes\",\n",
    "               spiketrain_col=\"neuron_id\")"
   ]
  },
  {
   "cell_type": "code",
   "execution_count": 126,
   "metadata": {},
   "outputs": [
    {
     "data": {
      "text/plain": [
       "4"
      ]
     },
     "execution_count": 126,
     "metadata": {},
     "output_type": "execute_result"
    }
   ],
   "source": [
    "len(ffs)"
   ]
  },
  {
   "cell_type": "code",
   "execution_count": 194,
   "metadata": {},
   "outputs": [
    {
     "data": {
      "image/png": "[encoded data removed]",
      "text/plain": [
       "<Figure size 720x216 with 1 Axes>"
      ]
     },
     "metadata": {
      "needs_background": "light"
     },
     "output_type": "display_data"
    }
   ],
   "source": [
    "import matplotlib.pyplot as plt\n",
    "from spiketimes.plots import grouped_raster\n",
    "\n",
    "f, ax = plt.subplots(figsize=(10, 3))\n",
    "\n",
    "t_start = -60\n",
    "t_stop = t_start + 10\n",
    "\n",
    "ax = grouped_raster([slow_regs[:-1:2], ffs[::3], slow_irregs],\n",
    "                    [\"#FF0100\", \"#00B34E\", \"#806A9D\"],\n",
    "               t_start=t_start, t_stop=t_stop,\n",
    "                    space_between_groups=1,\n",
    "               plot_kwargs={\"s\":90},\n",
    "                   ax=ax, skip_empty=False)\n",
    "ax.set_yticks(ticks=[0, 1, 3, 4, 7, 8, 9])\n",
    "ax.set_yticklabels([0, 1, 3, 4, 7, 8, 9], fontsize=14)\n",
    "\n",
    "ax.set_xticks(ticks=[-60, -50])\n",
    "ax.set_xticklabels([-60, -50], fontsize=20)\n",
    "\n",
    "ax.set(frame_on=False)\n",
    "\n",
    "ax.set_ylabel(\"Unit\", fontsize=24)\n",
    "ax.set_xlabel(\"\")\n",
    "\n",
    "plt.tight_layout()\n",
    "plt.savefig(fig_dir / \"drug_raster_1.png\", dpi=300, transparent=True)"
   ]
  },
  {
   "cell_type": "code",
   "execution_count": 193,
   "metadata": {},
   "outputs": [
    {
     "data": {
      "image/png": "[encoded data removed]",
      "text/plain": [
       "<Figure size 720x216 with 1 Axes>"
      ]
     },
     "metadata": {
      "needs_background": "light"
     },
     "output_type": "display_data"
    }
   ],
   "source": [
    "import matplotlib.pyplot as plt\n",
    "from spiketimes.plots import grouped_raster\n",
    "\n",
    "f, ax = plt.subplots(figsize=(10, 3))\n",
    "\n",
    "t_start = 900\n",
    "t_stop = t_start + 10\n",
    "\n",
    "ax = grouped_raster([slow_regs[:-1:2], ffs[::3], slow_irregs],\n",
    "                    [\"#FF0100\", \"#00B34E\", \"#806A9D\"],\n",
    "               t_start=t_start, t_stop=t_stop,\n",
    "                    space_between_groups=1,\n",
    "               plot_kwargs={\"s\":90},\n",
    "                   ax=ax, skip_empty=False)\n",
    "ax.set_yticks(ticks=[0, 1, 3, 4, 7, 8, 9])\n",
    "ax.set_yticklabels([], fontsize=14)\n",
    "\n",
    "ax.set_xticks(ticks=[900, 910])\n",
    "ax.set_xticklabels([900, 910], fontsize=20)\n",
    "\n",
    "ax.set(frame_on=False)\n",
    "\n",
    "ax.set_ylabel(\"\", fontsize=24)\n",
    "# ax.set_xlabel(\"Time [sec]\", fontsize=24)\n",
    "\n",
    "plt.tight_layout()\n",
    "plt.savefig(fig_dir / \"drug_raster_2.png\", dpi=300, transparent=True)"
   ]
  },
  {
   "cell_type": "code",
   "execution_count": 86,
   "metadata": {},
   "outputs": [
    {
     "data": {
      "text/plain": [
       "'acute_12'"
      ]
     },
     "execution_count": 86,
     "metadata": {},
     "output_type": "execute_result"
    }
   ],
   "source": [
    "\"acute_12\""
   ]
  },
  {
   "cell_type": "code",
   "execution_count": null,
   "metadata": {},
   "outputs": [],
   "source": []
  }
 ],
 "metadata": {
  "kernelspec": {
   "display_name": "Python 3",
   "language": "python",
   "name": "python3"
  },
  "language_info": {
   "codemirror_mode": {
    "name": "ipython",
    "version": 3
   },
   "file_extension": ".py",
   "mimetype": "text/x-python",
   "name": "python",
   "nbconvert_exporter": "python",
   "pygments_lexer": "ipython3",
   "version": "3.8.2"
  }
 },
 "nbformat": 4,
 "nbformat_minor": 4
}
