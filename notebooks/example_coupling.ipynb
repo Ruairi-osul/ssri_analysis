{
 "cells": [
  {
   "cell_type": "code",
   "execution_count": 1,
   "metadata": {},
   "outputs": [],
   "source": [
    "from ephys_queries import (\n",
    "    select_spike_times\n",
    ")\n",
    "from ephys_queries import db_setup_core\n",
    "from dotenv import load_dotenv"
   ]
  },
  {
   "cell_type": "code",
   "execution_count": 19,
   "metadata": {},
   "outputs": [],
   "source": [
    "import pandas as pd\n",
    "import numpy as np\n",
    "from pathlib import Path\n",
    "import matplotlib.pyplot as plt\n",
    "import seaborn as sns\n",
    "sns.set_palette(\"Set2\")\n",
    "plt.rc('legend',fontsize=11.5)"
   ]
  },
  {
   "cell_type": "code",
   "execution_count": 3,
   "metadata": {},
   "outputs": [],
   "source": [
    "from spiketimes.df.population import population_coupling_df"
   ]
  },
  {
   "cell_type": "code",
   "execution_count": 21,
   "metadata": {},
   "outputs": [],
   "source": [
    "data_dir = Path(\".\").absolute().parent / \"data\"\n",
    "fig_dir = Path(\".\").absolute().parent / \"figs\"\n",
    "dfr = pd.read_csv(data_dir / \"population_coupling.csv\")"
   ]
  },
  {
   "cell_type": "code",
   "execution_count": 5,
   "metadata": {},
   "outputs": [
    {
     "data": {
      "text/html": [
       "<div>\n",
       "<style scoped>\n",
       "    .dataframe tbody tr th:only-of-type {\n",
       "        vertical-align: middle;\n",
       "    }\n",
       "\n",
       "    .dataframe tbody tr th {\n",
       "        vertical-align: top;\n",
       "    }\n",
       "\n",
       "    .dataframe thead th {\n",
       "        text-align: right;\n",
       "    }\n",
       "</style>\n",
       "<table border=\"1\" class=\"dataframe\">\n",
       "  <thead>\n",
       "    <tr style=\"text-align: right;\">\n",
       "      <th></th>\n",
       "      <th>num_pos</th>\n",
       "      <th>num_neg</th>\n",
       "    </tr>\n",
       "    <tr>\n",
       "      <th>session_name</th>\n",
       "      <th></th>\n",
       "      <th></th>\n",
       "    </tr>\n",
       "  </thead>\n",
       "  <tbody>\n",
       "    <tr>\n",
       "      <th>ESHOCK_03_LOC1</th>\n",
       "      <td>1</td>\n",
       "      <td>0</td>\n",
       "    </tr>\n",
       "    <tr>\n",
       "      <th>ESHOCK_04_LOC1</th>\n",
       "      <td>0</td>\n",
       "      <td>11</td>\n",
       "    </tr>\n",
       "    <tr>\n",
       "      <th>ESHOCK_06_LOC1</th>\n",
       "      <td>1</td>\n",
       "      <td>0</td>\n",
       "    </tr>\n",
       "    <tr>\n",
       "      <th>ESHOCK_07_LOC1</th>\n",
       "      <td>6</td>\n",
       "      <td>0</td>\n",
       "    </tr>\n",
       "    <tr>\n",
       "      <th>ESHOCK_08_LOC1</th>\n",
       "      <td>22</td>\n",
       "      <td>0</td>\n",
       "    </tr>\n",
       "    <tr>\n",
       "      <th>ESHOCK_09_LOC1</th>\n",
       "      <td>6</td>\n",
       "      <td>0</td>\n",
       "    </tr>\n",
       "    <tr>\n",
       "      <th>acute_01</th>\n",
       "      <td>2</td>\n",
       "      <td>2</td>\n",
       "    </tr>\n",
       "    <tr>\n",
       "      <th>acute_11</th>\n",
       "      <td>8</td>\n",
       "      <td>3</td>\n",
       "    </tr>\n",
       "    <tr>\n",
       "      <th>acute_12</th>\n",
       "      <td>30</td>\n",
       "      <td>0</td>\n",
       "    </tr>\n",
       "    <tr>\n",
       "      <th>acute_14</th>\n",
       "      <td>0</td>\n",
       "      <td>1</td>\n",
       "    </tr>\n",
       "    <tr>\n",
       "      <th>acute_15</th>\n",
       "      <td>0</td>\n",
       "      <td>2</td>\n",
       "    </tr>\n",
       "    <tr>\n",
       "      <th>acute_16</th>\n",
       "      <td>1</td>\n",
       "      <td>0</td>\n",
       "    </tr>\n",
       "    <tr>\n",
       "      <th>hamilton_03</th>\n",
       "      <td>0</td>\n",
       "      <td>0</td>\n",
       "    </tr>\n",
       "    <tr>\n",
       "      <th>hamilton_04</th>\n",
       "      <td>0</td>\n",
       "      <td>0</td>\n",
       "    </tr>\n",
       "    <tr>\n",
       "      <th>hamilton_09</th>\n",
       "      <td>0</td>\n",
       "      <td>0</td>\n",
       "    </tr>\n",
       "    <tr>\n",
       "      <th>hamilton_10</th>\n",
       "      <td>0</td>\n",
       "      <td>0</td>\n",
       "    </tr>\n",
       "    <tr>\n",
       "      <th>hamilton_31</th>\n",
       "      <td>0</td>\n",
       "      <td>5</td>\n",
       "    </tr>\n",
       "    <tr>\n",
       "      <th>hamilton_32</th>\n",
       "      <td>2</td>\n",
       "      <td>0</td>\n",
       "    </tr>\n",
       "    <tr>\n",
       "      <th>hamilton_35</th>\n",
       "      <td>3</td>\n",
       "      <td>0</td>\n",
       "    </tr>\n",
       "    <tr>\n",
       "      <th>hamilton_36</th>\n",
       "      <td>0</td>\n",
       "      <td>0</td>\n",
       "    </tr>\n",
       "    <tr>\n",
       "      <th>hamilton_37</th>\n",
       "      <td>0</td>\n",
       "      <td>0</td>\n",
       "    </tr>\n",
       "    <tr>\n",
       "      <th>hamilton_38</th>\n",
       "      <td>3</td>\n",
       "      <td>0</td>\n",
       "    </tr>\n",
       "  </tbody>\n",
       "</table>\n",
       "</div>"
      ],
      "text/plain": [
       "                num_pos  num_neg\n",
       "session_name                    \n",
       "ESHOCK_03_LOC1        1        0\n",
       "ESHOCK_04_LOC1        0       11\n",
       "ESHOCK_06_LOC1        1        0\n",
       "ESHOCK_07_LOC1        6        0\n",
       "ESHOCK_08_LOC1       22        0\n",
       "ESHOCK_09_LOC1        6        0\n",
       "acute_01              2        2\n",
       "acute_11              8        3\n",
       "acute_12             30        0\n",
       "acute_14              0        1\n",
       "acute_15              0        2\n",
       "acute_16              1        0\n",
       "hamilton_03           0        0\n",
       "hamilton_04           0        0\n",
       "hamilton_09           0        0\n",
       "hamilton_10           0        0\n",
       "hamilton_31           0        5\n",
       "hamilton_32           2        0\n",
       "hamilton_35           3        0\n",
       "hamilton_36           0        0\n",
       "hamilton_37           0        0\n",
       "hamilton_38           3        0"
      ]
     },
     "execution_count": 5,
     "metadata": {},
     "output_type": "execute_result"
    }
   ],
   "source": [
    "# find a promising session\n",
    "(\n",
    "    dfr\n",
    "    .groupby(\"session_name\")\n",
    "    .apply(lambda x: pd.Series({\"num_pos\": np.sum(x.population_coupling >= 7),\n",
    "                                      \"num_neg\": np.sum(x.population_coupling <= -7)}))\n",
    ")"
   ]
  },
  {
   "cell_type": "code",
   "execution_count": 6,
   "metadata": {},
   "outputs": [],
   "source": [
    "candidate_recording = \"acute_11\""
   ]
  },
  {
   "cell_type": "code",
   "execution_count": 7,
   "metadata": {},
   "outputs": [],
   "source": [
    "load_dotenv()\n",
    "engine, metadata = db_setup_core()\n",
    "session_names = [candidate_recording]\n",
    "block_name = \"pre\"\n",
    "fs = 30000\n",
    "\n",
    "df_spiketimes = (\n",
    "    select_spike_times(\n",
    "        engine, metadata, \n",
    "        block_name=block_name, \n",
    "        session_names=session_names,\n",
    "    )\n",
    "    .assign(\n",
    "        spiketimes= lambda x: x[\"spike_time_samples\"].divide(fs)\n",
    "    )\n",
    ")"
   ]
  },
  {
   "cell_type": "code",
   "execution_count": 8,
   "metadata": {},
   "outputs": [],
   "source": [
    "BIN = 0.001\n",
    "NUM_LAGS=400\n",
    "\n",
    "dfp = population_coupling_df(\n",
    "    df_spiketimes,\n",
    "    spiketrain_col=\"neuron_id\",\n",
    "    binsize=BIN,\n",
    "    num_lags=NUM_LAGS,\n",
    "    return_all=True)"
   ]
  },
  {
   "cell_type": "code",
   "execution_count": 9,
   "metadata": {},
   "outputs": [],
   "source": [
    "unitsp = (\n",
    "    dfr\n",
    "    .loc[lambda x: \n",
    "         (x.session_name == candidate_recording) &\n",
    "         (x.population_coupling >= 5)]\n",
    "    .neuron_id\n",
    "    .values\n",
    ")\n",
    "\n",
    "unitsn = (\n",
    "    dfr\n",
    "    .loc[lambda x: \n",
    "         (x.session_name == candidate_recording) &\n",
    "         (x.population_coupling <= -5)]\n",
    "    .neuron_id\n",
    "    .values\n",
    ")\n",
    "\n",
    "unitsu = (\n",
    "    dfr\n",
    "    .loc[lambda x: \n",
    "         (x.session_name == candidate_recording) &\n",
    "         (x.population_coupling >= -1) &\n",
    "        (x.population_coupling <= 1)]\n",
    "    .neuron_id\n",
    "    .values\n",
    ")"
   ]
  },
  {
   "cell_type": "code",
   "execution_count": 10,
   "metadata": {},
   "outputs": [],
   "source": [
    "cp = np.random.choice(unitsp)\n",
    "cn = np.random.choice(unitsn)\n",
    "cu = np.random.choice(unitsu)"
   ]
  },
  {
   "cell_type": "code",
   "execution_count": 11,
   "metadata": {},
   "outputs": [],
   "source": [
    "cp = 2617\n",
    "cn = 2630\n",
    "cu = 2596"
   ]
  },
  {
   "cell_type": "code",
   "execution_count": 12,
   "metadata": {},
   "outputs": [
    {
     "name": "stdout",
     "output_type": "stream",
     "text": [
      "2617\n",
      "2630\n",
      "2596\n"
     ]
    }
   ],
   "source": [
    "print(cp)\n",
    "print(cn)\n",
    "print(cu)"
   ]
  },
  {
   "cell_type": "code",
   "execution_count": 22,
   "metadata": {},
   "outputs": [
    {
     "data": {
      "image/png": "[encoded data removed]",
      "text/plain": [
       "<Figure size 432x288 with 1 Axes>"
      ]
     },
     "metadata": {
      "needs_background": "light"
     },
     "output_type": "display_data"
    }
   ],
   "source": [
    "_, ax = plt.subplots()\n",
    "\n",
    "(\n",
    "    dfp\n",
    "    .loc[lambda x: x.neuron_id.isin([cp, cn, cu])]\n",
    "    .assign(neuron_id=\n",
    "            lambda x: x.neuron_id.map(\n",
    "                {cp:\"Positively Coupled\", \n",
    "                 cn:\"Negatively Coupled\", \n",
    "                 cu: \"Uncoupled\"})\n",
    "           )\n",
    "    .pipe(lambda x:\n",
    "          sns.lineplot(x=\"time_sec\", y=\"zscore\", hue=\"neuron_id\", data=x,\n",
    "                      alpha=0.8, linewidth=1.7))\n",
    ")\n",
    "ax.set_xlim([-0.1, 0.1])\n",
    "\n",
    "\n",
    "sns.despine(offset=10, trim=True)\n",
    "\n",
    "ax.set_ylabel(\"$Z_{cc}$\", fontsize=20)\n",
    "ax.set_yticks([-5, 0, 5, 10, 15])\n",
    "ax.set_yticklabels(ax.get_yticks(), fontsize=15)\n",
    "\n",
    "ax.set_xlabel(\"Time [sec]\", fontsize=20)\n",
    "ax.set_xticks([-0.1, -0.05, 0, 0.05, 0.1])\n",
    "ax.set_xticklabels(ax.get_xticks(), fontsize=15)\n",
    "\n",
    "legend = ax.legend()\n",
    "legend.texts[0].set_text(\"\")\n",
    "\n",
    "\n",
    "plt.tight_layout()\n",
    "plt.savefig(str(fig_dir / \"example_coupling.png\"), dpi=300, transparent=True)"
   ]
  },
  {
   "cell_type": "code",
   "execution_count": 40,
   "metadata": {},
   "outputs": [
    {
     "data": {
      "text/plain": [
       "array([-1.00000000e+00, -9.83333333e-01, -9.66666667e-01, ...,\n",
       "        1.19895000e+03,  1.19896667e+03,  1.19898333e+03])"
      ]
     },
     "execution_count": 40,
     "metadata": {},
     "output_type": "execute_result"
    }
   ],
   "source": [
    "import numpy as np\n",
    "\n",
    "def frames_to_sec(gt_frame: int, gt_time: float, num_frames: int, fps: int):\n",
    "    \"\"\"\n",
    "    Get the experimental time for each frame in a video\n",
    "    \n",
    "    Args:\n",
    "        gt_frame: Ground Truth Frame, the frame number of the frame for which\n",
    "                  we know the experimental time \n",
    "        gt_time: Ground Truth Time, the time point in seconds of the experiment to which \n",
    "                 gt_frame corresponds.\n",
    "        num_frames: The number of frames in the video\n",
    "        fps: The frame rate of the video\n",
    "    Returns:\n",
    "        A numpy of time points with one entry for each frame in the video\n",
    "    \"\"\"\n",
    "    sampling_interval = 1/fps\n",
    "    t = np.arange(0, sampling_interval * num_frames, sampling_interval)\n",
    "    adjustment = gt_time - t[gt_frame] \n",
    "    return t + adjustment\n",
    "\n",
    "\n",
    "\n",
    "video_fps = 60\n",
    "num_frames = 72000\n",
    "\n",
    "gt_frame = 1860\n",
    "gt_time = 30\n",
    "\n",
    "frames_to_sec(gt_frame, gt_time, num_frames, video_fps)"
   ]
  },
  {
   "cell_type": "code",
   "execution_count": 35,
   "metadata": {},
   "outputs": [],
   "source": [
    "sampling_interval = 1 / video_fps"
   ]
  },
  {
   "cell_type": "code",
   "execution_count": 37,
   "metadata": {},
   "outputs": [
    {
     "data": {
      "text/plain": [
       "1800.0"
      ]
     },
     "execution_count": 37,
     "metadata": {},
     "output_type": "execute_result"
    }
   ],
   "source": [
    "30 / sampling_interval"
   ]
  },
  {
   "cell_type": "code",
   "execution_count": null,
   "metadata": {},
   "outputs": [],
   "source": []
  }
 ],
 "metadata": {
  "kernelspec": {
   "display_name": "Python 3",
   "language": "python",
   "name": "python3"
  },
  "language_info": {
   "codemirror_mode": {
    "name": "ipython",
    "version": 3
   },
   "file_extension": ".py",
   "mimetype": "text/x-python",
   "name": "python",
   "nbconvert_exporter": "python",
   "pygments_lexer": "ipython3",
   "version": "3.8.2"
  }
 },
 "nbformat": 4,
 "nbformat_minor": 4
}
