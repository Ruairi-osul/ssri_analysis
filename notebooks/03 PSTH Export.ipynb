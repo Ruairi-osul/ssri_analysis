{
 "cells": [
  {
   "cell_type": "markdown",
   "metadata": {},
   "source": [
    "# Export of Baseline PSTH Data\n",
    "\n",
    "* Separate exports for acute and one for chronic experiments.\n",
    "* Datasets contain spiking for each neuron aligned to shock times\n",
    "\n",
    "Datasets exported:\n",
    "\n",
    "- **acute_baseshock_raw.csv**\n",
    "- **acute_baseshock_psth.csv**\n",
    "- **chronic_baseshock_raw.csv**\n",
    "- **chronic_baseshock_psth.csv**"
   ]
  },
  {
   "cell_type": "code",
   "execution_count": 13,
   "metadata": {},
   "outputs": [],
   "source": [
    "from ephys_queries import select_spike_times, select_discrete_data, select_neurons\n",
    "from ephys_queries import db_setup_core\n",
    "import dotenv"
   ]
  },
  {
   "cell_type": "code",
   "execution_count": 2,
   "metadata": {},
   "outputs": [],
   "source": [
    "import numpy as np\n",
    "import pandas as pd\n",
    "from pathlib import Path "
   ]
  },
  {
   "cell_type": "code",
   "execution_count": 11,
   "metadata": {},
   "outputs": [],
   "source": [
    "from spiketimes.df import align_df, align_df_by"
   ]
  },
  {
   "cell_type": "code",
   "execution_count": 4,
   "metadata": {},
   "outputs": [],
   "source": [
    "dotenv.load_dotenv()\n",
    "engine, metadata = db_setup_core()"
   ]
  },
  {
   "cell_type": "code",
   "execution_count": 5,
   "metadata": {},
   "outputs": [],
   "source": [
    "data_dir = Path(\".\").absolute().parent / \"data\"\n",
    "df_clusters = pd.read_csv(data_dir / \"baseline.csv\")"
   ]
  },
  {
   "cell_type": "markdown",
   "metadata": {},
   "source": [
    "## Acute Data"
   ]
  },
  {
   "cell_type": "markdown",
   "metadata": {},
   "source": [
    "#### Select Raw Data"
   ]
  },
  {
   "cell_type": "code",
   "execution_count": 27,
   "metadata": {},
   "outputs": [],
   "source": [
    "group_names = [\n",
    "    \"acute_citalopram\", \n",
    "    \"acute_saline\", \n",
    "    \"acute_cit\", \n",
    "    \"acute_sal\"\n",
    "]\n",
    "\n",
    "block_name = \"base_shock\"\n",
    "t_before = 10\n",
    "\n",
    "\n",
    "neurons = select_neurons(\n",
    "            engine,\n",
    "            metadata,\n",
    "            group_names=group_names\n",
    ").rename(columns={\"id\":\"neuron_id\"})\n",
    "\n",
    "\n",
    "df_spikes_acute = (\n",
    "    select_spike_times(\n",
    "            engine, \n",
    "            metadata,\n",
    "            group_names=group_names,\n",
    "            block_name=block_name,\n",
    "            )\n",
    "    .pipe(lambda x: pd.merge(x, neurons[[\"neuron_id\", \"session_name\"]]))\n",
    "    .pipe(lambda x: x.assign(spiketimes=x[\"spike_time_samples\"].divide(30000)))\n",
    ")\n",
    "\n",
    "df_events_acute = (\n",
    "    select_discrete_data(\n",
    "            engine,\n",
    "            metadata,\n",
    "            group_names=group_names,\n",
    "            block_name=block_name\n",
    "    )\n",
    "    .pipe(lambda x: x.assign(event_s=x[\"timepoint_sample\"].divide(30000)))\n",
    ")"
   ]
  },
  {
   "cell_type": "markdown",
   "metadata": {},
   "source": [
    "#### Align Data to Events"
   ]
  },
  {
   "cell_type": "code",
   "execution_count": 69,
   "metadata": {
    "scrolled": true
   },
   "outputs": [
    {
     "name": "stderr",
     "output_type": "stream",
     "text": [
      "/home/rory/repos/spiketimes/spiketimes/df/alignment.py:74: UserWarning: Groups in df_events and df_data are not identical\n",
      "  warnings.warn(\"Groups in df_events and df_data are not identical\")\n",
      "/home/rory/repos/spiketimes/spiketimes/alignment/alignment.py:149: RuntimeWarning: invalid value encountered in greater_equal\n",
      "  (negative_latencies >= (t_before * -1)),\n",
      "/home/rory/repos/spiketimes/spiketimes/alignment/alignment.py:157: RuntimeWarning: invalid value encountered in greater\n",
      "  latencies[latencies > max_latency] = np.nan\n"
     ]
    }
   ],
   "source": [
    "aligned_acute = (\n",
    "    align_df_by(\n",
    "        df_data=df_spikes_acute, \n",
    "        df_data_data_colname=\"spiketimes\", \n",
    "        df_data_group_colname=\"session_name\",\n",
    "        df_events=df_events_acute,\n",
    "        df_events_event_colname=\"event_s\",\n",
    "        df_events_group_colname=\"session_name\", \n",
    "        t_before=0.2,\n",
    "        max_latency=1.8,\n",
    "    )\n",
    "    .dropna()\n",
    "    .pipe(lambda x: pd.merge(df_clusters[[\"neuron_id\", \"cluster\"]], x))\n",
    ")"
   ]
  },
  {
   "cell_type": "markdown",
   "metadata": {},
   "source": [
    "#### Construct PSTH"
   ]
  },
  {
   "cell_type": "code",
   "execution_count": 68,
   "metadata": {},
   "outputs": [],
   "source": [
    "bins = np.round(np.arange(-0.2, 1.80, 0.02), 4)\n",
    "\n",
    "psth_acute = (\n",
    "    bin_df(aligned_acute, colname=\"aligned\", bins=bins, bin_val_name=\"bin\")\n",
    "    .groupby([\"neuron_id\", \"bin\"])\n",
    "    .apply(lambda x: len(x))\n",
    "    .unstack()\n",
    "    .reset_index()\n",
    "    .melt(id_vars=\"neuron_id\", value_name=\"counts\")\n",
    "    .sort_values(by=[\"neuron_id\", \"bin\"])\n",
    "    .reset_index(drop=True)\n",
    "    .fillna(0)\n",
    "    .pipe(lambda x: pd.merge(x, df_clusters[[\"neuron_id\", \"session_name\", \"cluster\", \"group_name\"]]))\n",
    ")"
   ]
  },
  {
   "cell_type": "markdown",
   "metadata": {},
   "source": [
    "#### Save Data"
   ]
  },
  {
   "cell_type": "code",
   "execution_count": 70,
   "metadata": {},
   "outputs": [],
   "source": [
    "aligned_acute.to_csv(data_dir / \"acute_baseshock_raw.csv\", index=False)\n",
    "psth_acute.to_csv(data_dir / \"acute_baseshock_psth.csv\", index=False)"
   ]
  },
  {
   "cell_type": "markdown",
   "metadata": {},
   "source": [
    "## Chronic Data"
   ]
  },
  {
   "cell_type": "markdown",
   "metadata": {},
   "source": [
    "#### Select Raw Data"
   ]
  },
  {
   "cell_type": "code",
   "execution_count": 71,
   "metadata": {},
   "outputs": [],
   "source": [
    "group_names = [\"citalopram_continuation\", \"chronic_saline\", \"citalopram_discontinuation\", \n",
    "               \"chronic_citalopram\", \"chronic_saline_\"]\n",
    "\n",
    "block_name = \"base_shock\"\n",
    "t_before = 10\n",
    "\n",
    "\n",
    "neurons = select_neurons(\n",
    "            engine,\n",
    "            metadata,\n",
    "            group_names=group_names\n",
    ").rename(columns={\"id\":\"neuron_id\"})\n",
    "\n",
    "\n",
    "df_spikes_chronic = (\n",
    "    select_spike_times(\n",
    "            engine, \n",
    "            metadata,\n",
    "            group_names=group_names,\n",
    "            block_name=block_name,\n",
    "            )\n",
    "    .pipe(lambda x: pd.merge(x, neurons[[\"neuron_id\", \"session_name\"]]))\n",
    "    .pipe(lambda x: x.assign(spiketimes=x[\"spike_time_samples\"].divide(30000)))\n",
    ")\n",
    "\n",
    "df_events_chronic = (\n",
    "    select_discrete_data(\n",
    "            engine,\n",
    "            metadata,\n",
    "            group_names=group_names,\n",
    "            block_name=block_name\n",
    "    )\n",
    "    .pipe(lambda x: x.assign(event_s=x[\"timepoint_sample\"].divide(30000)))\n",
    ")"
   ]
  },
  {
   "cell_type": "markdown",
   "metadata": {},
   "source": [
    "#### Align Data to Events"
   ]
  },
  {
   "cell_type": "code",
   "execution_count": 72,
   "metadata": {},
   "outputs": [
    {
     "name": "stderr",
     "output_type": "stream",
     "text": [
      "/home/rory/repos/spiketimes/spiketimes/df/alignment.py:74: UserWarning: Groups in df_events and df_data are not identical\n",
      "  warnings.warn(\"Groups in df_events and df_data are not identical\")\n",
      "/home/rory/repos/spiketimes/spiketimes/alignment/alignment.py:149: RuntimeWarning: invalid value encountered in greater_equal\n",
      "  (negative_latencies >= (t_before * -1)),\n",
      "/home/rory/repos/spiketimes/spiketimes/alignment/alignment.py:157: RuntimeWarning: invalid value encountered in greater\n",
      "  latencies[latencies > max_latency] = np.nan\n"
     ]
    }
   ],
   "source": [
    "aligned_chronic = (\n",
    "    align_df_by(\n",
    "        df_data=df_spikes_chronic, \n",
    "        df_data_data_colname=\"spiketimes\", \n",
    "        df_data_group_colname=\"session_name\",\n",
    "        df_events=df_events_chronic,\n",
    "        df_events_event_colname=\"event_s\",\n",
    "        df_events_group_colname=\"session_name\", \n",
    "        t_before=0.2,\n",
    "        max_latency=1.8,\n",
    "    )\n",
    "    .dropna()\n",
    "    .pipe(lambda x: pd.merge(df_clusters[[\"neuron_id\", \"cluster\"]], x))\n",
    ")"
   ]
  },
  {
   "cell_type": "markdown",
   "metadata": {},
   "source": [
    "#### Construct PSTH"
   ]
  },
  {
   "cell_type": "code",
   "execution_count": 73,
   "metadata": {},
   "outputs": [],
   "source": [
    "bins = np.round(np.arange(-0.2, 1.80, 0.02), 4)\n",
    "\n",
    "psth_chronic = (\n",
    "    bin_df(aligned_chronic, colname=\"aligned\", bins=bins, bin_val_name=\"bin\")\n",
    "    .groupby([\"neuron_id\", \"bin\"])\n",
    "    .apply(lambda x: len(x))\n",
    "    .unstack()\n",
    "    .reset_index()\n",
    "    .melt(id_vars=\"neuron_id\", value_name=\"counts\")\n",
    "    .sort_values(by=[\"neuron_id\", \"bin\"])\n",
    "    .reset_index(drop=True)\n",
    "    .fillna(0)\n",
    "    .pipe(lambda x: pd.merge(x, df_clusters[[\"neuron_id\", \"session_name\", \"cluster\", \"group_name\"]]))\n",
    ")"
   ]
  },
  {
   "cell_type": "markdown",
   "metadata": {},
   "source": [
    "#### Save Data"
   ]
  },
  {
   "cell_type": "code",
   "execution_count": 74,
   "metadata": {},
   "outputs": [],
   "source": [
    "aligned_chronic.to_csv(data_dir / \"chronic_baseshock_raw.csv\", index=False)\n",
    "psth_chronic.to_csv(data_dir / \"chronic_baseshock_psth.csv\", index=False)"
   ]
  },
  {
   "cell_type": "code",
   "execution_count": null,
   "metadata": {},
   "outputs": [],
   "source": []
  }
 ],
 "metadata": {
  "kernelspec": {
   "display_name": "Python 3.7.6 64-bit ('ssri': conda)",
   "language": "python",
   "name": "python37664bitssricondab35fb21a5ce74bb7b12de02bbb9069e2"
  },
  "language_info": {
   "codemirror_mode": {
    "name": "ipython",
    "version": 3
   },
   "file_extension": ".py",
   "mimetype": "text/x-python",
   "name": "python",
   "nbconvert_exporter": "python",
   "pygments_lexer": "ipython3",
   "version": "3.7.6"
  }
 },
 "nbformat": 4,
 "nbformat_minor": 2
}
