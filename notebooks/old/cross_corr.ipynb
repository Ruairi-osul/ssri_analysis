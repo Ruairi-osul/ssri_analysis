{
 "cells": [
  {
   "cell_type": "code",
   "execution_count": 8,
   "metadata": {},
   "outputs": [],
   "source": [
    "from ephys_queries import select_spike_times\n",
    "from ephys_queries import db_setup_core\n",
    "from spiketimes.df import (\n",
    "    cross_corr_df_test,\n",
    ")\n",
    "import dotenv\n",
    "from pathlib import Path\n",
    "import pandas as pd\n",
    "import numpy as np\n",
    "from pyarrow.feather import write_feather, read_feather"
   ]
  },
  {
   "cell_type": "code",
   "execution_count": 3,
   "metadata": {},
   "outputs": [],
   "source": [
    "data_dir = Path(\".\").absolute().parent / \"data\"\n",
    "df_labels = pd.read_csv(data_dir / \"chronic_baseline.csv\")\n",
    "df_labels = df_labels[[\"neuron_id\", \"type\", \"session_name\"]]"
   ]
  },
  {
   "cell_type": "code",
   "execution_count": 4,
   "metadata": {},
   "outputs": [],
   "source": [
    "dotenv.load_dotenv()\n",
    "engine, metadata = db_setup_core()\n",
    "group_names = [\n",
    "    \"citalopram_continuation\",\n",
    "    \"chronic_saline\",\n",
    "    \"citalopram_discontinuation\",\n",
    "    \"chronic_citalopram\",\n",
    "    \"chronic_saline_\",\n",
    "]\n",
    "block_name = \"pre\"\n",
    "df_spikes = select_spike_times(engine, metadata, block_name=block_name)\n",
    "df_spikes[\"spiketimes\"] = df_spikes[\"spike_time_samples\"].divide(30000)"
   ]
  },
  {
   "cell_type": "code",
   "execution_count": 5,
   "metadata": {},
   "outputs": [],
   "source": [
    "# merge datasets\n",
    "df = pd.merge(df_spikes, df_labels, on=\"neuron_id\")"
   ]
  },
  {
   "cell_type": "code",
   "execution_count": 6,
   "metadata": {},
   "outputs": [],
   "source": [
    "# apply exclusion criteria\n",
    "\n",
    "df = df[df[\"type\"] != \"no_baseline\"]"
   ]
  },
  {
   "cell_type": "code",
   "execution_count": 9,
   "metadata": {},
   "outputs": [],
   "source": [
    "recording_sessions = df_labels[\"session_name\"].unique()\n",
    "fnames = []"
   ]
  },
  {
   "cell_type": "code",
   "execution_count": null,
   "metadata": {},
   "outputs": [],
   "source": [
    "for session in recording_sessions:\n",
    "    df_sub = df[df[\"session_name\"] == session].copy()\n",
    "    df_cc = cross_corr_df_test(\n",
    "        df_sub,\n",
    "        jitter_window_size=0.4,\n",
    "        n_boot=4000,\n",
    "        spiketimes_col=\"spiketimes\",\n",
    "        neuron_col=\"neuron_id\",\n",
    "    )\n",
    "    \n",
    "    df_cc[\"session_name\"] = session\n",
    "\n",
    "    fname = str(tmp_dir / f\"{session}_cc.feather\")\n",
    "    \n",
    "    write_feather(df_cc, fname)\n",
    "    \n",
    "    fnames.append(fname)\n",
    "\n",
    "cc_frames = [read_feather(fname) for fname in fnames]\n",
    "\n",
    "df_cc = pd.concat(cc_frames, axis=0)\n",
    "\n",
    "df_cc.to_csv(data_dir / \"cross_corr_400ms_jitter.csv\", index=False)"
   ]
  },
  {
   "cell_type": "code",
   "execution_count": null,
   "metadata": {},
   "outputs": [],
   "source": []
  }
 ],
 "metadata": {
  "kernelspec": {
   "display_name": "Python 3.7.6 64-bit ('ssri': conda)",
   "language": "python",
   "name": "python37664bitssricondab35fb21a5ce74bb7b12de02bbb9069e2"
  },
  "language_info": {
   "codemirror_mode": {
    "name": "ipython",
    "version": 3
   },
   "file_extension": ".py",
   "mimetype": "text/x-python",
   "name": "python",
   "nbconvert_exporter": "python",
   "pygments_lexer": "ipython3",
   "version": "3.7.6"
  }
 },
 "nbformat": 4,
 "nbformat_minor": 2
}
