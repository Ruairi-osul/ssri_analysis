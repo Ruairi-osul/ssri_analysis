{
 "cells": [
  {
   "cell_type": "code",
   "execution_count": 46,
   "metadata": {},
   "outputs": [],
   "source": [
    "from ephys_queries import select_waveforms, db_setup_core\n",
    "from waveform_utils.waveforms import (\n",
    "    waveform_peaks_by_neuron, \n",
    "    waveform_width_by_neuron,\n",
    "    peak_asymmetry_by_neuron\n",
    ")\n",
    "from waveform_utils.plots import plot_waveform_peaks\n",
    "import matplotlib.pyplot as plt\n",
    "from dotenv import load_dotenv\n",
    "import numpy as np\n",
    "from pathlib import Path"
   ]
  },
  {
   "cell_type": "code",
   "execution_count": 50,
   "metadata": {},
   "outputs": [],
   "source": [
    "fig_dir = Path(\".\").absolute().parent / \"figs\""
   ]
  },
  {
   "cell_type": "code",
   "execution_count": 25,
   "metadata": {},
   "outputs": [
    {
     "data": {
      "text/html": [
       "<div>\n",
       "<style scoped>\n",
       "    .dataframe tbody tr th:only-of-type {\n",
       "        vertical-align: middle;\n",
       "    }\n",
       "\n",
       "    .dataframe tbody tr th {\n",
       "        vertical-align: top;\n",
       "    }\n",
       "\n",
       "    .dataframe thead th {\n",
       "        text-align: right;\n",
       "    }\n",
       "</style>\n",
       "<table border=\"1\" class=\"dataframe\">\n",
       "  <thead>\n",
       "    <tr style=\"text-align: right;\">\n",
       "      <th></th>\n",
       "      <th>neuron_id</th>\n",
       "      <th>waveform_value</th>\n",
       "      <th>waveform_index</th>\n",
       "      <th>group_name</th>\n",
       "      <th>time</th>\n",
       "    </tr>\n",
       "  </thead>\n",
       "  <tbody>\n",
       "    <tr>\n",
       "      <th>0</th>\n",
       "      <td>1</td>\n",
       "      <td>-14.520</td>\n",
       "      <td>0.0</td>\n",
       "      <td>shock</td>\n",
       "      <td>0.000</td>\n",
       "    </tr>\n",
       "    <tr>\n",
       "      <th>1</th>\n",
       "      <td>1</td>\n",
       "      <td>-13.085</td>\n",
       "      <td>1.0</td>\n",
       "      <td>shock</td>\n",
       "      <td>0.033</td>\n",
       "    </tr>\n",
       "  </tbody>\n",
       "</table>\n",
       "</div>"
      ],
      "text/plain": [
       "   neuron_id  waveform_value  waveform_index group_name   time\n",
       "0          1         -14.520             0.0      shock  0.000\n",
       "1          1         -13.085             1.0      shock  0.033"
      ]
     },
     "execution_count": 25,
     "metadata": {},
     "output_type": "execute_result"
    }
   ],
   "source": [
    "load_dotenv()\n",
    "engine, metadata = db_setup_core()\n",
    "acute_groups = (\"acute_citalopram\", \n",
    "                \"acute_saline\", \n",
    "                \"shock\", \n",
    "                \"sham\", \n",
    "                \"acute_cit\", \n",
    "                \"acute_sal\"\n",
    "                )\n",
    "waveforms = select_waveforms(engine, metadata,\n",
    "                            group_names=acute_groups).assign(time=lambda x: np.round(x[\"waveform_index\"].divide(30), 3))\n",
    "waveforms.head(2)"
   ]
  },
  {
   "cell_type": "code",
   "execution_count": 30,
   "metadata": {},
   "outputs": [],
   "source": [
    "peaks = waveform_peaks_by_neuron(waveforms, neuron_col=\"neuron_id\", \n",
    "                         index_col=\"time\", \n",
    "                         value_col=\"waveform_value\").dropna()"
   ]
  },
  {
   "cell_type": "code",
   "execution_count": 42,
   "metadata": {},
   "outputs": [
    {
     "data": {
      "text/plain": [
       "1896"
      ]
     },
     "execution_count": 42,
     "metadata": {},
     "output_type": "execute_result"
    }
   ],
   "source": [
    "neurons = waveforms[\"neuron_id\"].values\n",
    "neuron = np.random.choice(neurons, 1)[0]\n",
    "neuron"
   ]
  },
  {
   "cell_type": "code",
   "execution_count": 59,
   "metadata": {},
   "outputs": [
    {
     "data": {
      "image/png": "[encoded data removed]",
      "text/plain": [
       "<Figure size 432x432 with 1 Axes>"
      ]
     },
     "metadata": {
      "needs_background": "light"
     },
     "output_type": "display_data"
    }
   ],
   "source": [
    "ax = plot_waveform_peaks(waveforms, df_peaks=peaks, neuron_id=neuron, \n",
    "                        df_waveforms_index_col= 'time', \n",
    "                         waveform_plot_kwargs={\"linewidth\":5}, \n",
    "                         peaks_plot_kwargs={\"s\":700})\n",
    "ax.set_xlabel(\"Time [ms]\")\n",
    "ax.get_legend().remove()\n",
    "plt.savefig(str(fig_dir / \"waveform\"), dpi=300)"
   ]
  },
  {
   "cell_type": "code",
   "execution_count": null,
   "metadata": {},
   "outputs": [],
   "source": []
  }
 ],
 "metadata": {
  "kernelspec": {
   "display_name": "Python 3",
   "language": "python",
   "name": "python3"
  },
  "language_info": {
   "codemirror_mode": {
    "name": "ipython",
    "version": 3
   },
   "file_extension": ".py",
   "mimetype": "text/x-python",
   "name": "python",
   "nbconvert_exporter": "python",
   "pygments_lexer": "ipython3",
   "version": "3.8.2"
  }
 },
 "nbformat": 4,
 "nbformat_minor": 4
}
