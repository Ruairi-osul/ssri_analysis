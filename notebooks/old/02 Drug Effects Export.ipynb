{
 "cells": [
  {
   "cell_type": "markdown",
   "metadata": {},
   "source": [
    "# Export of Data Around Drug Injection\n",
    "\n",
    "- Export sets of two datasets, one for the acute and chronic experiments \n",
    "- Each dataset contains activity for each neuron 10 minutes prior to and 20 minutes following drug challenge\n",
    "- One dataset contains a timeseries of neuronal activity sampled every second. This includes the raw firing rate as well as zscored firing rate (using the 10 minutes prior to drug admin to map zscores to other time periods) \n",
    "- The other dataset contains zscores binned into 3 10-minute bins\n",
    "\n",
    "\n",
    "Data exported:\n",
    "- **acute_challenge.csv**\n",
    "- **acute_challenge_binned.csv**\n",
    "- **chronic_challenge.csv**\n",
    "- **chronic_challenge_binned.csv**"
   ]
  },
  {
   "cell_type": "code",
   "execution_count": 1,
   "metadata": {},
   "outputs": [],
   "source": [
    "from ephys_queries import select_ifr\n",
    "from ephys_queries import db_setup_core\n",
    "import dotenv"
   ]
  },
  {
   "cell_type": "code",
   "execution_count": 2,
   "metadata": {},
   "outputs": [],
   "source": [
    "import numpy as np\n",
    "import pandas as pd\n",
    "from pathlib import Path "
   ]
  },
  {
   "cell_type": "code",
   "execution_count": 3,
   "metadata": {},
   "outputs": [],
   "source": [
    "from spiketimes.df import zscore_normalise_by_neuron\n",
    "from spiketimes.df import bin_df"
   ]
  },
  {
   "cell_type": "code",
   "execution_count": 4,
   "metadata": {},
   "outputs": [],
   "source": [
    "dotenv.load_dotenv()\n",
    "engine, metadata = db_setup_core()"
   ]
  },
  {
   "cell_type": "code",
   "execution_count": 5,
   "metadata": {},
   "outputs": [],
   "source": [
    "data_dir = Path(\".\").absolute().parent / \"data\"\n",
    "df_clusters = pd.read_csv(data_dir / \"baseline.csv\")"
   ]
  },
  {
   "cell_type": "markdown",
   "metadata": {},
   "source": [
    "## Acute Data"
   ]
  },
  {
   "cell_type": "markdown",
   "metadata": {},
   "source": [
    "#### Select Raw Data"
   ]
  },
  {
   "cell_type": "code",
   "execution_count": 6,
   "metadata": {},
   "outputs": [],
   "source": [
    "group_names = [\n",
    "    \"acute_citalopram\", \n",
    "    \"acute_saline\", \n",
    "    \"acute_cit\", \n",
    "    \"acute_sal\"\n",
    "]\n",
    "\n",
    "block_name = \"chal\"\n",
    "t_before = 600\n",
    "\n",
    "ifr_acute = select_ifr(engine, metadata, \n",
    "                 block_name=block_name, \n",
    "                 group_names=group_names, \n",
    "                 align_to_block=True, \n",
    "                 t_before=t_before)"
   ]
  },
  {
   "cell_type": "markdown",
   "metadata": {},
   "source": [
    "#### Zscore IFR to 10 mins Pre-Challenge"
   ]
  },
  {
   "cell_type": "code",
   "execution_count": 7,
   "metadata": {},
   "outputs": [],
   "source": [
    "dfz_acute = zscore_normalise_by_neuron(ifr_acute, \n",
    "                                 timepoint_cutoff_max=0, \n",
    "                                 col_to_act_on=\"ifr\", \n",
    "                                 timepoint_colname=\"timepoint_s\")\n"
   ]
  },
  {
   "cell_type": "markdown",
   "metadata": {},
   "source": [
    "#### Bin Data into 10-Minute Bins"
   ]
  },
  {
   "cell_type": "code",
   "execution_count": 8,
   "metadata": {
    "scrolled": true
   },
   "outputs": [
    {
     "name": "stderr",
     "output_type": "stream",
     "text": [
      "/home/rory/anaconda3/envs/ssri/lib/python3.7/site-packages/ipykernel_launcher.py:6: RuntimeWarning: Mean of empty slice\n",
      "  \n"
     ]
    },
    {
     "data": {
      "text/html": [
       "<div>\n",
       "<style scoped>\n",
       "    .dataframe tbody tr th:only-of-type {\n",
       "        vertical-align: middle;\n",
       "    }\n",
       "\n",
       "    .dataframe tbody tr th {\n",
       "        vertical-align: top;\n",
       "    }\n",
       "\n",
       "    .dataframe thead th {\n",
       "        text-align: right;\n",
       "    }\n",
       "</style>\n",
       "<table border=\"1\" class=\"dataframe\">\n",
       "  <thead>\n",
       "    <tr style=\"text-align: right;\">\n",
       "      <th></th>\n",
       "      <th>neuron_id</th>\n",
       "      <th>bin</th>\n",
       "      <th>zscore</th>\n",
       "    </tr>\n",
       "  </thead>\n",
       "  <tbody>\n",
       "    <tr>\n",
       "      <th>0</th>\n",
       "      <td>1011</td>\n",
       "      <td>-600</td>\n",
       "      <td>0.002392</td>\n",
       "    </tr>\n",
       "    <tr>\n",
       "      <th>1</th>\n",
       "      <td>1011</td>\n",
       "      <td>-1</td>\n",
       "      <td>-0.218167</td>\n",
       "    </tr>\n",
       "    <tr>\n",
       "      <th>2</th>\n",
       "      <td>1011</td>\n",
       "      <td>598</td>\n",
       "      <td>-1.148725</td>\n",
       "    </tr>\n",
       "    <tr>\n",
       "      <th>3</th>\n",
       "      <td>1011</td>\n",
       "      <td>1197</td>\n",
       "      <td>-4.909319</td>\n",
       "    </tr>\n",
       "    <tr>\n",
       "      <th>4</th>\n",
       "      <td>1013</td>\n",
       "      <td>-600</td>\n",
       "      <td>-0.003044</td>\n",
       "    </tr>\n",
       "  </tbody>\n",
       "</table>\n",
       "</div>"
      ],
      "text/plain": [
       "   neuron_id   bin    zscore\n",
       "0       1011  -600  0.002392\n",
       "1       1011    -1 -0.218167\n",
       "2       1011   598 -1.148725\n",
       "3       1011  1197 -4.909319\n",
       "4       1013  -600 -0.003044"
      ]
     },
     "execution_count": 8,
     "metadata": {},
     "output_type": "execute_result"
    }
   ],
   "source": [
    "bins = np.arange(-600, 1201, 599)\n",
    "\n",
    "df_binned_acute = (\n",
    "    bin_df(dfz_acute, colname=\"timepoint_s\", bins=bins, bin_val_name=\"bin\")\n",
    "    .groupby([\"neuron_id\", \"bin\"])\n",
    "    .apply(lambda x: np.nanmean(x[\"zscore\"]))\n",
    "    .unstack()\n",
    "    .reset_index()\n",
    "    .melt(id_vars=\"neuron_id\", value_name=\"zscore\")\n",
    "    .sort_values(by=[\"neuron_id\", \"bin\"])\n",
    "    .reset_index(drop=True)\n",
    ")\n",
    "df_binned_acute.head()"
   ]
  },
  {
   "cell_type": "markdown",
   "metadata": {},
   "source": [
    "#### Inspect for Systematic Missing Values"
   ]
  },
  {
   "cell_type": "code",
   "execution_count": 9,
   "metadata": {
    "scrolled": false
   },
   "outputs": [
    {
     "name": "stdout",
     "output_type": "stream",
     "text": [
      "<class 'pandas.core.frame.DataFrame'>\n",
      "RangeIndex: 386 entries, 0 to 385\n",
      "Data columns (total 5 columns):\n",
      "neuron_id    386 non-null int64\n",
      "-600         384 non-null float64\n",
      "-1           384 non-null float64\n",
      "598          384 non-null float64\n",
      "1197         384 non-null float64\n",
      "dtypes: float64(4), int64(1)\n",
      "memory usage: 15.2 KB\n"
     ]
    }
   ],
   "source": [
    "df_binned_wide_acute = df_binned_acute.pivot(\n",
    "                    columns=\"bin\", \n",
    "                    index=\"neuron_id\", \n",
    "                    values=\"zscore\"\n",
    "                    ).reset_index()\n",
    "df_binned_wide_acute.info()"
   ]
  },
  {
   "cell_type": "markdown",
   "metadata": {},
   "source": [
    "#### Merge with Cluster Labels "
   ]
  },
  {
   "cell_type": "code",
   "execution_count": 10,
   "metadata": {},
   "outputs": [],
   "source": [
    "df_binned_acute = pd.merge(df_clusters[[\"neuron_id\", \"cluster\", \"group_name\"]], df_binned_acute)\n",
    "dfz_acute = pd.merge(df_clusters[[\"neuron_id\", \"cluster\"]], dfz_acute)"
   ]
  },
  {
   "cell_type": "markdown",
   "metadata": {},
   "source": [
    "#### Save Data"
   ]
  },
  {
   "cell_type": "code",
   "execution_count": 11,
   "metadata": {},
   "outputs": [],
   "source": [
    "df_binned_acute.to_csv(data_dir / \"acute_challenge_binned.csv\", index=False)\n",
    "dfz_acute.to_csv(data_dir / \"acute_challenge_ts.csv\", index=False)"
   ]
  },
  {
   "cell_type": "markdown",
   "metadata": {},
   "source": [
    "## Chronic Data"
   ]
  },
  {
   "cell_type": "markdown",
   "metadata": {},
   "source": [
    "#### Select Raw Data"
   ]
  },
  {
   "cell_type": "code",
   "execution_count": 12,
   "metadata": {},
   "outputs": [],
   "source": [
    "group_names = [\"citalopram_continuation\", \"chronic_saline\", \"citalopram_discontinuation\", \n",
    "               \"chronic_citalopram\", \"chronic_saline_\"]\n",
    "\n",
    "ifr_chronic = select_ifr(engine, metadata, \n",
    "                 block_name=block_name, \n",
    "                 group_names=group_names, \n",
    "                 align_to_block=True, \n",
    "                 t_before=t_before)"
   ]
  },
  {
   "cell_type": "markdown",
   "metadata": {},
   "source": [
    "#### Zscore IFR to 10 mins Pre-Challenge"
   ]
  },
  {
   "cell_type": "code",
   "execution_count": 13,
   "metadata": {},
   "outputs": [],
   "source": [
    "dfz_chronic = zscore_normalise_by_neuron(ifr_chronic, \n",
    "                                 timepoint_cutoff_max=0, \n",
    "                                 col_to_act_on=\"ifr\", \n",
    "                                 timepoint_colname=\"timepoint_s\")"
   ]
  },
  {
   "cell_type": "markdown",
   "metadata": {},
   "source": [
    "#### Bin Data into 10-Minute Bins"
   ]
  },
  {
   "cell_type": "code",
   "execution_count": 14,
   "metadata": {},
   "outputs": [
    {
     "name": "stderr",
     "output_type": "stream",
     "text": [
      "/home/rory/anaconda3/envs/ssri/lib/python3.7/site-packages/ipykernel_launcher.py:4: RuntimeWarning: Mean of empty slice\n",
      "  after removing the cwd from sys.path.\n"
     ]
    },
    {
     "data": {
      "text/html": [
       "<div>\n",
       "<style scoped>\n",
       "    .dataframe tbody tr th:only-of-type {\n",
       "        vertical-align: middle;\n",
       "    }\n",
       "\n",
       "    .dataframe tbody tr th {\n",
       "        vertical-align: top;\n",
       "    }\n",
       "\n",
       "    .dataframe thead th {\n",
       "        text-align: right;\n",
       "    }\n",
       "</style>\n",
       "<table border=\"1\" class=\"dataframe\">\n",
       "  <thead>\n",
       "    <tr style=\"text-align: right;\">\n",
       "      <th></th>\n",
       "      <th>neuron_id</th>\n",
       "      <th>bin</th>\n",
       "      <th>zscore</th>\n",
       "    </tr>\n",
       "  </thead>\n",
       "  <tbody>\n",
       "    <tr>\n",
       "      <th>0</th>\n",
       "      <td>1069</td>\n",
       "      <td>-600</td>\n",
       "      <td>-0.009013</td>\n",
       "    </tr>\n",
       "    <tr>\n",
       "      <th>1</th>\n",
       "      <td>1069</td>\n",
       "      <td>-1</td>\n",
       "      <td>14.218447</td>\n",
       "    </tr>\n",
       "    <tr>\n",
       "      <th>2</th>\n",
       "      <td>1069</td>\n",
       "      <td>598</td>\n",
       "      <td>-0.502549</td>\n",
       "    </tr>\n",
       "    <tr>\n",
       "      <th>3</th>\n",
       "      <td>1069</td>\n",
       "      <td>1197</td>\n",
       "      <td>26.965464</td>\n",
       "    </tr>\n",
       "    <tr>\n",
       "      <th>4</th>\n",
       "      <td>1070</td>\n",
       "      <td>-600</td>\n",
       "      <td>-0.001864</td>\n",
       "    </tr>\n",
       "  </tbody>\n",
       "</table>\n",
       "</div>"
      ],
      "text/plain": [
       "   neuron_id   bin     zscore\n",
       "0       1069  -600  -0.009013\n",
       "1       1069    -1  14.218447\n",
       "2       1069   598  -0.502549\n",
       "3       1069  1197  26.965464\n",
       "4       1070  -600  -0.001864"
      ]
     },
     "execution_count": 14,
     "metadata": {},
     "output_type": "execute_result"
    }
   ],
   "source": [
    "df_binned_chronic = (\n",
    "    bin_df(dfz_chronic, colname=\"timepoint_s\", bins=bins, bin_val_name=\"bin\")\n",
    "    .groupby([\"neuron_id\", \"bin\"])\n",
    "    .apply(lambda x: np.nanmean(x[\"zscore\"]))\n",
    "    .unstack()\n",
    "    .reset_index()\n",
    "    .melt(id_vars=\"neuron_id\", value_name=\"zscore\")\n",
    "    .sort_values(by=[\"neuron_id\", \"bin\"])\n",
    "    .reset_index(drop=True)\n",
    ")\n",
    "df_binned_chronic.head()"
   ]
  },
  {
   "cell_type": "markdown",
   "metadata": {},
   "source": [
    "#### Inspect for Systematic Missing Values"
   ]
  },
  {
   "cell_type": "code",
   "execution_count": 15,
   "metadata": {
    "scrolled": true
   },
   "outputs": [
    {
     "name": "stdout",
     "output_type": "stream",
     "text": [
      "<class 'pandas.core.frame.DataFrame'>\n",
      "RangeIndex: 660 entries, 0 to 659\n",
      "Data columns (total 5 columns):\n",
      "neuron_id    660 non-null int64\n",
      "-600         656 non-null float64\n",
      "-1           658 non-null float64\n",
      "598          658 non-null float64\n",
      "1197         658 non-null float64\n",
      "dtypes: float64(4), int64(1)\n",
      "memory usage: 25.9 KB\n"
     ]
    }
   ],
   "source": [
    "df_binned_wide_chronic = df_binned_chronic.pivot(\n",
    "                    columns=\"bin\", \n",
    "                    index=\"neuron_id\", \n",
    "                    values=\"zscore\"\n",
    "                    ).reset_index()\n",
    "df_binned_wide_chronic.info()"
   ]
  },
  {
   "cell_type": "markdown",
   "metadata": {},
   "source": [
    "#### Merge with Cluster Labels "
   ]
  },
  {
   "cell_type": "code",
   "execution_count": 16,
   "metadata": {},
   "outputs": [],
   "source": [
    "df_binned_chronic = pd.merge(df_clusters[[\"neuron_id\", \"cluster\", \"group_name\"]], df_binned_chronic)\n",
    "dfz_chronic = pd.merge(df_clusters[[\"neuron_id\", \"cluster\"]], dfz_chronic)"
   ]
  },
  {
   "cell_type": "markdown",
   "metadata": {},
   "source": [
    "#### Save Data"
   ]
  },
  {
   "cell_type": "code",
   "execution_count": 17,
   "metadata": {},
   "outputs": [],
   "source": [
    "df_binned_chronic.to_csv(data_dir / \"chronic_challenge_binned.csv\", index=False)\n",
    "dfz_chronic.to_csv(data_dir / \"chronic_challenge_ts.csv\", index=False)"
   ]
  },
  {
   "cell_type": "code",
   "execution_count": null,
   "metadata": {},
   "outputs": [],
   "source": []
  }
 ],
 "metadata": {
  "kernelspec": {
   "display_name": "Python 3",
   "language": "python",
   "name": "python3"
  },
  "language_info": {
   "codemirror_mode": {
    "name": "ipython",
    "version": 3
   },
   "file_extension": ".py",
   "mimetype": "text/x-python",
   "name": "python",
   "nbconvert_exporter": "python",
   "pygments_lexer": "ipython3",
   "version": "3.8.2"
  }
 },
 "nbformat": 4,
 "nbformat_minor": 2
}
