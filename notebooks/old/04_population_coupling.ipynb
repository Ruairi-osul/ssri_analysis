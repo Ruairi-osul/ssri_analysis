{
 "cells": [
  {
   "cell_type": "code",
   "execution_count": 1,
   "metadata": {},
   "outputs": [],
   "source": [
    "from ephys_queries import select_spike_times\n",
    "from ephys_queries import db_setup_core\n",
    "from spiketimes.df import (\n",
    "    cross_corr_df_test,\n",
    ")\n",
    "import dotenv\n",
    "from pathlib import Path\n",
    "import pandas as pd\n",
    "import numpy as np"
   ]
  },
  {
   "cell_type": "code",
   "execution_count": 2,
   "metadata": {},
   "outputs": [],
   "source": [
    "from spiketimes.df import population_coupling_df_by"
   ]
  },
  {
   "cell_type": "code",
   "execution_count": 3,
   "metadata": {},
   "outputs": [],
   "source": [
    "data_dir = Path(\".\").absolute().parent / \"data\"\n",
    "df_labels = pd.read_csv(data_dir / \"chronic_baseline.csv\")\n",
    "df_labels = df_labels[[\"neuron_id\", \"type\", \"session_name\", \"mean_firing_rate\"]]"
   ]
  },
  {
   "cell_type": "code",
   "execution_count": 4,
   "metadata": {},
   "outputs": [],
   "source": [
    "dotenv.load_dotenv()\n",
    "engine, metadata = db_setup_core()\n",
    "group_names = [\n",
    "    \"citalopram_continuation\",\n",
    "    \"chronic_saline\",\n",
    "    \"citalopram_discontinuation\",\n",
    "    \"chronic_citalopram\",\n",
    "    \"chronic_saline_\",\n",
    "]\n",
    "block_name = \"pre\"\n",
    "df_spikes = select_spike_times(engine, metadata, block_name=block_name)\n",
    "df_spikes[\"spiketimes\"] = df_spikes[\"spike_time_samples\"].divide(30000)"
   ]
  },
  {
   "cell_type": "code",
   "execution_count": 5,
   "metadata": {},
   "outputs": [],
   "source": [
    "# merge datasets\n",
    "df = pd.merge(df_spikes, df_labels, on=\"neuron_id\")"
   ]
  },
  {
   "cell_type": "code",
   "execution_count": 6,
   "metadata": {},
   "outputs": [],
   "source": [
    "df = df[df[\"type\"] != \"no_baseline\"]"
   ]
  },
  {
   "cell_type": "code",
   "execution_count": 7,
   "metadata": {},
   "outputs": [],
   "source": [
    "df_out = population_coupling_df_by(df, spiketimes_col=\"spiketimes\", \n",
    "                                   neuron_col=\"neuron_id\", \n",
    "                                   by_col=\"session_name\",\n",
    "                                   bin_window=0.001,\n",
    "                                  num_lags=400)"
   ]
  },
  {
   "cell_type": "code",
   "execution_count": 9,
   "metadata": {},
   "outputs": [
    {
     "data": {
      "text/plain": [
       "<matplotlib.axes._subplots.AxesSubplot at 0x7f8002c1f750>"
      ]
     },
     "execution_count": 9,
     "metadata": {},
     "output_type": "execute_result"
    },
    {
     "data": {
      "image/png": "[encoded data removed]",
      "text/plain": [
       "<Figure size 432x288 with 1 Axes>"
      ]
     },
     "metadata": {
      "needs_background": "light"
     },
     "output_type": "display_data"
    }
   ],
   "source": [
    "df_out[\"zscore\"].hist(bins=100)"
   ]
  },
  {
   "cell_type": "code",
   "execution_count": 11,
   "metadata": {},
   "outputs": [],
   "source": [
    "df_out.to_csv(data_dir / \"population_coupling.csv\", index=False)"
   ]
  },
  {
   "cell_type": "code",
   "execution_count": null,
   "metadata": {},
   "outputs": [],
   "source": []
  }
 ],
 "metadata": {
  "kernelspec": {
   "display_name": "Python 3.7.6 64-bit ('ssri': conda)",
   "language": "python",
   "name": "python37664bitssricondab35fb21a5ce74bb7b12de02bbb9069e2"
  },
  "language_info": {
   "codemirror_mode": {
    "name": "ipython",
    "version": 3
   },
   "file_extension": ".py",
   "mimetype": "text/x-python",
   "name": "python",
   "nbconvert_exporter": "python",
   "pygments_lexer": "ipython3",
   "version": "3.7.6"
  }
 },
 "nbformat": 4,
 "nbformat_minor": 2
}
