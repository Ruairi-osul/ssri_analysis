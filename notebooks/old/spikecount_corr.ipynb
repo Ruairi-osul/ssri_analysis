{
 "cells": [
  {
   "cell_type": "code",
   "execution_count": 1,
   "metadata": {},
   "outputs": [],
   "source": [
    "from ephys_queries import select_spike_times\n",
    "from ephys_queries import db_setup_core\n",
    "from spiketimes.df import (\n",
    "    spike_count_correlation_df_test,\n",
    "    spike_count_correlation_between_groups_test,\n",
    ")\n",
    "import dotenv\n",
    "from pathlib import Path\n",
    "import pandas as pd\n",
    "import numpy as np\n",
    "from pyarrow.feather import write_feather, read_feather"
   ]
  },
  {
   "cell_type": "code",
   "execution_count": 2,
   "metadata": {},
   "outputs": [],
   "source": [
    "# load neuron_type data\n",
    "# data_dir = Path(__file__).absolute().parent.parent / \"data\"\n",
    "data_dir = Path(\".\").absolute().parent / \"data\"\n",
    "tmp_dir = data_dir / \"tmp\"\n",
    "tmp_dir.mkdir(exist_ok=True)\n",
    "df_labels = pd.read_csv(data_dir / \"chronic_baseline.csv\")\n",
    "df_labels = df_labels[[\"neuron_id\", \"type\", \"session_name\"]]\n"
   ]
  },
  {
   "cell_type": "code",
   "execution_count": 3,
   "metadata": {},
   "outputs": [],
   "source": [
    "# select spiketime data from the database\n",
    "dotenv.load_dotenv()\n",
    "engine, metadata = db_setup_core()\n",
    "group_names = [\n",
    "    \"citalopram_continuation\",\n",
    "    \"chronic_saline\",\n",
    "    \"citalopram_discontinuation\",\n",
    "    \"chronic_citalopram\",\n",
    "    \"chronic_saline_\",\n",
    "]\n",
    "block_name = \"pre\"\n",
    "df_spikes = select_spike_times(engine, metadata, block_name=block_name)\n",
    "df_spikes[\"spiketimes\"] = df_spikes[\"spike_time_samples\"].divide(30000)"
   ]
  },
  {
   "cell_type": "code",
   "execution_count": 4,
   "metadata": {},
   "outputs": [],
   "source": [
    "# merge datasets\n",
    "df = pd.merge(df_spikes, df_labels, on=\"neuron_id\")"
   ]
  },
  {
   "cell_type": "code",
   "execution_count": 5,
   "metadata": {},
   "outputs": [],
   "source": [
    "# apply exclusion criteria\n",
    "\n",
    "df = df[df[\"type\"] != \"no_baseline\"]"
   ]
  },
  {
   "cell_type": "code",
   "execution_count": 6,
   "metadata": {},
   "outputs": [],
   "source": [
    "recording_sessions = df_labels[\"session_name\"].unique()\n",
    "slow_reg_fnames = []\n",
    "group_wise_frames = []"
   ]
  },
  {
   "cell_type": "code",
   "execution_count": 7,
   "metadata": {},
   "outputs": [],
   "source": [
    "for session in recording_sessions:\n",
    "    df_sub = df[df[\"session_name\"] == session].copy()\n",
    "    group_wise = spike_count_correlation_between_groups_test(\n",
    "        df_sub,\n",
    "        fs=1,\n",
    "        n_boot=4000,\n",
    "        spiketimes_col=\"spiketimes\",\n",
    "        neuron_col=\"neuron_id\",\n",
    "        group_col=\"type\",\n",
    "        verbose=True\n",
    "    )\n",
    "\n",
    "    slow_reg = spike_count_correlation_df_test(df_sub[df_sub[\"type\"] == \"slow_regular\"].copy(),\n",
    "        fs=1,\n",
    "        n_boot=4000,\n",
    "        spiketimes_col=\"spiketimes\",\n",
    "        neuron_col=\"neuron_id\",\n",
    "        verbose=True                           \n",
    "        )\n",
    "    \n",
    "    slow_reg[\"session_name\"] = session\n",
    "    group_wise[\"session_name\"] = session\n",
    "    \n",
    "\n",
    "    fname_sr = str(tmp_dir / f\"{session}_slow_reg.feather\")\n",
    "    fname_gw = str(tmp_dir / f\"{session}_group_wise.feather\")\n",
    "    \n",
    "    write_feather(slow_reg, fname_sr)\n",
    "    write_feather(group_wise, fname_gw)\n",
    "    \n",
    "    slow_reg_fnames.append(fname_sr)\n",
    "    group_wise_frames.append(fname_gw)\n",
    "\n",
    "sr_frames = [read_feather(fname) for fname in slow_reg_fnames]\n",
    "gw_fnames = [read_feather(fname) for fname in group_wise_frames]\n",
    "\n",
    "df_sr = pd.concat(sr_frames, axis=0)\n",
    "df_gw = pd.concat(gw_fnames, axis=0)\n",
    "\n",
    "df_sr.to_csv(data_dir / \"spikecount_corr_1s_sr.csv\", index=False)\n",
    "df_gw.to_csv(data_dir / \"spikecount_corr_1s_gw).csv\", index=False)"
   ]
  },
  {
   "cell_type": "code",
   "execution_count": null,
   "metadata": {},
   "outputs": [],
   "source": []
  }
 ],
 "metadata": {
  "kernelspec": {
   "display_name": "Python 3",
   "language": "python",
   "name": "python3"
  },
  "language_info": {
   "codemirror_mode": {
    "name": "ipython",
    "version": 3
   },
   "file_extension": ".py",
   "mimetype": "text/x-python",
   "name": "python",
   "nbconvert_exporter": "python",
   "pygments_lexer": "ipython3",
   "version": "3.8.2"
  }
 },
 "nbformat": 4,
 "nbformat_minor": 2
}
