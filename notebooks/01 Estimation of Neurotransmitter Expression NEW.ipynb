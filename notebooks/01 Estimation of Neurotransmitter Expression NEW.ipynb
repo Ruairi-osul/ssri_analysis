{
 "cells": [
  {
   "cell_type": "code",
   "execution_count": 1,
   "metadata": {},
   "outputs": [
    {
     "ename": "ModuleNotFoundError",
     "evalue": "No module named 'ephys_queries'",
     "output_type": "error",
     "traceback": [
      "\u001b[1;31m---------------------------------------------------------------------------\u001b[0m",
      "\u001b[1;31mModuleNotFoundError\u001b[0m                       Traceback (most recent call last)",
      "\u001b[1;32m<ipython-input-1-d5dab08e3162>\u001b[0m in \u001b[0;36m<module>\u001b[1;34m\u001b[0m\n\u001b[1;32m----> 1\u001b[1;33m from ephys_queries import (\n\u001b[0m\u001b[0;32m      2\u001b[0m     \u001b[0mselect_spike_times\u001b[0m\u001b[1;33m,\u001b[0m\u001b[1;33m\u001b[0m\u001b[1;33m\u001b[0m\u001b[0m\n\u001b[0;32m      3\u001b[0m     \u001b[0mselect_ifr\u001b[0m\u001b[1;33m,\u001b[0m\u001b[1;33m\u001b[0m\u001b[1;33m\u001b[0m\u001b[0m\n\u001b[0;32m      4\u001b[0m     \u001b[0mselect_waveforms\u001b[0m\u001b[1;33m,\u001b[0m\u001b[1;33m\u001b[0m\u001b[1;33m\u001b[0m\u001b[0m\n\u001b[0;32m      5\u001b[0m     \u001b[0mselect_neurons\u001b[0m\u001b[1;33m\u001b[0m\u001b[1;33m\u001b[0m\u001b[0m\n",
      "\u001b[1;31mModuleNotFoundError\u001b[0m: No module named 'ephys_queries'"
     ]
    }
   ],
   "source": [
    "from ephys_queries import (\n",
    "    select_spike_times, \n",
    "    select_ifr, \n",
    "    select_waveforms, \n",
    "    select_neurons\n",
    ")\n",
    "from ephys_queries import db_setup_core\n",
    "from dotenv import load_dotenv"
   ]
  },
  {
   "cell_type": "code",
   "execution_count": 2,
   "metadata": {},
   "outputs": [],
   "source": [
    "import pandas as pd\n",
    "import numpy as np\n",
    "import matplotlib.pyplot as plt\n",
    "import seaborn as sns\n",
    "from pathlib import Path\n",
    "\n",
    "sns.set_palette(\"Set2\")"
   ]
  },
  {
   "cell_type": "code",
   "execution_count": 3,
   "metadata": {},
   "outputs": [
    {
     "ename": "ModuleNotFoundError",
     "evalue": "No module named 'waveform_utils'",
     "output_type": "error",
     "traceback": [
      "\u001b[1;31m---------------------------------------------------------------------------\u001b[0m",
      "\u001b[1;31mModuleNotFoundError\u001b[0m                       Traceback (most recent call last)",
      "\u001b[1;32m<ipython-input-3-fca7dc37a3dc>\u001b[0m in \u001b[0;36m<module>\u001b[1;34m\u001b[0m\n\u001b[1;32m----> 1\u001b[1;33m from waveform_utils.waveforms import (\n\u001b[0m\u001b[0;32m      2\u001b[0m     \u001b[0mwaveform_peaks_by_neuron\u001b[0m\u001b[1;33m,\u001b[0m\u001b[1;33m\u001b[0m\u001b[1;33m\u001b[0m\u001b[0m\n\u001b[0;32m      3\u001b[0m     \u001b[0mwaveform_width_by_neuron\u001b[0m\u001b[1;33m,\u001b[0m\u001b[1;31m## Clustering of Acute Data\u001b[0m\u001b[1;33m\u001b[0m\u001b[1;33m\u001b[0m\u001b[0m\n\u001b[0;32m      4\u001b[0m     \u001b[0mpeak_asymmetry_by_neuron\u001b[0m\u001b[1;33m\u001b[0m\u001b[1;33m\u001b[0m\u001b[0m\n\u001b[0;32m      5\u001b[0m )\n",
      "\u001b[1;31mModuleNotFoundError\u001b[0m: No module named 'waveform_utils'"
     ]
    }
   ],
   "source": [
    "from waveform_utils.waveforms import (\n",
    "    waveform_peaks_by_neuron, \n",
    "    waveform_width_by_neuron,## Clustering of Acute Data\n",
    "    peak_asymmetry_by_neuron\n",
    ")\n",
    "from spiketimes.df.statistics import (\n",
    "    mean_firing_rate_by, \n",
    "    mean_firing_rate_ifr_by, \n",
    "    cv2_isi_by,\n",
    ")"
   ]
  },
  {
   "cell_type": "code",
   "execution_count": 4,
   "metadata": {},
   "outputs": [],
   "source": [
    "FS_MINUTE = 0.01666666666"
   ]
  },
  {
   "cell_type": "markdown",
   "metadata": {},
   "source": [
    "## Clustering of Acute Data\n",
    "\n",
    "Takes data from the **baseline period** of **treatment-naive** animals to assign each neurona type or label."
   ]
  },
  {
   "cell_type": "code",
   "execution_count": 5,
   "metadata": {},
   "outputs": [],
   "source": [
    "from sklearn.preprocessing import StandardScaler\n",
    "from sklearn.mixture import GaussianMixture\n",
    "from sklearn.cluster import KMeans"
   ]
  },
  {
   "cell_type": "code",
   "execution_count": 6,
   "metadata": {},
   "outputs": [
    {
     "data": {
      "text/plain": [
       "'ephys'"
      ]
     },
     "execution_count": 6,
     "metadata": {},
     "output_type": "execute_result"
    }
   ],
   "source": [
    "import os\n",
    "\n",
    "load_dotenv()\n",
    "os.environ.get(\"DB_NAME\")"
   ]
  },
  {
   "cell_type": "markdown",
   "metadata": {},
   "source": [
    "### Select Raw Data"
   ]
  },
  {
   "cell_type": "code",
   "execution_count": 7,
   "metadata": {},
   "outputs": [],
   "source": [
    "group_names = [\"acute_citalopram\", \"acute_saline\", \"shock\", \n",
    "               \"sham\", \"acute_cit\", \"acute_sal\"]\n",
    "block_name = \"pre\"\n",
    "fs = 30000\n",
    "\n",
    "load_dotenv()\n",
    "engine, metadata = db_setup_core()\n",
    "\n",
    "spiketimes = (\n",
    "    select_spike_times(\n",
    "        engine, metadata, \n",
    "        block_name=block_name, \n",
    "        group_names=group_names,\n",
    "    )\n",
    "    .assign(\n",
    "        spiketimes= lambda x: x[\"spike_time_samples\"].divide(fs)\n",
    "    )\n",
    ")\n",
    "waveforms = select_waveforms(engine, metadata,\n",
    "                            group_names=group_names)\n",
    "neurons = select_neurons(engine, metadata, group_names=group_names)"
   ]
  },
  {
   "cell_type": "code",
   "execution_count": 8,
   "metadata": {},
   "outputs": [
    {
     "data": {
      "text/html": [
       "<div>\n",
       "<style scoped>\n",
       "    .dataframe tbody tr th:only-of-type {\n",
       "        vertical-align: middle;\n",
       "    }\n",
       "\n",
       "    .dataframe tbody tr th {\n",
       "        vertical-align: top;\n",
       "    }\n",
       "\n",
       "    .dataframe thead th {\n",
       "        text-align: right;\n",
       "    }\n",
       "</style>\n",
       "<table border=\"1\" class=\"dataframe\">\n",
       "  <thead>\n",
       "    <tr style=\"text-align: right;\">\n",
       "      <th></th>\n",
       "      <th>neuron_id</th>\n",
       "      <th>spike_time_samples</th>\n",
       "      <th>group_name</th>\n",
       "      <th>spiketimes</th>\n",
       "    </tr>\n",
       "  </thead>\n",
       "  <tbody>\n",
       "    <tr>\n",
       "      <th>0</th>\n",
       "      <td>1</td>\n",
       "      <td>3318</td>\n",
       "      <td>shock</td>\n",
       "      <td>0.110600</td>\n",
       "    </tr>\n",
       "    <tr>\n",
       "      <th>1</th>\n",
       "      <td>1</td>\n",
       "      <td>21880</td>\n",
       "      <td>shock</td>\n",
       "      <td>0.729333</td>\n",
       "    </tr>\n",
       "    <tr>\n",
       "      <th>2</th>\n",
       "      <td>1</td>\n",
       "      <td>60284</td>\n",
       "      <td>shock</td>\n",
       "      <td>2.009467</td>\n",
       "    </tr>\n",
       "    <tr>\n",
       "      <th>3</th>\n",
       "      <td>1</td>\n",
       "      <td>96769</td>\n",
       "      <td>shock</td>\n",
       "      <td>3.225633</td>\n",
       "    </tr>\n",
       "    <tr>\n",
       "      <th>4</th>\n",
       "      <td>1</td>\n",
       "      <td>168821</td>\n",
       "      <td>shock</td>\n",
       "      <td>5.627367</td>\n",
       "    </tr>\n",
       "  </tbody>\n",
       "</table>\n",
       "</div>"
      ],
      "text/plain": [
       "   neuron_id  spike_time_samples group_name  spiketimes\n",
       "0          1                3318      shock    0.110600\n",
       "1          1               21880      shock    0.729333\n",
       "2          1               60284      shock    2.009467\n",
       "3          1               96769      shock    3.225633\n",
       "4          1              168821      shock    5.627367"
      ]
     },
     "execution_count": 8,
     "metadata": {},
     "output_type": "execute_result"
    }
   ],
   "source": [
    "spiketimes.head()"
   ]
  },
  {
   "cell_type": "markdown",
   "metadata": {},
   "source": [
    "### Engineer Features"
   ]
  },
  {
   "cell_type": "code",
   "execution_count": 9,
   "metadata": {},
   "outputs": [
    {
     "name": "stderr",
     "output_type": "stream",
     "text": [
      "/home/rory/miniconda3/envs/ssri/lib/python3.8/site-packages/numpy/lib/nanfunctions.py:1112: RuntimeWarning: Mean of empty slice\n",
      "  return np.nanmean(a, axis, out=out, keepdims=keepdims)\n"
     ]
    }
   ],
   "source": [
    "mfr_ifr = mean_firing_rate_ifr_by(\n",
    "    spiketimes,\n",
    "    fs=FS_MINUTE,\n",
    "    exclude_below=0.5,\n",
    "    sigma=1,\n",
    "    spiketimes_col=\"spiketimes\",\n",
    "    spiketrain_col=\"neuron_id\"\n",
    "    )\n",
    "mfr = mean_firing_rate_by(\n",
    "    spiketimes,\n",
    "    spiketimes_col=\"spiketimes\",\n",
    "    spiketrain_col=\"neuron_id\"\n",
    "    )\n",
    "cv_isi = cv2_isi_by(\n",
    "    spiketimes,\n",
    "    spiketimes_col=\"spiketimes\",\n",
    "    spiketrain_col=\"neuron_id\"\n",
    "    )\n",
    "peaks = waveform_peaks_by_neuron(waveforms, neuron_col=\"neuron_id\", \n",
    "                         index_col=\"waveform_index\", \n",
    "                         value_col=\"waveform_value\").dropna()\n",
    "width = waveform_width_by_neuron(peaks, peak_names=[\"initiation\", \"ahp\"])\n",
    "peak_asym = peak_asymmetry_by_neuron(peaks, peak_names=[\"initiation\", \"ahp\"])"
   ]
  },
  {
   "cell_type": "markdown",
   "metadata": {},
   "source": [
    "### Merge and Select Features For Clustering"
   ]
  },
  {
   "cell_type": "code",
   "execution_count": 10,
   "metadata": {},
   "outputs": [
    {
     "data": {
      "text/html": [
       "<div>\n",
       "<style scoped>\n",
       "    .dataframe tbody tr th:only-of-type {\n",
       "        vertical-align: middle;\n",
       "    }\n",
       "\n",
       "    .dataframe tbody tr th {\n",
       "        vertical-align: top;\n",
       "    }\n",
       "\n",
       "    .dataframe thead th {\n",
       "        text-align: right;\n",
       "    }\n",
       "</style>\n",
       "<table border=\"1\" class=\"dataframe\">\n",
       "  <thead>\n",
       "    <tr style=\"text-align: right;\">\n",
       "      <th></th>\n",
       "      <th>neuron_id</th>\n",
       "      <th>mean_firing_rate_ifr</th>\n",
       "      <th>mean_firing_rate</th>\n",
       "      <th>cv2_isi</th>\n",
       "      <th>waveform_width</th>\n",
       "      <th>peak_asymmetry</th>\n",
       "    </tr>\n",
       "  </thead>\n",
       "  <tbody>\n",
       "    <tr>\n",
       "      <th>0</th>\n",
       "      <td>1</td>\n",
       "      <td>0.918980</td>\n",
       "      <td>0.601693</td>\n",
       "      <td>0.467315</td>\n",
       "      <td>16.0</td>\n",
       "      <td>0.065574</td>\n",
       "    </tr>\n",
       "    <tr>\n",
       "      <th>1</th>\n",
       "      <td>4</td>\n",
       "      <td>3.521961</td>\n",
       "      <td>2.105512</td>\n",
       "      <td>0.824797</td>\n",
       "      <td>9.0</td>\n",
       "      <td>0.037344</td>\n",
       "    </tr>\n",
       "  </tbody>\n",
       "</table>\n",
       "</div>"
      ],
      "text/plain": [
       "   neuron_id  mean_firing_rate_ifr  mean_firing_rate   cv2_isi  \\\n",
       "0          1              0.918980          0.601693  0.467315   \n",
       "1          4              3.521961          2.105512  0.824797   \n",
       "\n",
       "   waveform_width  peak_asymmetry  \n",
       "0            16.0        0.065574  \n",
       "1             9.0        0.037344  "
      ]
     },
     "execution_count": 10,
     "metadata": {},
     "output_type": "execute_result"
    }
   ],
   "source": [
    "df = (\n",
    "    pd.merge(mfr_ifr, mfr)\n",
    "    .merge(cv_isi)\n",
    "    .merge(width)\n",
    "    .merge(peak_asym)\n",
    ")\n",
    "df.head(2)"
   ]
  },
  {
   "cell_type": "markdown",
   "metadata": {},
   "source": [
    "### Apply Exclusion Criteria"
   ]
  },
  {
   "cell_type": "code",
   "execution_count": 11,
   "metadata": {},
   "outputs": [],
   "source": [
    "df2 = (\n",
    "    df[(df[\"mean_firing_rate_ifr\"] > 0.2) & (df[\"cv2_isi\"] < 1.2)]\n",
    "    .copy()\n",
    "    .dropna()\n",
    ")"
   ]
  },
  {
   "cell_type": "markdown",
   "metadata": {},
   "source": [
    "### Apply Clustering"
   ]
  },
  {
   "cell_type": "code",
   "execution_count": 12,
   "metadata": {},
   "outputs": [
    {
     "data": {
      "image/png": "[encoded data removed]",
      "text/plain": [
       "<Figure size 432x288 with 1 Axes>"
      ]
     },
     "metadata": {
      "needs_background": "light"
     },
     "output_type": "display_data"
    }
   ],
   "source": [
    "X = df2[[\"mean_firing_rate\", \"cv2_isi\"]]\n",
    "scaler = StandardScaler()\n",
    "X = scaler.fit_transform(X)\n",
    "\n",
    "model = GaussianMixture(3)\n",
    "model.fit(X)\n",
    "Y = model.predict(X)\n",
    "df2[\"cluster\"] = Y\n",
    "\n",
    "\n",
    "sns.scatterplot(data=df2, x=\"cv2_isi\", y=\"mean_firing_rate\", hue=\"cluster\")\n",
    "plt.show()"
   ]
  },
  {
   "cell_type": "markdown",
   "metadata": {},
   "source": [
    "### Add Cluster Labels"
   ]
  },
  {
   "cell_type": "code",
   "execution_count": 13,
   "metadata": {},
   "outputs": [],
   "source": [
    "df2[\"cluster\"] = df2.cluster.map({1: \"fast_firing\", 0: \"slow_irregular\", 2: \"slow_regular\"})"
   ]
  },
  {
   "cell_type": "markdown",
   "metadata": {},
   "source": [
    "### Merge Data"
   ]
  },
  {
   "cell_type": "code",
   "execution_count": 14,
   "metadata": {},
   "outputs": [
    {
     "data": {
      "text/html": [
       "<div>\n",
       "<style scoped>\n",
       "    .dataframe tbody tr th:only-of-type {\n",
       "        vertical-align: middle;\n",
       "    }\n",
       "\n",
       "    .dataframe tbody tr th {\n",
       "        vertical-align: top;\n",
       "    }\n",
       "\n",
       "    .dataframe thead th {\n",
       "        text-align: right;\n",
       "    }\n",
       "</style>\n",
       "<table border=\"1\" class=\"dataframe\">\n",
       "  <thead>\n",
       "    <tr style=\"text-align: right;\">\n",
       "      <th></th>\n",
       "      <th>neuron_id</th>\n",
       "      <th>mean_firing_rate_ifr</th>\n",
       "      <th>mean_firing_rate</th>\n",
       "      <th>cv2_isi</th>\n",
       "      <th>waveform_width</th>\n",
       "      <th>peak_asymmetry</th>\n",
       "      <th>cluster</th>\n",
       "      <th>channel</th>\n",
       "      <th>is_single_unit</th>\n",
       "      <th>session_name</th>\n",
       "      <th>group_name</th>\n",
       "      <th>experiment_name</th>\n",
       "    </tr>\n",
       "  </thead>\n",
       "  <tbody>\n",
       "    <tr>\n",
       "      <th>0</th>\n",
       "      <td>1</td>\n",
       "      <td>0.918980</td>\n",
       "      <td>0.601693</td>\n",
       "      <td>0.467315</td>\n",
       "      <td>16.0</td>\n",
       "      <td>0.065574</td>\n",
       "      <td>slow_regular</td>\n",
       "      <td>6</td>\n",
       "      <td>1</td>\n",
       "      <td>ESHOCK_03_LOC1</td>\n",
       "      <td>shock</td>\n",
       "      <td>ESHOCK</td>\n",
       "    </tr>\n",
       "    <tr>\n",
       "      <th>1</th>\n",
       "      <td>4</td>\n",
       "      <td>3.521961</td>\n",
       "      <td>2.105512</td>\n",
       "      <td>0.824797</td>\n",
       "      <td>9.0</td>\n",
       "      <td>0.037344</td>\n",
       "      <td>slow_irregular</td>\n",
       "      <td>17</td>\n",
       "      <td>1</td>\n",
       "      <td>ESHOCK_03_LOC1</td>\n",
       "      <td>shock</td>\n",
       "      <td>ESHOCK</td>\n",
       "    </tr>\n",
       "  </tbody>\n",
       "</table>\n",
       "</div>"
      ],
      "text/plain": [
       "   neuron_id  mean_firing_rate_ifr  mean_firing_rate   cv2_isi  \\\n",
       "0          1              0.918980          0.601693  0.467315   \n",
       "1          4              3.521961          2.105512  0.824797   \n",
       "\n",
       "   waveform_width  peak_asymmetry         cluster  channel  is_single_unit  \\\n",
       "0            16.0        0.065574    slow_regular        6               1   \n",
       "1             9.0        0.037344  slow_irregular       17               1   \n",
       "\n",
       "     session_name group_name experiment_name  \n",
       "0  ESHOCK_03_LOC1      shock          ESHOCK  \n",
       "1  ESHOCK_03_LOC1      shock          ESHOCK  "
      ]
     },
     "execution_count": 14,
     "metadata": {},
     "output_type": "execute_result"
    }
   ],
   "source": [
    "df_acute = (df2\n",
    "    .pipe(lambda x: pd.merge(x, df, how=\"outer\"))\n",
    "    .pipe(lambda x: pd.merge(x, neurons, how=\"outer\", left_on=\"neuron_id\", right_on=\"id\"))\n",
    ")\n",
    "df_acute[\"neuron_id\"] = df_acute[\"neuron_id\"].fillna(df_acute[\"id\"])\n",
    "df_acute = df_acute.drop([\"recording_session_id\", \"cluster_id\", \"id\"], axis=1)\n",
    "df_acute[\"cluster\"] = df_acute[\"cluster\"].fillna(\"no_baseline\")\n",
    "df_acute.neuron_id = df_acute.neuron_id.astype(int)\n",
    "df_acute.head(2)"
   ]
  },
  {
   "cell_type": "markdown",
   "metadata": {},
   "source": [
    "## Classifying Chronic Data\n",
    "\n",
    "Takes data from the **baseline period** of **treatment-receiving** animals to assign each neurona type or label."
   ]
  },
  {
   "cell_type": "code",
   "execution_count": 15,
   "metadata": {},
   "outputs": [],
   "source": [
    "from sklearn.preprocessing import StandardScaler, LabelEncoder\n",
    "from sklearn.svm import SVC"
   ]
  },
  {
   "cell_type": "markdown",
   "metadata": {},
   "source": [
    "### Select Raw Data"
   ]
  },
  {
   "cell_type": "code",
   "execution_count": 16,
   "metadata": {},
   "outputs": [],
   "source": [
    "group_names = [\"citalopram_continuation\", \"chronic_saline\", \"citalopram_discontinuation\", \n",
    "               \"chronic_citalopram\", \"chronic_saline_\"]\n",
    "block_name = \"pre\"\n",
    "\n",
    "engine, metadata = db_setup_core()\n",
    "\n",
    "\n",
    "spiketimes = (\n",
    "    select_spike_times(\n",
    "        engine, metadata, \n",
    "        block_name=block_name, \n",
    "        group_names=group_names,\n",
    "    )\n",
    "    .assign(\n",
    "        spiketimes= lambda x: x[\"spike_time_samples\"].divide(fs)\n",
    "    )\n",
    ")\n",
    "waveforms = select_waveforms(engine, metadata,\n",
    "                            group_names=group_names)\n",
    "neurons = select_neurons(engine, metadata, group_names=group_names)"
   ]
  },
  {
   "cell_type": "markdown",
   "metadata": {},
   "source": [
    "### Engineer Features"
   ]
  },
  {
   "cell_type": "code",
   "execution_count": 17,
   "metadata": {},
   "outputs": [
    {
     "name": "stderr",
     "output_type": "stream",
     "text": [
      "/home/rory/miniconda3/envs/ssri/lib/python3.8/site-packages/numpy/lib/nanfunctions.py:1112: RuntimeWarning: Mean of empty slice\n",
      "  return np.nanmean(a, axis, out=out, keepdims=keepdims)\n",
      "/home/rory/miniconda3/envs/ssri/lib/python3.8/site-packages/numpy/core/fromnumeric.py:3256: RuntimeWarning: Mean of empty slice.\n",
      "  return _methods._mean(a, axis=axis, dtype=dtype,\n",
      "/home/rory/miniconda3/envs/ssri/lib/python3.8/site-packages/numpy/core/_methods.py:161: RuntimeWarning: invalid value encountered in double_scalars\n",
      "  ret = ret.dtype.type(ret / rcount)\n"
     ]
    }
   ],
   "source": [
    "mfr_ifr = mean_firing_rate_ifr_by(\n",
    "    spiketimes,\n",
    "    fs=FS_MINUTE,\n",
    "    exclude_below=0.5,\n",
    "    sigma=1,\n",
    "    spiketimes_col=\"spiketimes\",\n",
    "    spiketrain_col=\"neuron_id\"\n",
    "    )\n",
    "mfr = mean_firing_rate_by(\n",
    "    spiketimes,\n",
    "    spiketimes_col=\"spiketimes\",\n",
    "    spiketrain_col=\"neuron_id\"\n",
    "    )\n",
    "cv_isi = cv2_isi_by(\n",
    "    spiketimes,\n",
    "    spiketimes_col=\"spiketimes\",\n",
    "    spiketrain_col=\"neuron_id\"\n",
    "    )\n",
    "peaks = waveform_peaks_by_neuron(waveforms, neuron_col=\"neuron_id\", \n",
    "                         index_col=\"waveform_index\", \n",
    "                         value_col=\"waveform_value\").dropna()\n",
    "width = waveform_width_by_neuron(peaks, peak_names=[\"initiation\", \"ahp\"])\n",
    "peak_asym = peak_asymmetry_by_neuron(peaks, peak_names=[\"initiation\", \"ahp\"])"
   ]
  },
  {
   "cell_type": "markdown",
   "metadata": {},
   "source": [
    "### Merge and Select Features For Classification"
   ]
  },
  {
   "cell_type": "code",
   "execution_count": 18,
   "metadata": {},
   "outputs": [
    {
     "data": {
      "text/html": [
       "<div>\n",
       "<style scoped>\n",
       "    .dataframe tbody tr th:only-of-type {\n",
       "        vertical-align: middle;\n",
       "    }\n",
       "\n",
       "    .dataframe tbody tr th {\n",
       "        vertical-align: top;\n",
       "    }\n",
       "\n",
       "    .dataframe thead th {\n",
       "        text-align: right;\n",
       "    }\n",
       "</style>\n",
       "<table border=\"1\" class=\"dataframe\">\n",
       "  <thead>\n",
       "    <tr style=\"text-align: right;\">\n",
       "      <th></th>\n",
       "      <th>neuron_id</th>\n",
       "      <th>mean_firing_rate_ifr</th>\n",
       "      <th>mean_firing_rate</th>\n",
       "      <th>cv2_isi</th>\n",
       "      <th>waveform_width</th>\n",
       "      <th>peak_asymmetry</th>\n",
       "    </tr>\n",
       "  </thead>\n",
       "  <tbody>\n",
       "    <tr>\n",
       "      <th>0</th>\n",
       "      <td>1069</td>\n",
       "      <td>1.596687</td>\n",
       "      <td>0.902333</td>\n",
       "      <td>1.005615</td>\n",
       "      <td>25.0</td>\n",
       "      <td>0.101215</td>\n",
       "    </tr>\n",
       "    <tr>\n",
       "      <th>1</th>\n",
       "      <td>1070</td>\n",
       "      <td>6.099822</td>\n",
       "      <td>3.129088</td>\n",
       "      <td>0.999278</td>\n",
       "      <td>41.0</td>\n",
       "      <td>0.157088</td>\n",
       "    </tr>\n",
       "  </tbody>\n",
       "</table>\n",
       "</div>"
      ],
      "text/plain": [
       "   neuron_id  mean_firing_rate_ifr  mean_firing_rate   cv2_isi  \\\n",
       "0       1069              1.596687          0.902333  1.005615   \n",
       "1       1070              6.099822          3.129088  0.999278   \n",
       "\n",
       "   waveform_width  peak_asymmetry  \n",
       "0            25.0        0.101215  \n",
       "1            41.0        0.157088  "
      ]
     },
     "execution_count": 18,
     "metadata": {},
     "output_type": "execute_result"
    }
   ],
   "source": [
    "df = (\n",
    "    pd.merge(mfr_ifr, mfr)\n",
    "    .merge(cv_isi)\n",
    "    .merge(width)\n",
    "    .merge(peak_asym)\n",
    ")\n",
    "df.head(2)"
   ]
  },
  {
   "cell_type": "markdown",
   "metadata": {},
   "source": [
    "### Apply Exclusion Criteria"
   ]
  },
  {
   "cell_type": "code",
   "execution_count": 19,
   "metadata": {},
   "outputs": [],
   "source": [
    "df2 = (\n",
    "    df[(df[\"mean_firing_rate_ifr\"] > 0.2) & (df[\"cv2_isi\"] < 1.2)]\n",
    "    .copy()\n",
    "    .dropna()\n",
    ")"
   ]
  },
  {
   "cell_type": "markdown",
   "metadata": {},
   "source": [
    "### Apply Classification"
   ]
  },
  {
   "cell_type": "code",
   "execution_count": 24,
   "metadata": {},
   "outputs": [],
   "source": [
    "df_acute2 = df_acute[df_acute[\"cluster\"] != \"no_baseline\"]\n",
    "\n",
    "y_train = df_acute2[\"cluster\"].values\n",
    "X_train = df_acute2[[\"mean_firing_rate\", \"cv2_isi\"]].values\n",
    "\n",
    "X_test = df2[[\"mean_firing_rate\", \"cv2_isi\"]].values\n",
    "\n",
    "le = LabelEncoder()\n",
    "y_train = le.fit_transform(y_train)\n",
    "\n",
    "scaler = StandardScaler()\n",
    "X_train = scaler.fit_transform(X_train)\n",
    "X_test = scaler.transform(X_test)\n",
    "\n",
    "model = SVC(kernel='rbf', C=1E6)\n",
    "model.fit(X_train, y_train)\n",
    "\n",
    "y_hat = model.predict(X_test)\n",
    "df2[\"cluster\"] = le.inverse_transform(y_hat) "
   ]
  },
  {
   "cell_type": "code",
   "execution_count": 25,
   "metadata": {},
   "outputs": [
    {
     "data": {
      "image/png": "[encoded data removed]",
      "text/plain": [
       "<Figure size 432x288 with 1 Axes>"
      ]
     },
     "metadata": {
      "needs_background": "light"
     },
     "output_type": "display_data"
    }
   ],
   "source": [
    "sns.scatterplot(data=df2, x=\"cv2_isi\", y=\"mean_firing_rate\", hue=\"cluster\")\n",
    "plt.show()"
   ]
  },
  {
   "cell_type": "markdown",
   "metadata": {},
   "source": [
    "### Merge Data"
   ]
  },
  {
   "cell_type": "code",
   "execution_count": 26,
   "metadata": {},
   "outputs": [],
   "source": [
    "df_chronic_baseline = (df2\n",
    "    .pipe(lambda x: pd.merge(x, df, how=\"outer\"))\n",
    "    .pipe(lambda x: pd.merge(x, neurons, how=\"outer\", left_on=\"neuron_id\", right_on=\"id\"))\n",
    ")\n",
    "df_chronic_baseline[\"neuron_id\"] = df_chronic_baseline[\"neuron_id\"].fillna(df_chronic_baseline[\"id\"])\n",
    "df_chronic_baseline[\"cluster\"] = df_chronic_baseline[\"cluster\"].fillna(\"no_baseline\")\n",
    "df_chronic_baseline = df_chronic_baseline.drop([\"recording_session_id\", \"cluster_id\", \"id\"], axis=1)\n",
    "\n",
    "df_chronic_baseline.neuron_id = df_chronic_baseline.neuron_id.astype(int)"
   ]
  },
  {
   "cell_type": "markdown",
   "metadata": {},
   "source": [
    "## Merge Acute and Chronic then Save\n"
   ]
  },
  {
   "cell_type": "code",
   "execution_count": 27,
   "metadata": {},
   "outputs": [],
   "source": [
    "data_dir = Path(\".\").absolute().parent / \"data\"\n",
    "data_dir.mkdir(exist_ok=True)\n",
    "\n",
    "\n",
    "df_baseline = pd.concat([df_acute, df_chronic_baseline])\n",
    "df_baseline.to_csv(data_dir / \"baseline.csv\", index=False)"
   ]
  },
  {
   "cell_type": "code",
   "execution_count": null,
   "metadata": {},
   "outputs": [],
   "source": []
  },
  {
   "cell_type": "code",
   "execution_count": null,
   "metadata": {},
   "outputs": [],
   "source": []
  }
 ],
 "metadata": {
  "kernelspec": {
   "display_name": "Python 3",
   "language": "python",
   "name": "python3"
  },
  "language_info": {
   "codemirror_mode": {
    "name": "ipython",
    "version": 3
   },
   "file_extension": ".py",
   "mimetype": "text/x-python",
   "name": "python",
   "nbconvert_exporter": "python",
   "pygments_lexer": "ipython3",
   "version": "3.7.4"
  }
 },
 "nbformat": 4,
 "nbformat_minor": 4
}
