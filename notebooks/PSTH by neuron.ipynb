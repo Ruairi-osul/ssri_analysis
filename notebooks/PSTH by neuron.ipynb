{
 "cells": [
  {
   "cell_type": "code",
   "execution_count": 1,
   "metadata": {},
   "outputs": [],
   "source": [
    "import pandas as pd\n",
    "import numpy as np\n",
    "import matplotlib.pyplot as plt\n",
    "import seaborn as sns\n",
    "from pathlib import Path\n",
    "sns.set_palette(\"Set2\")"
   ]
  },
  {
   "cell_type": "code",
   "execution_count": 2,
   "metadata": {},
   "outputs": [],
   "source": [
    "from dotenv import load_dotenv\n",
    "from ephys_queries import db_setup_core, select_spike_times, select_discrete_data\n",
    "from spiketimes.df.alignment import align_around_by\n",
    "from spiketimes.df.binning import binned_spiketrain_bins_provided\n",
    "from spiketimes.df.baseline import zscore_standardise_by\n",
    "from spiketimes.df.statistics import diffmeans_test_by\n",
    "from spiketimes.utils import p_adjust\n",
    "from spiketimes.plots import add_event_vlines"
   ]
  },
  {
   "cell_type": "code",
   "execution_count": 3,
   "metadata": {},
   "outputs": [],
   "source": [
    "from scipy.ndimage import gaussian_filter1d\n",
    "from scipy.stats import zscore\n",
    "from sklearn.cluster import KMeans\n",
    "from sklearn.mixture import GaussianMixture\n",
    "from sklearn.metrics import silhouette_score"
   ]
  },
  {
   "cell_type": "code",
   "execution_count": 4,
   "metadata": {},
   "outputs": [],
   "source": [
    "data_dir = Path(\".\").absolute().parent / \"data\"\n",
    "fig_dir = Path(\".\").absolute().parent / \"figs\""
   ]
  },
  {
   "cell_type": "code",
   "execution_count": 5,
   "metadata": {},
   "outputs": [],
   "source": [
    "group_names = [\"acute_citalopram\", \n",
    "            \"acute_saline\", \n",
    "            \"shock\", \n",
    "            \"sham\", \n",
    "            \"acute_cit\", \n",
    "            \"acute_sal\"]\n",
    "dfb = (\n",
    "    pd.read_csv(data_dir / \"baseline.csv\")\n",
    "    .loc[lambda x: x[\"group_name\"].isin(group_names)]\n",
    ")"
   ]
  },
  {
   "cell_type": "code",
   "execution_count": 6,
   "metadata": {},
   "outputs": [],
   "source": [
    "block_name = \"base_shock\"\n",
    "fs = 30000\n",
    "load_dotenv()\n",
    "engine, metadata = db_setup_core()\n",
    "\n",
    "df_spikes = (\n",
    "    select_spike_times(\n",
    "            engine, \n",
    "            metadata,\n",
    "            group_names=group_names,\n",
    "            block_name=block_name,\n",
    "            )\n",
    "    .assign(spiketimes=lambda x: x[\"spike_time_samples\"].divide(fs))\n",
    ")\n",
    "df_events = (\n",
    "    select_discrete_data(\n",
    "            engine,\n",
    "            metadata,\n",
    "            group_names=group_names,\n",
    "            block_name=block_name\n",
    "    )\n",
    "    .assign(event_s= lambda x: x[\"timepoint_sample\"].divide(fs))\n",
    ")"
   ]
  },
  {
   "cell_type": "code",
   "execution_count": 7,
   "metadata": {},
   "outputs": [],
   "source": [
    "df_spikes = df_spikes.groupby(\"neuron_id\").filter(lambda x: len(x) >= 1000)"
   ]
  },
  {
   "cell_type": "code",
   "execution_count": 8,
   "metadata": {},
   "outputs": [
    {
     "name": "stderr",
     "output_type": "stream",
     "text": [
      "c:\\users\\rory\\repos\\spiketimes\\spiketimes\\alignment.py:140: RuntimeWarning: invalid value encountered in greater_equal\n",
      "  (negative_latencies >= (t_before * -1)),\n",
      "c:\\users\\rory\\repos\\spiketimes\\spiketimes\\alignment.py:148: RuntimeWarning: invalid value encountered in greater\n",
      "  latencies[latencies > max_latency] = np.nan\n"
     ]
    }
   ],
   "source": [
    "bins = np.round(np.arange(-0.5, 1.51, 0.01), 3)\n",
    "\n",
    "psth = (\n",
    "    align_around_by(\n",
    "        df_data=df_spikes.merge(dfb[[\"neuron_id\", \"session_name\"]]).dropna(),\n",
    "        df_data_data_colname=\"spiketimes\",\n",
    "        df_data_group_colname=\"session_name\",\n",
    "        df_events=df_events,\n",
    "        df_events_event_colname=\"event_s\",\n",
    "        df_events_group_colname=\"session_name\",\n",
    "        max_latency=1.5,\n",
    "        t_before=0.5)\n",
    "    .dropna()\n",
    "    .pipe(lambda x: binned_spiketrain_bins_provided(x, \n",
    "                                bins=bins, \n",
    "                                spiketimes_col=\"aligned\", \n",
    "                                spiketrain_col=\"neuron_id\")\n",
    "         )\n",
    ")"
   ]
  },
  {
   "cell_type": "code",
   "execution_count": 9,
   "metadata": {},
   "outputs": [
    {
     "data": {
      "text/html": [
       "<div>\n",
       "<style scoped>\n",
       "    .dataframe tbody tr th:only-of-type {\n",
       "        vertical-align: middle;\n",
       "    }\n",
       "\n",
       "    .dataframe tbody tr th {\n",
       "        vertical-align: top;\n",
       "    }\n",
       "\n",
       "    .dataframe thead th {\n",
       "        text-align: right;\n",
       "    }\n",
       "</style>\n",
       "<table border=\"1\" class=\"dataframe\">\n",
       "  <thead>\n",
       "    <tr style=\"text-align: right;\">\n",
       "      <th></th>\n",
       "      <th>neuron_id</th>\n",
       "      <th>bin</th>\n",
       "      <th>counts</th>\n",
       "    </tr>\n",
       "  </thead>\n",
       "  <tbody>\n",
       "    <tr>\n",
       "      <th>0</th>\n",
       "      <td>1031</td>\n",
       "      <td>-0.50</td>\n",
       "      <td>23</td>\n",
       "    </tr>\n",
       "    <tr>\n",
       "      <th>1</th>\n",
       "      <td>1031</td>\n",
       "      <td>-0.49</td>\n",
       "      <td>19</td>\n",
       "    </tr>\n",
       "    <tr>\n",
       "      <th>2</th>\n",
       "      <td>1031</td>\n",
       "      <td>-0.48</td>\n",
       "      <td>13</td>\n",
       "    </tr>\n",
       "  </tbody>\n",
       "</table>\n",
       "</div>"
      ],
      "text/plain": [
       "   neuron_id   bin  counts\n",
       "0       1031 -0.50      23\n",
       "1       1031 -0.49      19\n",
       "2       1031 -0.48      13"
      ]
     },
     "execution_count": 9,
     "metadata": {},
     "output_type": "execute_result"
    }
   ],
   "source": [
    "psth.head(3)"
   ]
  },
  {
   "cell_type": "code",
   "execution_count": 10,
   "metadata": {},
   "outputs": [],
   "source": [
    "psth = (\n",
    "    psth\n",
    "    .assign(cond=(\n",
    "        lambda x: x[\"bin\"].apply(lambda y: 0 if (y < 0.01) or (y > 0.3) else 1)\n",
    "            ))\n",
    ")"
   ]
  },
  {
   "cell_type": "code",
   "execution_count": null,
   "metadata": {},
   "outputs": [],
   "source": []
  }
 ],
 "metadata": {
  "kernelspec": {
   "display_name": "Python 3",
   "language": "python",
   "name": "python3"
  },
  "language_info": {
   "codemirror_mode": {
    "name": "ipython",
    "version": 3
   },
   "file_extension": ".py",
   "mimetype": "text/x-python",
   "name": "python",
   "nbconvert_exporter": "python",
   "pygments_lexer": "ipython3",
   "version": "3.8.2"
  }
 },
 "nbformat": 4,
 "nbformat_minor": 4
}
