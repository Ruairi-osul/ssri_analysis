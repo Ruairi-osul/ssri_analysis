{
 "cells": [
  {
   "cell_type": "code",
   "execution_count": 1,
   "metadata": {},
   "outputs": [],
   "source": [
    "from ephys_queries import (\n",
    "    select_neurons\n",
    ")\n",
    "from ephys_queries import db_setup_core\n",
    "from dotenv import load_dotenv"
   ]
  },
  {
   "cell_type": "code",
   "execution_count": 2,
   "metadata": {},
   "outputs": [],
   "source": [
    "import pandas as pd\n",
    "import numpy as np\n",
    "from pathlib import Path"
   ]
  },
  {
   "cell_type": "code",
   "execution_count": 29,
   "metadata": {},
   "outputs": [],
   "source": [
    "import math\n",
    "\n",
    "def calculate_distance(ch1, ch2):\n",
    "    \"\"\"\n",
    "    Calculate distances between two channels on a cambridge neurotech 32 channel P series probe.\n",
    "    \n",
    "    Electrode spec:\n",
    "        2 shanks 250um appart\n",
    "        Each shank has 16 channels in two columns of 8, spaced 22.5um appart\n",
    "        Contacts are placed 25um above eachother\n",
    "    \"\"\" \n",
    "    # Shank\n",
    "    shank_1 = 1 if ch1 <= 15 else 2\n",
    "    shank_2 = 1 if ch2 <= 15 else 2\n",
    "    width = 250 if shank_1 != shank_2 else 0\n",
    "    \n",
    "    # Column\n",
    "    col_1 = 1 if ch1 % 2 == 0 else 2\n",
    "    col_2 = 1 if ch2 % 2 == 0 else 2\n",
    "    width = 22.5 if (col_1 != col_2) and (width == 0) else width\n",
    "    \n",
    "    #\n",
    "    ch1t = ch1 - 16 if ch1 > 15 else ch1\n",
    "    ch2t = ch2 - 16 if ch2 > 15 else ch2\n",
    "    height = abs(ch1t - ch2t) * 25\n",
    "    \n",
    "    return math.hypot(height, width) if width else height"
   ]
  },
  {
   "cell_type": "code",
   "execution_count": 55,
   "metadata": {},
   "outputs": [],
   "source": [
    "data_dir = Path(\".\").absolute().parent / \"data\"\n",
    "dfb = pd.read_csv(data_dir / \"baseline.csv\")"
   ]
  },
  {
   "cell_type": "code",
   "execution_count": 47,
   "metadata": {},
   "outputs": [],
   "source": [
    "df_sc =  pd.read_csv(data_dir / \"rsctest_LC_sizes.csv\")"
   ]
  },
  {
   "cell_type": "code",
   "execution_count": 67,
   "metadata": {},
   "outputs": [],
   "source": [
    "df_done = (\n",
    "    df_sc\n",
    "    .loc[lambda x: x.binsize==0.2]\n",
    "    .loc[:, [\"spiketrain_1\", \"spiketrain_2\"]]\n",
    "    .merge(dfb[[\"neuron_id\", \"channel\"]], left_on=\"spiketrain_1\", right_on=\"neuron_id\")\n",
    "    .drop(\"neuron_id\", axis=1)\n",
    "    .rename(columns={\"channel\": \"st1_chan\"})\n",
    "    .merge(dfb[[\"neuron_id\", \"channel\"]], left_on=\"spiketrain_2\", right_on=\"neuron_id\")\n",
    "    .drop(\"neuron_id\", axis=1)\n",
    "    .rename(columns={\"channel\": \"st2_chan\"})\n",
    "    .assign(distance= lambda y: y.apply(lambda x: calculate_distance(x.st1_chan, x.st2_chan), axis=1))\n",
    ")"
   ]
  },
  {
   "cell_type": "code",
   "execution_count": 70,
   "metadata": {},
   "outputs": [
    {
     "data": {
      "text/html": [
       "<div>\n",
       "<style scoped>\n",
       "    .dataframe tbody tr th:only-of-type {\n",
       "        vertical-align: middle;\n",
       "    }\n",
       "\n",
       "    .dataframe tbody tr th {\n",
       "        vertical-align: top;\n",
       "    }\n",
       "\n",
       "    .dataframe thead th {\n",
       "        text-align: right;\n",
       "    }\n",
       "</style>\n",
       "<table border=\"1\" class=\"dataframe\">\n",
       "  <thead>\n",
       "    <tr style=\"text-align: right;\">\n",
       "      <th></th>\n",
       "      <th>spiketrain_1</th>\n",
       "      <th>spiketrain_2</th>\n",
       "      <th>st1_chan</th>\n",
       "      <th>st2_chan</th>\n",
       "      <th>distance</th>\n",
       "    </tr>\n",
       "  </thead>\n",
       "  <tbody>\n",
       "    <tr>\n",
       "      <th>0</th>\n",
       "      <td>1</td>\n",
       "      <td>4</td>\n",
       "      <td>6</td>\n",
       "      <td>17</td>\n",
       "      <td>279.508497</td>\n",
       "    </tr>\n",
       "    <tr>\n",
       "      <th>1</th>\n",
       "      <td>1</td>\n",
       "      <td>5</td>\n",
       "      <td>6</td>\n",
       "      <td>20</td>\n",
       "      <td>254.950976</td>\n",
       "    </tr>\n",
       "    <tr>\n",
       "      <th>2</th>\n",
       "      <td>4</td>\n",
       "      <td>5</td>\n",
       "      <td>17</td>\n",
       "      <td>20</td>\n",
       "      <td>78.302299</td>\n",
       "    </tr>\n",
       "  </tbody>\n",
       "</table>\n",
       "</div>"
      ],
      "text/plain": [
       "   spiketrain_1  spiketrain_2  st1_chan  st2_chan    distance\n",
       "0             1             4         6        17  279.508497\n",
       "1             1             5         6        20  254.950976\n",
       "2             4             5        17        20   78.302299"
      ]
     },
     "execution_count": 70,
     "metadata": {},
     "output_type": "execute_result"
    }
   ],
   "source": [
    "df_done.head(3)"
   ]
  },
  {
   "cell_type": "code",
   "execution_count": 71,
   "metadata": {},
   "outputs": [],
   "source": [
    "df_done.to_csv(data_dir / \"distance.csv\", index=False)"
   ]
  },
  {
   "cell_type": "code",
   "execution_count": null,
   "metadata": {},
   "outputs": [],
   "source": []
  }
 ],
 "metadata": {
  "kernelspec": {
   "display_name": "Python 3",
   "language": "python",
   "name": "python3"
  },
  "language_info": {
   "codemirror_mode": {
    "name": "ipython",
    "version": 3
   },
   "file_extension": ".py",
   "mimetype": "text/x-python",
   "name": "python",
   "nbconvert_exporter": "python",
   "pygments_lexer": "ipython3",
   "version": "3.8.2"
  }
 },
 "nbformat": 4,
 "nbformat_minor": 4
}
