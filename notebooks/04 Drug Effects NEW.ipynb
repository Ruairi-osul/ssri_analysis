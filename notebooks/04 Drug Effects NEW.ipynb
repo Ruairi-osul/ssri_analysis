{
 "cells": [
  {
   "cell_type": "code",
   "execution_count": 1,
   "metadata": {},
   "outputs": [],
   "source": [
    "from ephys_queries import select_spike_times\n",
    "from ephys_queries import db_setup_core\n",
    "from dotenv import load_dotenv\n",
    "from pathlib import Path"
   ]
  },
  {
   "cell_type": "code",
   "execution_count": 2,
   "metadata": {},
   "outputs": [],
   "source": [
    "from spiketimes.df.binning import binned_spiketrain_bins_provided\n",
    "from spiketimes.df.statistics import auc_roc_test_by\n",
    "from spiketimes.df.statistics import diffmeans_test_by\n",
    "from spiketimes.df.baseline import zscore_standardise_by\n",
    "from spiketimes.utils import p_adjust"
   ]
  },
  {
   "cell_type": "code",
   "execution_count": 3,
   "metadata": {},
   "outputs": [],
   "source": [
    "import numpy as np\n",
    "import pandas as pd\n",
    "from sklearn.metrics import auc"
   ]
  },
  {
   "cell_type": "code",
   "execution_count": 4,
   "metadata": {},
   "outputs": [],
   "source": [
    "data_dir = Path(\".\").absolute().parent / \"data\"\n",
    "fig_dir = Path(\".\").absolute().parent / \"figs\""
   ]
  },
  {
   "cell_type": "code",
   "execution_count": 5,
   "metadata": {},
   "outputs": [],
   "source": [
    "group_names = [\"acute_citalopram\", \n",
    "            \"acute_saline\", \n",
    "            \"acute_cit\", \n",
    "            \"acute_sal\"]\n",
    "dfb = (\n",
    "    pd.read_csv(data_dir / \"baseline.csv\")\n",
    "    .loc[lambda x: x[\"group_name\"].isin(group_names)]\n",
    ")"
   ]
  },
  {
   "cell_type": "code",
   "execution_count": 6,
   "metadata": {},
   "outputs": [],
   "source": [
    "block_name = \"chal\"\n",
    "t_before = 10 * 60\n",
    "fs = 30000\n",
    "load_dotenv()\n",
    "engine, metadata = db_setup_core()\n",
    "\n",
    "df_spikes = (\n",
    "    select_spike_times(\n",
    "            engine, \n",
    "            metadata,\n",
    "            group_names=group_names,\n",
    "            block_name=block_name,\n",
    "        t_before=t_before,\n",
    "        align_to_block=True\n",
    "            )\n",
    "    .assign(spiketimes=lambda x: x[\"spike_time_samples\"].divide(fs))\n",
    ")"
   ]
  },
  {
   "cell_type": "code",
   "execution_count": 7,
   "metadata": {},
   "outputs": [
    {
     "data": {
      "text/html": [
       "<div>\n",
       "<style scoped>\n",
       "    .dataframe tbody tr th:only-of-type {\n",
       "        vertical-align: middle;\n",
       "    }\n",
       "\n",
       "    .dataframe tbody tr th {\n",
       "        vertical-align: top;\n",
       "    }\n",
       "\n",
       "    .dataframe thead th {\n",
       "        text-align: right;\n",
       "    }\n",
       "</style>\n",
       "<table border=\"1\" class=\"dataframe\">\n",
       "  <thead>\n",
       "    <tr style=\"text-align: right;\">\n",
       "      <th></th>\n",
       "      <th>neuron_id</th>\n",
       "      <th>spike_time_samples</th>\n",
       "      <th>group_name</th>\n",
       "      <th>spiketimes</th>\n",
       "    </tr>\n",
       "  </thead>\n",
       "  <tbody>\n",
       "    <tr>\n",
       "      <th>0</th>\n",
       "      <td>1011</td>\n",
       "      <td>-17996636</td>\n",
       "      <td>acute_cit</td>\n",
       "      <td>-599.887867</td>\n",
       "    </tr>\n",
       "    <tr>\n",
       "      <th>1</th>\n",
       "      <td>1011</td>\n",
       "      <td>-17992217</td>\n",
       "      <td>acute_cit</td>\n",
       "      <td>-599.740567</td>\n",
       "    </tr>\n",
       "    <tr>\n",
       "      <th>2</th>\n",
       "      <td>1011</td>\n",
       "      <td>-17987075</td>\n",
       "      <td>acute_cit</td>\n",
       "      <td>-599.569167</td>\n",
       "    </tr>\n",
       "  </tbody>\n",
       "</table>\n",
       "</div>"
      ],
      "text/plain": [
       "   neuron_id  spike_time_samples group_name  spiketimes\n",
       "0       1011           -17996636  acute_cit -599.887867\n",
       "1       1011           -17992217  acute_cit -599.740567\n",
       "2       1011           -17987075  acute_cit -599.569167"
      ]
     },
     "execution_count": 7,
     "metadata": {},
     "output_type": "execute_result"
    }
   ],
   "source": [
    "df_spikes.head(3)"
   ]
  },
  {
   "cell_type": "markdown",
   "metadata": {},
   "source": [
    "### Define Responders"
   ]
  },
  {
   "cell_type": "code",
   "execution_count": 8,
   "metadata": {},
   "outputs": [],
   "source": [
    "def response_dm(row):\n",
    "    if row[\"p_dm\"] >= 0.05:\n",
    "        return \"Non Responder\"\n",
    "    elif row[\"diff_of_means\"] < 0:\n",
    "        return \"Inhibited\"\n",
    "    else:\n",
    "        return \"Stimulated\"\n",
    "    \n",
    "    \n",
    "def response_auc(row):\n",
    "    if row[\"p_dm\"] >= 0.05:\n",
    "        return \"Non Responder\"\n",
    "    elif row[\"AUCROC\"] < 0.5:\n",
    "        return \"Inhibited\"\n",
    "    else:\n",
    "        return \"Stimulated\""
   ]
  },
  {
   "cell_type": "code",
   "execution_count": 9,
   "metadata": {},
   "outputs": [],
   "source": [
    "bins = np.arange(-600, 1260, 120)\n",
    "\n",
    "df = (\n",
    "    binned_spiketrain_bins_provided(\n",
    "        df_spikes, \n",
    "        bins, \n",
    "        spiketimes_col=\"spiketimes\",\n",
    "                               \n",
    "        spiketrain_col=\"neuron_id\"\n",
    "    )\n",
    "    .rename(columns={\"counts\": \"spike_counts\", \"bin\": \"time\"})\n",
    "    .merge(dfb[[\"neuron_id\", \"cluster\", \"group_name\"]])\n",
    "    .assign(treatment=lambda x: x[\"group_name\"].map({\n",
    "                        \"acute_cit\": \"Citalopram\",\n",
    "                        \"acute_citalopram\": \"Citalopram\",\n",
    "                        \"acute_saline\": \"Saline\",\n",
    "                        \"acute_sal\": \"Saline\"}),\n",
    "           condition=lambda x: x[\"time\"].apply(lambda y: \"Baseline\" if y < 0 else \"Challenge\"),\n",
    "           firing_rate=lambda x: x[\"spike_counts\"].divide(60),\n",
    "           cond=lambda x: x[\"condition\"].map({\"Baseline\":0, \"Challenge\":1})\n",
    "        )\n",
    "    .drop(\"group_name\", axis=1)\n",
    ")\n",
    "\n",
    "res_auc = auc_roc_test_by(df, n_boot=1000, \n",
    "                      spiketrain_col=\"neuron_id\", \n",
    "                      spikecount_col=\"firing_rate\",\n",
    "                     condition_col=\"cond\")\n",
    "res_dm = diffmeans_test_by(df, n_boot=5000, \n",
    "                      spiketrain_col=\"neuron_id\", \n",
    "                      spikecount_col=\"firing_rate\",\n",
    "                     condition_col=\"cond\")"
   ]
  },
  {
   "cell_type": "code",
   "execution_count": 10,
   "metadata": {},
   "outputs": [],
   "source": [
    "res_auc = auc_roc_test_by(df, n_boot=1000, \n",
    "                      spiketrain_col=\"neuron_id\", \n",
    "                      spikecount_col=\"firing_rate\",\n",
    "                     condition_col=\"cond\")"
   ]
  },
  {
   "cell_type": "code",
   "execution_count": 11,
   "metadata": {},
   "outputs": [],
   "source": [
    "res_dm = diffmeans_test_by(df, n_boot=5000, \n",
    "                      spiketrain_col=\"neuron_id\", \n",
    "                      spikecount_col=\"firing_rate\",\n",
    "                     condition_col=\"cond\")"
   ]
  },
  {
   "cell_type": "code",
   "execution_count": 12,
   "metadata": {},
   "outputs": [],
   "source": [
    "res_auc[\"p_AUCROC\"] = p_adjust(res_auc[\"p\"])\n",
    "res_dm[\"p_dm\"] = p_adjust(res_dm[\"p\"])\n",
    "df_effects = (\n",
    "    res_auc.merge(df[[\"neuron_id\", \"cluster\", \"treatment\"]]\n",
    "              .drop_duplicates())\n",
    "    .drop(\"p\", axis=1)\n",
    "    .merge(res_dm)\n",
    "    .drop(\"p\", axis=1)\n",
    "    .assign(\n",
    "        response_dm=lambda x: x.apply(response_dm, axis=1),\n",
    "        response_aucroc=lambda x: x.apply(response_auc, axis=1))\n",
    ")"
   ]
  },
  {
   "cell_type": "markdown",
   "metadata": {},
   "source": [
    "### Get Z Score Time Series"
   ]
  },
  {
   "cell_type": "code",
   "execution_count": 13,
   "metadata": {},
   "outputs": [],
   "source": [
    "bins = np.arange(-600, 1200, 10)\n",
    "df_zscores = (\n",
    "    binned_spiketrain_bins_provided(df_spikes, bins=bins, spiketimes_col=\"spiketimes\", spiketrain_col=\"neuron_id\")\n",
    "    .merge(df_effects[[\"response_dm\", \"cluster\", \"treatment\", \"neuron_id\"]])\n",
    "    .pipe(lambda x: zscore_standardise_by(df=x, baseline_start_stop=np.array([-600, 0]),\n",
    "                     spiketrain_col=\"neuron_id\", data_col=\"counts\", time_col=\"bin\"))\n",
    ")"
   ]
  },
  {
   "cell_type": "code",
   "execution_count": 14,
   "metadata": {},
   "outputs": [],
   "source": [
    "df_effects = (\n",
    "    df_zscores.groupby(\"neuron_id\")\n",
    "    .apply(lambda x: auc(np.arange(len(x)), x[\"zscore\"]))\n",
    "    .reset_index()\n",
    "    .rename(columns={0:\"auc\"})\n",
    "    .merge(df_effects[[\"neuron_id\", \"cluster\", \"treatment\", \"response_dm\", \"response_aucroc\"]])\n",
    ")"
   ]
  },
  {
   "cell_type": "code",
   "execution_count": 15,
   "metadata": {},
   "outputs": [],
   "source": [
    "df_effects.to_csv(data_dir / \"cit_effects.csv\", index=False)\n",
    "df_zscores.to_csv(data_dir / \"cit_zscores.csv\", index=False)"
   ]
  },
  {
   "cell_type": "code",
   "execution_count": null,
   "metadata": {},
   "outputs": [],
   "source": []
  }
 ],
 "metadata": {
  "kernelspec": {
   "display_name": "Python 3",
   "language": "python",
   "name": "python3"
  },
  "language_info": {
   "codemirror_mode": {
    "name": "ipython",
    "version": 3
   },
   "file_extension": ".py",
   "mimetype": "text/x-python",
   "name": "python",
   "nbconvert_exporter": "python",
   "pygments_lexer": "ipython3",
   "version": "3.8.2"
  }
 },
 "nbformat": 4,
 "nbformat_minor": 4
}
