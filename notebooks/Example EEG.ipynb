{
 "cells": [
  {
   "cell_type": "code",
   "execution_count": 1,
   "metadata": {},
   "outputs": [],
   "source": [
    "from ephys_queries import select_analog_signal_data, select_spike_times, select_stft\n",
    "from ephys_queries import db_setup_core\n",
    "from dotenv import load_dotenv\n",
    "from pathlib import Path"
   ]
  },
  {
   "cell_type": "code",
   "execution_count": 2,
   "metadata": {},
   "outputs": [],
   "source": [
    "from spiketimes.df.statistics import ifr_by\n",
    "from spiketimes.df.binning import which_bin\n",
    "from spiketimes.utils import p_adjust"
   ]
  },
  {
   "cell_type": "code",
   "execution_count": 3,
   "metadata": {},
   "outputs": [],
   "source": [
    "import numpy as np\n",
    "import pandas as pd\n",
    "import seaborn as sns\n",
    "from scipy.ndimage import gaussian_filter1d, gaussian_filter\n",
    "import matplotlib.pyplot as plt\n",
    "from scipy.stats import pearsonr\n",
    "from itertools import combinations\n",
    "from scipy.stats import zscore"
   ]
  },
  {
   "cell_type": "code",
   "execution_count": 4,
   "metadata": {},
   "outputs": [],
   "source": [
    "from scipy.signal import butter, filtfilt\n",
    "from scipy.fftpack import fft, fftfreq\n",
    "from scipy import signal"
   ]
  },
  {
   "cell_type": "code",
   "execution_count": 250,
   "metadata": {},
   "outputs": [],
   "source": [
    "def db_normalise(x, ref):\n",
    "    return 10 * np.log10(x / ref)\n",
    "\n",
    "\n",
    "def frequency_heatmap(df, \n",
    "                      frequency_col=\"frequency\", \n",
    "                      data_col=\"fft_value\", \n",
    "                      time_col=\"timepoint_s\",\n",
    "                      vmin=None, vmax=None,\n",
    "                      sigma=1,\n",
    "                      figsize=(10, 5),\n",
    "                      zscore_norm=False,\n",
    "                      db_norm=True,\n",
    "                      ax=None, \n",
    "                      imshow_kwargs=None\n",
    "                     ):\n",
    "    if imshow_kwargs is None:\n",
    "        imshow_kwargs={}\n",
    "    imshow_kwargs[\"cmap\"] = \"coolwarm\" if \"cmap\" not in imshow_kwargs else imshow_kwargs[\"cmap\"]\n",
    "    imshow_kwargs[\"aspect\"] = \"auto\" if \"aspect\" not in imshow_kwargs else imshow_kwargs[\"aspect\"]\n",
    "    if ax is None:\n",
    "        f, ax = plt.subplots(figsize=figsize)\n",
    "    dfp = (\n",
    "        df\n",
    "        .pivot(\n",
    "            index=time_col,\n",
    "            columns=frequency_col,\n",
    "            values=data_col,\n",
    "        )\n",
    "    )\n",
    "    dfp = pd.DataFrame(gaussian_filter(dfp.values, sigma))\n",
    "    if db_norm:\n",
    "        dfp = dfp.apply(lambda x: db_normalise(x, x.iloc[:len(x)//4].mean()))\n",
    "    if zscore_norm:\n",
    "        dfp = dfp.apply(zscore)\n",
    "    dfp = dfp.transpose()\n",
    "\n",
    "    im = ax.imshow(dfp.iloc[::-1], vmin=vmin, vmax=vmax, **imshow_kwargs)\n",
    "\n",
    "    # xticks\n",
    "    n = dfp.shape[1]\n",
    "    first_point = df[time_col].min() \n",
    "    time_interval = df.iloc[:5, :][time_col].diff().values[1]\n",
    "        \n",
    "    xticks = np.arange(0, n, (60 / time_interval) * 10)    \n",
    "    ax.set_xticks(xticks)\n",
    "    ax.set_xticklabels( first_point + xticks // (60 / time_interval))\n",
    "    \n",
    "\n",
    "    # yticks\n",
    "#     max_f = df[frequency_col].max()\n",
    "#     min_f = df[frequency_col].min()\n",
    "#     f = df[frequency_col].unique()[:5]\n",
    "#     f.sort()\n",
    "#     f_interval = np.diff(f)[1]\n",
    "\n",
    "#     ytick_labels = np.round(np.linspace(min_f, max_f, 5))\n",
    "#     yticks = np.arange(0, dfp.shape[0])\n",
    "#     yticks = yticks[np.isin(yticks, min_f +(ytick_labels / f_interval))]\n",
    "#     ax.set_yticks(yticks)\n",
    "#     ax.set_yticklabels(ytick_labels[::-1])\n",
    "\n",
    "    plt.colorbar(im)\n",
    "    return ax\n",
    "\n",
    "def fourier(sig, fs, n=None):\n",
    "    if n is None:\n",
    "        n = len(sig)\n",
    "    sigX = fft(sig, n)\n",
    "    sigX = sigX / n\n",
    "    f = fftfreq(n, 1/fs)\n",
    "    return sigX[f >= 0], f[f >= 0]\n",
    "\n",
    "def butter(f, btype, fs, order=7):\n",
    "    if hasattr(f, '__iter__') and not isinstance(f, np.ndarray):\n",
    "        f = np.array(f)\n",
    "    nyq = np.round(fs / 2)\n",
    "    f = f / nyq\n",
    "    b, a = signal.butter(order, f, btype=btype)\n",
    "    return b, a\n",
    "\n",
    "def iir_impulse_response(b, a, fs):\n",
    "    impulse = np.concatenate([np.zeros((1, 50000)).flatten(), np.array([1]), np.zeros((1, 50000)).flatten()])\n",
    "    filtered = signal.filtfilt(b, a, impulse)\n",
    "    fX, ff = fourier(filtered, fs)\n",
    "    return filtered, fX, ff"
   ]
  },
  {
   "cell_type": "markdown",
   "metadata": {},
   "source": [
    "# Load and Export"
   ]
  },
  {
   "cell_type": "code",
   "execution_count": 6,
   "metadata": {},
   "outputs": [],
   "source": [
    "data_dir = Path(\".\").absolute().parent / \"data\"\n",
    "fig_dir = Path(\".\").absolute().parent / \"figs\""
   ]
  },
  {
   "cell_type": "code",
   "execution_count": 10,
   "metadata": {},
   "outputs": [],
   "source": [
    "dfb = pd.read_csv(data_dir / \"baseline.csv\")"
   ]
  },
  {
   "cell_type": "code",
   "execution_count": 11,
   "metadata": {},
   "outputs": [],
   "source": [
    "group_names = [\"acute_citalopram\", \n",
    "            \"acute_saline\", \n",
    "            \"acute_cit\", \n",
    "            \"acute_sal\",\n",
    "              \"shock\",\n",
    "              \"sham\"]\n",
    "signal_names = [\"eeg_occ\", \"eeg_fr\", \"eeg_fl\"]\n",
    "\n",
    "block_name = \"pre\"\n",
    "load_dotenv()\n",
    "engine, metadata = db_setup_core()"
   ]
  },
  {
   "cell_type": "code",
   "execution_count": 12,
   "metadata": {},
   "outputs": [],
   "source": [
    "# df_fft = select_stft(engine, metadata, \n",
    "#                                signal_names=signal_names,\n",
    "#                               block_name=block_name, \n",
    "#                               group_names=group_names\n",
    "#                                    )\n",
    "# df_fft.to_parquet(data_dir / \"eeg_stft.parquet.gzip\", compression=\"gzip\", index=False)"
   ]
  },
  {
   "cell_type": "code",
   "execution_count": 9,
   "metadata": {},
   "outputs": [],
   "source": [
    "# df_eeg_analog = select_analog_signal_data(engine, metadata, \n",
    "#                                signal_names=signal_names,\n",
    "#                               block_name=block_name, \n",
    "#                               group_names=group_names\n",
    "#                                    )\n",
    "# df_eeg_analog.to_parquet(data_dir / \"df_eeg_analog.parquet.gzip\", compression=\"gzip\", index=False)"
   ]
  },
  {
   "cell_type": "code",
   "execution_count": 111,
   "metadata": {},
   "outputs": [],
   "source": [
    "df_eeg_analog = pd.read_parquet(data_dir / \"df_eeg_analog.parquet.gzip\")"
   ]
  },
  {
   "cell_type": "code",
   "execution_count": 112,
   "metadata": {},
   "outputs": [],
   "source": [
    "df_fft = pd.read_parquet(data_dir / \"eeg_stft.parquet.gzip\")"
   ]
  },
  {
   "cell_type": "code",
   "execution_count": 238,
   "metadata": {},
   "outputs": [],
   "source": [
    "session = df_eeg_analog.session_name.unique()[-6]"
   ]
  },
  {
   "cell_type": "code",
   "execution_count": 239,
   "metadata": {},
   "outputs": [],
   "source": [
    "session_names = [session]\n",
    "\n",
    "df = (\n",
    "    df_eeg_analog\n",
    "    .loc[lambda x: x.session_name.isin(session_names)]\n",
    "    .pivot_table(index=[\"timepoint_s\", \"session_name\"], columns=\"signal_name\", values=\"voltage\")\n",
    "    .reset_index()\n",
    "    .rename_axis(None, axis=1)\n",
    "    .assign(\n",
    "        ref = lambda x: np.nanmean(x.loc[:, [\"eeg_fr\", \"eeg_fl\", \"eeg_occ\"]], axis=1),\n",
    "        eeg_fl_car= lambda x: x.eeg_fl - x.ref,\n",
    "        eeg_fr_car= lambda x: x.eeg_fl - x.ref,\n",
    "        eeg_occ_car= lambda x: x.eeg_fl - x.ref,\n",
    "           )\n",
    ")"
   ]
  },
  {
   "cell_type": "code",
   "execution_count": 252,
   "metadata": {},
   "outputs": [],
   "source": [
    "df1 = (\n",
    "    df_fft\n",
    "    .loc[lambda x: x.session_name == session]\n",
    "    .loc[lambda x: (x.frequency >= 0.5) & (x.frequency < 15)]\n",
    ")"
   ]
  },
  {
   "cell_type": "code",
   "execution_count": 241,
   "metadata": {},
   "outputs": [
    {
     "data": {
      "text/plain": [
       "'hamilton_10'"
      ]
     },
     "execution_count": 241,
     "metadata": {},
     "output_type": "execute_result"
    }
   ],
   "source": [
    "session"
   ]
  },
  {
   "cell_type": "markdown",
   "metadata": {},
   "source": [
    "# Plot Raw EEG Data"
   ]
  },
  {
   "cell_type": "markdown",
   "metadata": {},
   "source": [
    "## Delta"
   ]
  },
  {
   "cell_type": "code",
   "execution_count": 362,
   "metadata": {},
   "outputs": [
    {
     "data": {
      "image/png": "[encoded data removed]",
      "text/plain": [
       "<Figure size 432x288 with 1 Axes>"
      ]
     },
     "metadata": {
      "needs_background": "light"
     },
     "output_type": "display_data"
    }
   ],
   "source": [
    "num_secs = 10\n",
    "t_start = 9 * 67\n",
    "t_stop = t_start + num_secs\n",
    "\n",
    "\n",
    "y2 = (\n",
    "    df\n",
    "    .loc[lambda x: (x.timepoint_s >= t_start) & (x.timepoint_s < t_stop)]\n",
    "#     .iloc[::4]\n",
    "    .eeg_occ\n",
    "    .values\n",
    ")\n",
    "\n",
    "yp = median_filter(y2, size=4)\n",
    "x = np.linspace(0, num_secs, len(y2))\n",
    "\n",
    "f, ax = plt.subplots()\n",
    "\n",
    "\n",
    "ax.plot(x, yp, color=\"black\")\n",
    "sns.despine()\n",
    "ax.set_ylim([-400, 400])\n",
    "ax.set_yticks([-400, -200, 0, 200, 400])\n",
    "ax.set_yticklabels(ax.get_yticks(), fontsize=15)\n",
    "\n",
    "plt.savefig(fig_dir / \"nonactivated_eeg.svg\")"
   ]
  },
  {
   "cell_type": "markdown",
   "metadata": {},
   "source": [
    "## Theta"
   ]
  },
  {
   "cell_type": "code",
   "execution_count": 364,
   "metadata": {},
   "outputs": [
    {
     "data": {
      "image/png": "[encoded data removed]",
      "text/plain": [
       "<Figure size 432x288 with 1 Axes>"
      ]
     },
     "metadata": {
      "needs_background": "light"
     },
     "output_type": "display_data"
    }
   ],
   "source": [
    "from scipy.ndimage import median_filter\n",
    "\n",
    "num_secs = 10\n",
    "t_start = 25 * 61\n",
    "t_stop = t_start + num_secs\n",
    "\n",
    "\n",
    "y2 = (\n",
    "    df\n",
    "    .loc[lambda x: (x.timepoint_s >= t_start) & (x.timepoint_s < t_stop)]\n",
    "    .iloc[::]\n",
    "    .eeg_occ_car\n",
    "    .values\n",
    ")\n",
    "\n",
    "yp = median_filter(y2, size=3)\n",
    "\n",
    "x = np.linspace(0, num_secs, len(y2))\n",
    "\n",
    "f, ax = plt.subplots()\n",
    "\n",
    "ax.plot(x, yp, color=\"black\")\n",
    "# ax.set_xticks([0, 5])\n",
    "# ax.set_xticklabels( ax.get_xticks(), fontsize=15)\n",
    "ax.set_ylim([-400, 400])\n",
    "ax.set_yticks([-400, -200, 0, 200, 400])\n",
    "ax.set_yticklabels(ax.get_yticks(), fontsize=15)\n",
    "\n",
    "sns.despine()\n",
    "plt.savefig(fig_dir / \"activate_eeg.svg\")"
   ]
  },
  {
   "cell_type": "markdown",
   "metadata": {},
   "source": [
    "# Plot Frequncy Domain Data"
   ]
  },
  {
   "cell_type": "code",
   "execution_count": 366,
   "metadata": {},
   "outputs": [
    {
     "data": {
      "text/html": [
       "<div>\n",
       "<style scoped>\n",
       "    .dataframe tbody tr th:only-of-type {\n",
       "        vertical-align: middle;\n",
       "    }\n",
       "\n",
       "    .dataframe tbody tr th {\n",
       "        vertical-align: top;\n",
       "    }\n",
       "\n",
       "    .dataframe thead th {\n",
       "        text-align: right;\n",
       "    }\n",
       "</style>\n",
       "<table border=\"1\" class=\"dataframe\">\n",
       "  <thead>\n",
       "    <tr style=\"text-align: right;\">\n",
       "      <th></th>\n",
       "      <th>timepoint_s</th>\n",
       "      <th>session_name</th>\n",
       "      <th>eeg_fl</th>\n",
       "      <th>eeg_fr</th>\n",
       "      <th>eeg_occ</th>\n",
       "      <th>ref</th>\n",
       "      <th>eeg_fl_car</th>\n",
       "      <th>eeg_fr_car</th>\n",
       "      <th>eeg_occ_car</th>\n",
       "    </tr>\n",
       "  </thead>\n",
       "  <tbody>\n",
       "    <tr>\n",
       "      <th>0</th>\n",
       "      <td>0.004</td>\n",
       "      <td>hamilton_10</td>\n",
       "      <td>22.085763</td>\n",
       "      <td>176.790808</td>\n",
       "      <td>76.566354</td>\n",
       "      <td>91.814308</td>\n",
       "      <td>-69.728545</td>\n",
       "      <td>-69.728545</td>\n",
       "      <td>-69.728545</td>\n",
       "    </tr>\n",
       "    <tr>\n",
       "      <th>1</th>\n",
       "      <td>0.008</td>\n",
       "      <td>hamilton_10</td>\n",
       "      <td>52.738738</td>\n",
       "      <td>373.427408</td>\n",
       "      <td>188.506103</td>\n",
       "      <td>204.890750</td>\n",
       "      <td>-152.152011</td>\n",
       "      <td>-152.152011</td>\n",
       "      <td>-152.152011</td>\n",
       "    </tr>\n",
       "    <tr>\n",
       "      <th>2</th>\n",
       "      <td>0.012</td>\n",
       "      <td>hamilton_10</td>\n",
       "      <td>109.471712</td>\n",
       "      <td>390.007112</td>\n",
       "      <td>226.876267</td>\n",
       "      <td>242.118364</td>\n",
       "      <td>-132.646652</td>\n",
       "      <td>-132.646652</td>\n",
       "      <td>-132.646652</td>\n",
       "    </tr>\n",
       "    <tr>\n",
       "      <th>3</th>\n",
       "      <td>0.016</td>\n",
       "      <td>hamilton_10</td>\n",
       "      <td>91.307321</td>\n",
       "      <td>405.458417</td>\n",
       "      <td>205.055487</td>\n",
       "      <td>233.940408</td>\n",
       "      <td>-142.633087</td>\n",
       "      <td>-142.633087</td>\n",
       "      <td>-142.633087</td>\n",
       "    </tr>\n",
       "    <tr>\n",
       "      <th>4</th>\n",
       "      <td>0.020</td>\n",
       "      <td>hamilton_10</td>\n",
       "      <td>99.025342</td>\n",
       "      <td>395.086781</td>\n",
       "      <td>188.916959</td>\n",
       "      <td>227.676361</td>\n",
       "      <td>-128.651018</td>\n",
       "      <td>-128.651018</td>\n",
       "      <td>-128.651018</td>\n",
       "    </tr>\n",
       "    <tr>\n",
       "      <th>...</th>\n",
       "      <td>...</td>\n",
       "      <td>...</td>\n",
       "      <td>...</td>\n",
       "      <td>...</td>\n",
       "      <td>...</td>\n",
       "      <td>...</td>\n",
       "      <td>...</td>\n",
       "      <td>...</td>\n",
       "      <td>...</td>\n",
       "    </tr>\n",
       "    <tr>\n",
       "      <th>450136</th>\n",
       "      <td>1800.548</td>\n",
       "      <td>hamilton_10</td>\n",
       "      <td>-28.485285</td>\n",
       "      <td>0.805060</td>\n",
       "      <td>-15.496281</td>\n",
       "      <td>-14.392169</td>\n",
       "      <td>-14.093117</td>\n",
       "      <td>-14.093117</td>\n",
       "      <td>-14.093117</td>\n",
       "    </tr>\n",
       "    <tr>\n",
       "      <th>450137</th>\n",
       "      <td>1800.552</td>\n",
       "      <td>hamilton_10</td>\n",
       "      <td>11.361379</td>\n",
       "      <td>-0.395402</td>\n",
       "      <td>7.006115</td>\n",
       "      <td>5.990697</td>\n",
       "      <td>5.370682</td>\n",
       "      <td>5.370682</td>\n",
       "      <td>5.370682</td>\n",
       "    </tr>\n",
       "    <tr>\n",
       "      <th>450138</th>\n",
       "      <td>1800.556</td>\n",
       "      <td>hamilton_10</td>\n",
       "      <td>-6.600269</td>\n",
       "      <td>0.370487</td>\n",
       "      <td>-4.161980</td>\n",
       "      <td>-3.463921</td>\n",
       "      <td>-3.136348</td>\n",
       "      <td>-3.136348</td>\n",
       "      <td>-3.136348</td>\n",
       "    </tr>\n",
       "    <tr>\n",
       "      <th>450139</th>\n",
       "      <td>1800.560</td>\n",
       "      <td>hamilton_10</td>\n",
       "      <td>4.253717</td>\n",
       "      <td>-0.163937</td>\n",
       "      <td>2.756916</td>\n",
       "      <td>2.282232</td>\n",
       "      <td>1.971485</td>\n",
       "      <td>1.971485</td>\n",
       "      <td>1.971485</td>\n",
       "    </tr>\n",
       "    <tr>\n",
       "      <th>450140</th>\n",
       "      <td>1800.564</td>\n",
       "      <td>hamilton_10</td>\n",
       "      <td>-2.696143</td>\n",
       "      <td>0.156762</td>\n",
       "      <td>-1.733351</td>\n",
       "      <td>-1.424244</td>\n",
       "      <td>-1.271899</td>\n",
       "      <td>-1.271899</td>\n",
       "      <td>-1.271899</td>\n",
       "    </tr>\n",
       "  </tbody>\n",
       "</table>\n",
       "<p>450141 rows × 9 columns</p>\n",
       "</div>"
      ],
      "text/plain": [
       "        timepoint_s session_name      eeg_fl      eeg_fr     eeg_occ  \\\n",
       "0             0.004  hamilton_10   22.085763  176.790808   76.566354   \n",
       "1             0.008  hamilton_10   52.738738  373.427408  188.506103   \n",
       "2             0.012  hamilton_10  109.471712  390.007112  226.876267   \n",
       "3             0.016  hamilton_10   91.307321  405.458417  205.055487   \n",
       "4             0.020  hamilton_10   99.025342  395.086781  188.916959   \n",
       "...             ...          ...         ...         ...         ...   \n",
       "450136     1800.548  hamilton_10  -28.485285    0.805060  -15.496281   \n",
       "450137     1800.552  hamilton_10   11.361379   -0.395402    7.006115   \n",
       "450138     1800.556  hamilton_10   -6.600269    0.370487   -4.161980   \n",
       "450139     1800.560  hamilton_10    4.253717   -0.163937    2.756916   \n",
       "450140     1800.564  hamilton_10   -2.696143    0.156762   -1.733351   \n",
       "\n",
       "               ref  eeg_fl_car  eeg_fr_car  eeg_occ_car  \n",
       "0        91.814308  -69.728545  -69.728545   -69.728545  \n",
       "1       204.890750 -152.152011 -152.152011  -152.152011  \n",
       "2       242.118364 -132.646652 -132.646652  -132.646652  \n",
       "3       233.940408 -142.633087 -142.633087  -142.633087  \n",
       "4       227.676361 -128.651018 -128.651018  -128.651018  \n",
       "...            ...         ...         ...          ...  \n",
       "450136  -14.392169  -14.093117  -14.093117   -14.093117  \n",
       "450137    5.990697    5.370682    5.370682     5.370682  \n",
       "450138   -3.463921   -3.136348   -3.136348    -3.136348  \n",
       "450139    2.282232    1.971485    1.971485     1.971485  \n",
       "450140   -1.424244   -1.271899   -1.271899    -1.271899  \n",
       "\n",
       "[450141 rows x 9 columns]"
      ]
     },
     "execution_count": 366,
     "metadata": {},
     "output_type": "execute_result"
    }
   ],
   "source": [
    "df"
   ]
  },
  {
   "cell_type": "code",
   "execution_count": 390,
   "metadata": {},
   "outputs": [
    {
     "data": {
      "image/png": "[encoded data removed]",
      "text/plain": [
       "<Figure size 288x288 with 1 Axes>"
      ]
     },
     "metadata": {
      "needs_background": "light"
     },
     "output_type": "display_data"
    }
   ],
   "source": [
    "\n",
    "f, ax = plt.subplots(figsize=(4, 4))\n",
    "f, Pxx_den = signal.welch(df.eeg_occ, 250, nperseg=1024)\n",
    "\n",
    "plt.semilogy(f, Pxx_den, color=\"black\", linewidth=2)\n",
    "plt.xlim(0.5, 40)\n",
    "sns.despine()\n",
    "plt.xlim([0, 10])\n",
    "\n",
    "plt.ylim([10, 10e4])\n",
    "plt.ylabel(\"PSD\\n$[\\mu V^2/0.5 Hz]$\", fontsize=15,)\n",
    "\n",
    "plt.savefig(fig_dir / \"stationary_eeg_occ.svg\")"
   ]
  },
  {
   "cell_type": "code",
   "execution_count": null,
   "metadata": {},
   "outputs": [],
   "source": [
    "f, ax = plt.subplots(figsize=(4, 4))\n",
    "f, Pxx_den = signal.welch(df.eeg_fr_car, 250, nperseg=1024)\n",
    "\n",
    "plt.semilogy(f, Pxx_den, color=\"black\", linewidth=2)\n",
    "plt.xlim(0.5, 40)\n",
    "sns.despine()\n",
    "plt.xlim([0, 10])\n",
    "\n",
    "plt.ylim([10, 10e4])\n",
    "plt.ylabel(\"PSD\\n$[\\mu V^2/0.5 Hz]$\", fontsize=15,)"
   ]
  },
  {
   "cell_type": "markdown",
   "metadata": {},
   "source": [
    "# Plot Time Frequency Data"
   ]
  },
  {
   "cell_type": "code",
   "execution_count": 356,
   "metadata": {},
   "outputs": [],
   "source": [
    "session = df_fft.session_name.unique()[1]\n",
    "\n",
    "df1 = (\n",
    "    df_fft\n",
    "    .loc[lambda x: x.session_name == session]\n",
    "    .loc[lambda x: (x.frequency >= 0.5) & (x.frequency < 8)]\n",
    ")"
   ]
  },
  {
   "cell_type": "code",
   "execution_count": 360,
   "metadata": {},
   "outputs": [
    {
     "data": {
      "image/png": "[encoded data removed]",
      "text/plain": [
       "<Figure size 720x360 with 2 Axes>"
      ]
     },
     "metadata": {
      "needs_background": "light"
     },
     "output_type": "display_data"
    }
   ],
   "source": [
    "dfp = (\n",
    "    df1\n",
    "    .loc[lambda x: x.signal_name == \"eeg_occ\"]\n",
    "    .loc[lambda x: (x.timepoint_s >= 10 * 60) & (x.timepoint_s < 30 * 60)]\n",
    ")\n",
    "\n",
    "frequency_heatmap(dfp, frequency_col=\"frequency\", \n",
    "                      data_col=\"fft_value\", \n",
    "                      time_col=\"timepoint_s\",\n",
    "                      vmin=-7.5, vmax=7.5,\n",
    "                      sigma=2,\n",
    "                      figsize=(10, 5),\n",
    "                      zscore_norm=False,\n",
    "                      db_norm=True,\n",
    "                      ax=None, \n",
    "                      imshow_kwargs=None\n",
    "                     )\n",
    "plt.savefig(fig_dir / \"timefrequency.svg\")"
   ]
  },
  {
   "cell_type": "code",
   "execution_count": 17,
   "metadata": {},
   "outputs": [
    {
     "data": {
      "text/html": [
       "<div>\n",
       "<style scoped>\n",
       "    .dataframe tbody tr th:only-of-type {\n",
       "        vertical-align: middle;\n",
       "    }\n",
       "\n",
       "    .dataframe tbody tr th {\n",
       "        vertical-align: top;\n",
       "    }\n",
       "\n",
       "    .dataframe thead th {\n",
       "        text-align: right;\n",
       "    }\n",
       "</style>\n",
       "<table border=\"1\" class=\"dataframe\">\n",
       "  <thead>\n",
       "    <tr style=\"text-align: right;\">\n",
       "      <th></th>\n",
       "      <th>frequency</th>\n",
       "      <th>fft_value</th>\n",
       "      <th>session_name</th>\n",
       "      <th>signal_name</th>\n",
       "      <th>timepoint_s</th>\n",
       "      <th>group_name</th>\n",
       "    </tr>\n",
       "  </thead>\n",
       "  <tbody>\n",
       "    <tr>\n",
       "      <th>0</th>\n",
       "      <td>0.0</td>\n",
       "      <td>6.800059</td>\n",
       "      <td>acute_15</td>\n",
       "      <td>eeg_fr</td>\n",
       "      <td>2.0</td>\n",
       "      <td>acute_saline</td>\n",
       "    </tr>\n",
       "    <tr>\n",
       "      <th>1</th>\n",
       "      <td>0.0</td>\n",
       "      <td>255.546662</td>\n",
       "      <td>acute_15</td>\n",
       "      <td>eeg_fr</td>\n",
       "      <td>4.0</td>\n",
       "      <td>acute_saline</td>\n",
       "    </tr>\n",
       "    <tr>\n",
       "      <th>2</th>\n",
       "      <td>0.0</td>\n",
       "      <td>102.846310</td>\n",
       "      <td>acute_15</td>\n",
       "      <td>eeg_fr</td>\n",
       "      <td>6.0</td>\n",
       "      <td>acute_saline</td>\n",
       "    </tr>\n",
       "    <tr>\n",
       "      <th>3</th>\n",
       "      <td>0.0</td>\n",
       "      <td>213.964265</td>\n",
       "      <td>acute_15</td>\n",
       "      <td>eeg_fr</td>\n",
       "      <td>8.0</td>\n",
       "      <td>acute_saline</td>\n",
       "    </tr>\n",
       "    <tr>\n",
       "      <th>4</th>\n",
       "      <td>0.0</td>\n",
       "      <td>298.966096</td>\n",
       "      <td>acute_15</td>\n",
       "      <td>eeg_fr</td>\n",
       "      <td>10.0</td>\n",
       "      <td>acute_saline</td>\n",
       "    </tr>\n",
       "    <tr>\n",
       "      <th>...</th>\n",
       "      <td>...</td>\n",
       "      <td>...</td>\n",
       "      <td>...</td>\n",
       "      <td>...</td>\n",
       "      <td>...</td>\n",
       "      <td>...</td>\n",
       "    </tr>\n",
       "    <tr>\n",
       "      <th>39289417</th>\n",
       "      <td>125.0</td>\n",
       "      <td>0.140906</td>\n",
       "      <td>hamilton_32</td>\n",
       "      <td>eeg_fr</td>\n",
       "      <td>1794.0</td>\n",
       "      <td>acute_sal</td>\n",
       "    </tr>\n",
       "    <tr>\n",
       "      <th>39289418</th>\n",
       "      <td>125.0</td>\n",
       "      <td>0.070273</td>\n",
       "      <td>hamilton_32</td>\n",
       "      <td>eeg_fr</td>\n",
       "      <td>1796.0</td>\n",
       "      <td>acute_sal</td>\n",
       "    </tr>\n",
       "    <tr>\n",
       "      <th>39289419</th>\n",
       "      <td>125.0</td>\n",
       "      <td>0.052067</td>\n",
       "      <td>hamilton_32</td>\n",
       "      <td>eeg_fr</td>\n",
       "      <td>1798.0</td>\n",
       "      <td>acute_sal</td>\n",
       "    </tr>\n",
       "    <tr>\n",
       "      <th>39289420</th>\n",
       "      <td>125.0</td>\n",
       "      <td>0.173253</td>\n",
       "      <td>hamilton_32</td>\n",
       "      <td>eeg_fr</td>\n",
       "      <td>1800.0</td>\n",
       "      <td>acute_sal</td>\n",
       "    </tr>\n",
       "    <tr>\n",
       "      <th>39289421</th>\n",
       "      <td>125.0</td>\n",
       "      <td>0.484383</td>\n",
       "      <td>hamilton_32</td>\n",
       "      <td>eeg_fr</td>\n",
       "      <td>1802.0</td>\n",
       "      <td>acute_sal</td>\n",
       "    </tr>\n",
       "  </tbody>\n",
       "</table>\n",
       "<p>39289422 rows × 6 columns</p>\n",
       "</div>"
      ],
      "text/plain": [
       "          frequency   fft_value session_name signal_name  timepoint_s  \\\n",
       "0               0.0    6.800059     acute_15      eeg_fr          2.0   \n",
       "1               0.0  255.546662     acute_15      eeg_fr          4.0   \n",
       "2               0.0  102.846310     acute_15      eeg_fr          6.0   \n",
       "3               0.0  213.964265     acute_15      eeg_fr          8.0   \n",
       "4               0.0  298.966096     acute_15      eeg_fr         10.0   \n",
       "...             ...         ...          ...         ...          ...   \n",
       "39289417      125.0    0.140906  hamilton_32      eeg_fr       1794.0   \n",
       "39289418      125.0    0.070273  hamilton_32      eeg_fr       1796.0   \n",
       "39289419      125.0    0.052067  hamilton_32      eeg_fr       1798.0   \n",
       "39289420      125.0    0.173253  hamilton_32      eeg_fr       1800.0   \n",
       "39289421      125.0    0.484383  hamilton_32      eeg_fr       1802.0   \n",
       "\n",
       "            group_name  \n",
       "0         acute_saline  \n",
       "1         acute_saline  \n",
       "2         acute_saline  \n",
       "3         acute_saline  \n",
       "4         acute_saline  \n",
       "...                ...  \n",
       "39289417     acute_sal  \n",
       "39289418     acute_sal  \n",
       "39289419     acute_sal  \n",
       "39289420     acute_sal  \n",
       "39289421     acute_sal  \n",
       "\n",
       "[39289422 rows x 6 columns]"
      ]
     },
     "execution_count": 17,
     "metadata": {},
     "output_type": "execute_result"
    }
   ],
   "source": [
    "df_fft"
   ]
  },
  {
   "cell_type": "code",
   "execution_count": null,
   "metadata": {},
   "outputs": [],
   "source": []
  }
 ],
 "metadata": {
  "kernelspec": {
   "display_name": "Python 3",
   "language": "python",
   "name": "python3"
  },
  "language_info": {
   "codemirror_mode": {
    "name": "ipython",
    "version": 3
   },
   "file_extension": ".py",
   "mimetype": "text/x-python",
   "name": "python",
   "nbconvert_exporter": "python",
   "pygments_lexer": "ipython3",
   "version": "3.8.2"
  }
 },
 "nbformat": 4,
 "nbformat_minor": 4
}
