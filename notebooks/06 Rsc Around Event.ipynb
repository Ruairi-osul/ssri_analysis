{
 "cells": [
  {
   "cell_type": "code",
   "execution_count": 1,
   "metadata": {},
   "outputs": [],
   "source": [
    "import pandas as pd\n",
    "import numpy as np\n",
    "from pathlib import Path"
   ]
  },
  {
   "cell_type": "code",
   "execution_count": 2,
   "metadata": {},
   "outputs": [],
   "source": [
    "from dotenv import load_dotenv\n",
    "from ephys_queries import db_setup_core, select_spike_times, select_discrete_data\n",
    "from spiketimes.df.binning import spike_count_around_event_by"
   ]
  },
  {
   "cell_type": "code",
   "execution_count": 3,
   "metadata": {},
   "outputs": [],
   "source": [
    "data_dir = Path(\".\").absolute().parent / \"data\"\n",
    "fig_dir = Path(\".\").absolute().parent / \"figs\""
   ]
  },
  {
   "cell_type": "code",
   "execution_count": 4,
   "metadata": {},
   "outputs": [],
   "source": [
    "dfb = pd.read_csv(data_dir / \"baseline.csv\")"
   ]
  },
  {
   "cell_type": "code",
   "execution_count": 5,
   "metadata": {},
   "outputs": [],
   "source": [
    "group_names = [\"acute_citalopram\", \n",
    "            \"acute_saline\", \n",
    "            \"shock\", \n",
    "            \"sham\", \n",
    "            \"acute_cit\", \n",
    "            \"acute_sal\"]\n",
    "\n",
    "block_name = \"base_shock\"\n",
    "fs = 30000\n",
    "load_dotenv()\n",
    "engine, metadata = db_setup_core()\n",
    "\n",
    "df_spikes = (\n",
    "    select_spike_times(\n",
    "            engine, \n",
    "            metadata,\n",
    "            group_names=group_names,\n",
    "            block_name=block_name,\n",
    "            )\n",
    "    .assign(spiketimes=lambda x: x[\"spike_time_samples\"].divide(fs))\n",
    "    .merge(dfb[[\"neuron_id\", \"session_name\"]])\n",
    ")\n",
    "\n",
    "df_events = (\n",
    "    select_discrete_data(\n",
    "            engine,\n",
    "            metadata,\n",
    "            group_names=group_names,\n",
    "            block_name=block_name\n",
    "    )\n",
    "    .assign(event_s= lambda x: x[\"timepoint_sample\"].divide(fs))\n",
    ")"
   ]
  },
  {
   "cell_type": "code",
   "execution_count": 6,
   "metadata": {},
   "outputs": [],
   "source": [
    "df_spikes = df_spikes.groupby(\"neuron_id\").filter(lambda x: len(x) >= 1000)"
   ]
  },
  {
   "cell_type": "code",
   "execution_count": 7,
   "metadata": {},
   "outputs": [],
   "source": [
    "df_counts =spike_count_around_event_by(\n",
    "    df_data=df_spikes,\n",
    "    binsize=0.35,\n",
    "    df_data_data_colname=\"spiketimes\",\n",
    "    df_data_group_colname=\"session_name\",\n",
    "    df_data_spiketrain_colname=\"neuron_id\",\n",
    "    df_events=df_events,\n",
    "    df_events_event_colname=\"event_s\",\n",
    "    df_events_group_colname=\"session_name\"\n",
    ")"
   ]
  },
  {
   "cell_type": "code",
   "execution_count": 8,
   "metadata": {},
   "outputs": [],
   "source": [
    "df = df_counts\n",
    "spiketrain_col = \"neuron_id\"\n",
    "data_col = \"counts\""
   ]
  },
  {
   "cell_type": "code",
   "execution_count": 9,
   "metadata": {},
   "outputs": [],
   "source": [
    "from itertools import combinations\n",
    "from scipy.stats import pearsonr\n",
    "from spiketimes.utils import p_adjust\n",
    "\n",
    "def pearson_r(\n",
    "    df, \n",
    "    spiketrain_col=\"spiketrain\", \n",
    "    data_col=\"counts\", \n",
    "    group_col=\"session_name\",\n",
    "    adjust_p=True,\n",
    "    p_adjust_method=\"Benjamini-Hochberg\"\n",
    "):\n",
    "    \"\"\"\n",
    "    Calculate pearson's correlation coefficent between all pairs of\n",
    "    simultaneously-recorded spiketrains.\n",
    "    \"\"\"\n",
    "    frames = []\n",
    "    sessions= df[group_col].unique()\n",
    "    for session in sessions:\n",
    "        df1 = (\n",
    "            df\n",
    "            .loc[df_counts[group_col] == session]\n",
    "        )\n",
    "        st_ids = df1[spiketrain_col].unique()\n",
    "        combs = list(combinations(st_ids, r=2))\n",
    "        res = list(map(\n",
    "            lambda x: (x[0], x[1], *pearsonr(df1[df1[spiketrain_col] == x[0]][data_col].values, \n",
    "                                        df1[df1[spiketrain_col] == x[1]][data_col].values)),\n",
    "            combs\n",
    "        ))\n",
    "        frames.append(\n",
    "            pd.DataFrame(res, \n",
    "                         columns=[\"spiketrain_1\", \"spiketrain_2\", \"r\", \"p\"]\n",
    "                        ).assign(**{group_col:session})\n",
    "        )\n",
    "    df_res = pd.concat(frames)\n",
    "    if adjust_p:\n",
    "        df_res.p = p_adjust(df_res.p)\n",
    "    return df_res"
   ]
  },
  {
   "cell_type": "code",
   "execution_count": 10,
   "metadata": {},
   "outputs": [],
   "source": [
    "df_res = pearson_r(df_counts, spiketrain_col=\"neuron_id\", data_col=\"counts\",\n",
    "         group_col=\"session_name\", adjust_p=True)"
   ]
  },
  {
   "cell_type": "code",
   "execution_count": 17,
   "metadata": {},
   "outputs": [
    {
     "data": {
      "text/plain": [
       "0.12925696594427244"
      ]
     },
     "execution_count": 17,
     "metadata": {},
     "output_type": "execute_result"
    }
   ],
   "source": [
    "(df_res[\"p\"] < 0.05).mean()"
   ]
  },
  {
   "cell_type": "code",
   "execution_count": 13,
   "metadata": {},
   "outputs": [
    {
     "data": {
      "text/html": [
       "<div>\n",
       "<style scoped>\n",
       "    .dataframe tbody tr th:only-of-type {\n",
       "        vertical-align: middle;\n",
       "    }\n",
       "\n",
       "    .dataframe tbody tr th {\n",
       "        vertical-align: top;\n",
       "    }\n",
       "\n",
       "    .dataframe thead th {\n",
       "        text-align: right;\n",
       "    }\n",
       "</style>\n",
       "<table border=\"1\" class=\"dataframe\">\n",
       "  <thead>\n",
       "    <tr style=\"text-align: right;\">\n",
       "      <th></th>\n",
       "      <th>spiketrain_1</th>\n",
       "      <th>spiketrain_2</th>\n",
       "      <th>r</th>\n",
       "      <th>p</th>\n",
       "      <th>session_name</th>\n",
       "    </tr>\n",
       "  </thead>\n",
       "  <tbody>\n",
       "    <tr>\n",
       "      <th>0</th>\n",
       "      <td>1031</td>\n",
       "      <td>1032</td>\n",
       "      <td>-0.079629</td>\n",
       "      <td>0.492431</td>\n",
       "      <td>hamilton_04</td>\n",
       "    </tr>\n",
       "    <tr>\n",
       "      <th>1</th>\n",
       "      <td>1031</td>\n",
       "      <td>1034</td>\n",
       "      <td>0.118597</td>\n",
       "      <td>0.226206</td>\n",
       "      <td>hamilton_04</td>\n",
       "    </tr>\n",
       "    <tr>\n",
       "      <th>2</th>\n",
       "      <td>1031</td>\n",
       "      <td>1044</td>\n",
       "      <td>0.140891</td>\n",
       "      <td>0.124758</td>\n",
       "      <td>hamilton_04</td>\n",
       "    </tr>\n",
       "    <tr>\n",
       "      <th>3</th>\n",
       "      <td>1031</td>\n",
       "      <td>1046</td>\n",
       "      <td>0.196204</td>\n",
       "      <td>0.014103</td>\n",
       "      <td>hamilton_04</td>\n",
       "    </tr>\n",
       "    <tr>\n",
       "      <th>4</th>\n",
       "      <td>1031</td>\n",
       "      <td>1049</td>\n",
       "      <td>0.131286</td>\n",
       "      <td>0.164949</td>\n",
       "      <td>hamilton_04</td>\n",
       "    </tr>\n",
       "    <tr>\n",
       "      <th>...</th>\n",
       "      <td>...</td>\n",
       "      <td>...</td>\n",
       "      <td>...</td>\n",
       "      <td>...</td>\n",
       "      <td>...</td>\n",
       "    </tr>\n",
       "    <tr>\n",
       "      <th>185</th>\n",
       "      <td>1998</td>\n",
       "      <td>2002</td>\n",
       "      <td>0.040728</td>\n",
       "      <td>0.738131</td>\n",
       "      <td>hamilton_32</td>\n",
       "    </tr>\n",
       "    <tr>\n",
       "      <th>186</th>\n",
       "      <td>1998</td>\n",
       "      <td>2003</td>\n",
       "      <td>0.006937</td>\n",
       "      <td>0.970017</td>\n",
       "      <td>hamilton_32</td>\n",
       "    </tr>\n",
       "    <tr>\n",
       "      <th>187</th>\n",
       "      <td>1999</td>\n",
       "      <td>2002</td>\n",
       "      <td>-0.003888</td>\n",
       "      <td>0.982744</td>\n",
       "      <td>hamilton_32</td>\n",
       "    </tr>\n",
       "    <tr>\n",
       "      <th>188</th>\n",
       "      <td>1999</td>\n",
       "      <td>2003</td>\n",
       "      <td>0.034006</td>\n",
       "      <td>0.784471</td>\n",
       "      <td>hamilton_32</td>\n",
       "    </tr>\n",
       "    <tr>\n",
       "      <th>189</th>\n",
       "      <td>2002</td>\n",
       "      <td>2003</td>\n",
       "      <td>0.105234</td>\n",
       "      <td>0.267062</td>\n",
       "      <td>hamilton_32</td>\n",
       "    </tr>\n",
       "  </tbody>\n",
       "</table>\n",
       "<p>2584 rows × 5 columns</p>\n",
       "</div>"
      ],
      "text/plain": [
       "     spiketrain_1  spiketrain_2         r         p session_name\n",
       "0            1031          1032 -0.079629  0.492431  hamilton_04\n",
       "1            1031          1034  0.118597  0.226206  hamilton_04\n",
       "2            1031          1044  0.140891  0.124758  hamilton_04\n",
       "3            1031          1046  0.196204  0.014103  hamilton_04\n",
       "4            1031          1049  0.131286  0.164949  hamilton_04\n",
       "..            ...           ...       ...       ...          ...\n",
       "185          1998          2002  0.040728  0.738131  hamilton_32\n",
       "186          1998          2003  0.006937  0.970017  hamilton_32\n",
       "187          1999          2002 -0.003888  0.982744  hamilton_32\n",
       "188          1999          2003  0.034006  0.784471  hamilton_32\n",
       "189          2002          2003  0.105234  0.267062  hamilton_32\n",
       "\n",
       "[2584 rows x 5 columns]"
      ]
     },
     "execution_count": 13,
     "metadata": {},
     "output_type": "execute_result"
    }
   ],
   "source": [
    "df_res"
   ]
  },
  {
   "cell_type": "code",
   "execution_count": 14,
   "metadata": {},
   "outputs": [],
   "source": [
    "df_done = (\n",
    "    df_res\n",
    "    .merge(dfb[[\"neuron_id\", \"cluster\"]], left_on=\"spiketrain_1\", right_on=\"neuron_id\")\n",
    "    .drop(\"neuron_id\", axis=1)\n",
    "    .rename(columns={\"cluster\": \"spiketrain_1_cluster\"})\n",
    "    .merge(dfb[[\"neuron_id\", \"cluster\"]], left_on=\"spiketrain_2\", right_on=\"neuron_id\")\n",
    "    .drop(\"neuron_id\", axis=1)\n",
    "    .rename(columns={\"cluster\": \"spiketrain_2_cluster\"})\n",
    "    .assign(has_sr=lambda x: \n",
    "                x.apply(lambda y: (y.spiketrain_1_cluster == \"slow_regular\") or (y.spiketrain_2_cluster== \"slow_regular\"),\n",
    "                       axis=1),\n",
    "            has_sir=lambda x: \n",
    "                x.apply(lambda y: (y.spiketrain_1_cluster == \"slow_irregular\") or (y.spiketrain_2_cluster== \"slow_irregular\"),\n",
    "                       axis=1),\n",
    "            has_ff=lambda x: \n",
    "                x.apply(lambda y: (y.spiketrain_1_cluster == \"fast_firing\") or (y.spiketrain_2_cluster== \"fast_firing\"),\n",
    "                       axis=1)\n",
    "           )\n",
    "    .assign(comb= lambda x: x.apply(lambda y: \n",
    "                                    \"sr_sr\" if y.has_sr and (not y.has_sir) and (not y.has_ff)\n",
    "                                   else \"sr_sir\" if y.has_sr and y.has_sir and (not y.has_ff)\n",
    "                                   else \"sr_ff\" if y.has_sr and (not y.has_sir) and y.has_ff\n",
    "                                   else \"sir_sir\" if (not y.has_sr) and y.has_sir and (not y.has_ff)\n",
    "                                   else \"sir_ff\" if (not y.has_sr) and y.has_sir and y.has_ff\n",
    "                                   else \"ff_ff\", axis=1\n",
    "                                   ))\n",
    ")"
   ]
  },
  {
   "cell_type": "code",
   "execution_count": 18,
   "metadata": {},
   "outputs": [
    {
     "data": {
      "text/plain": [
       "0.12925696594427244"
      ]
     },
     "execution_count": 18,
     "metadata": {},
     "output_type": "execute_result"
    }
   ],
   "source": [
    "(df_done[\"p\"] < 0.05).mean()"
   ]
  },
  {
   "cell_type": "code",
   "execution_count": 16,
   "metadata": {},
   "outputs": [],
   "source": [
    "df_done.to_csv(data_dir / \"evoked_rsc.csv\", index=False)"
   ]
  },
  {
   "cell_type": "code",
   "execution_count": null,
   "metadata": {},
   "outputs": [],
   "source": []
  }
 ],
 "metadata": {
  "kernelspec": {
   "display_name": "Python 3",
   "language": "python",
   "name": "python3"
  },
  "language_info": {
   "codemirror_mode": {
    "name": "ipython",
    "version": 3
   },
   "file_extension": ".py",
   "mimetype": "text/x-python",
   "name": "python",
   "nbconvert_exporter": "python",
   "pygments_lexer": "ipython3",
   "version": "3.8.2"
  }
 },
 "nbformat": 4,
 "nbformat_minor": 4
}
